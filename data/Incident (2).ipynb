{
 "cells": [
  {
   "cell_type": "code",
   "execution_count": 241,
   "metadata": {
    "id": "43bc987f"
   },
   "outputs": [],
   "source": [
    "import pandas as pd\n",
    "import numpy as np\n",
    "from sklearn.metrics import mean_squared_error as er"
   ]
  },
  {
   "cell_type": "code",
   "execution_count": 242,
   "metadata": {
    "id": "03ff7ee3"
   },
   "outputs": [],
   "source": [
    "df = pd.read_csv(\"incident_event_log.csv\")"
   ]
  },
  {
   "cell_type": "code",
   "execution_count": 243,
   "metadata": {
    "colab": {
     "base_uri": "https://localhost:8080/",
     "height": 259
    },
    "id": "1c552af1",
    "outputId": "a6b4289e-7fee-4038-fc4e-a3da8a0e001f"
   },
   "outputs": [
    {
     "data": {
      "text/html": [
       "<div>\n",
       "<style scoped>\n",
       "    .dataframe tbody tr th:only-of-type {\n",
       "        vertical-align: middle;\n",
       "    }\n",
       "\n",
       "    .dataframe tbody tr th {\n",
       "        vertical-align: top;\n",
       "    }\n",
       "\n",
       "    .dataframe thead th {\n",
       "        text-align: right;\n",
       "    }\n",
       "</style>\n",
       "<table border=\"1\" class=\"dataframe\">\n",
       "  <thead>\n",
       "    <tr style=\"text-align: right;\">\n",
       "      <th></th>\n",
       "      <th>number</th>\n",
       "      <th>incident_state</th>\n",
       "      <th>active</th>\n",
       "      <th>reassignment_count</th>\n",
       "      <th>reopen_count</th>\n",
       "      <th>sys_mod_count</th>\n",
       "      <th>made_sla</th>\n",
       "      <th>caller_id</th>\n",
       "      <th>opened_by</th>\n",
       "      <th>opened_at</th>\n",
       "      <th>...</th>\n",
       "      <th>u_priority_confirmation</th>\n",
       "      <th>notify</th>\n",
       "      <th>problem_id</th>\n",
       "      <th>rfc</th>\n",
       "      <th>vendor</th>\n",
       "      <th>caused_by</th>\n",
       "      <th>closed_code</th>\n",
       "      <th>resolved_by</th>\n",
       "      <th>resolved_at</th>\n",
       "      <th>closed_at</th>\n",
       "    </tr>\n",
       "  </thead>\n",
       "  <tbody>\n",
       "    <tr>\n",
       "      <th>0</th>\n",
       "      <td>INC0000045</td>\n",
       "      <td>New</td>\n",
       "      <td>True</td>\n",
       "      <td>0</td>\n",
       "      <td>0</td>\n",
       "      <td>0</td>\n",
       "      <td>True</td>\n",
       "      <td>Caller 2403</td>\n",
       "      <td>Opened by  8</td>\n",
       "      <td>29/2/2016 01:16</td>\n",
       "      <td>...</td>\n",
       "      <td>False</td>\n",
       "      <td>Do Not Notify</td>\n",
       "      <td>?</td>\n",
       "      <td>?</td>\n",
       "      <td>?</td>\n",
       "      <td>?</td>\n",
       "      <td>code 5</td>\n",
       "      <td>Resolved by 149</td>\n",
       "      <td>29/2/2016 11:29</td>\n",
       "      <td>5/3/2016 12:00</td>\n",
       "    </tr>\n",
       "    <tr>\n",
       "      <th>1</th>\n",
       "      <td>INC0000045</td>\n",
       "      <td>Resolved</td>\n",
       "      <td>True</td>\n",
       "      <td>0</td>\n",
       "      <td>0</td>\n",
       "      <td>2</td>\n",
       "      <td>True</td>\n",
       "      <td>Caller 2403</td>\n",
       "      <td>Opened by  8</td>\n",
       "      <td>29/2/2016 01:16</td>\n",
       "      <td>...</td>\n",
       "      <td>False</td>\n",
       "      <td>Do Not Notify</td>\n",
       "      <td>?</td>\n",
       "      <td>?</td>\n",
       "      <td>?</td>\n",
       "      <td>?</td>\n",
       "      <td>code 5</td>\n",
       "      <td>Resolved by 149</td>\n",
       "      <td>29/2/2016 11:29</td>\n",
       "      <td>5/3/2016 12:00</td>\n",
       "    </tr>\n",
       "    <tr>\n",
       "      <th>2</th>\n",
       "      <td>INC0000045</td>\n",
       "      <td>Resolved</td>\n",
       "      <td>True</td>\n",
       "      <td>0</td>\n",
       "      <td>0</td>\n",
       "      <td>3</td>\n",
       "      <td>True</td>\n",
       "      <td>Caller 2403</td>\n",
       "      <td>Opened by  8</td>\n",
       "      <td>29/2/2016 01:16</td>\n",
       "      <td>...</td>\n",
       "      <td>False</td>\n",
       "      <td>Do Not Notify</td>\n",
       "      <td>?</td>\n",
       "      <td>?</td>\n",
       "      <td>?</td>\n",
       "      <td>?</td>\n",
       "      <td>code 5</td>\n",
       "      <td>Resolved by 149</td>\n",
       "      <td>29/2/2016 11:29</td>\n",
       "      <td>5/3/2016 12:00</td>\n",
       "    </tr>\n",
       "  </tbody>\n",
       "</table>\n",
       "<p>3 rows × 36 columns</p>\n",
       "</div>"
      ],
      "text/plain": [
       "       number incident_state  active  reassignment_count  reopen_count  \\\n",
       "0  INC0000045            New    True                   0             0   \n",
       "1  INC0000045       Resolved    True                   0             0   \n",
       "2  INC0000045       Resolved    True                   0             0   \n",
       "\n",
       "   sys_mod_count  made_sla    caller_id     opened_by        opened_at  ...  \\\n",
       "0              0      True  Caller 2403  Opened by  8  29/2/2016 01:16  ...   \n",
       "1              2      True  Caller 2403  Opened by  8  29/2/2016 01:16  ...   \n",
       "2              3      True  Caller 2403  Opened by  8  29/2/2016 01:16  ...   \n",
       "\n",
       "  u_priority_confirmation         notify problem_id rfc vendor caused_by  \\\n",
       "0                   False  Do Not Notify          ?   ?      ?         ?   \n",
       "1                   False  Do Not Notify          ?   ?      ?         ?   \n",
       "2                   False  Do Not Notify          ?   ?      ?         ?   \n",
       "\n",
       "  closed_code      resolved_by      resolved_at       closed_at  \n",
       "0      code 5  Resolved by 149  29/2/2016 11:29  5/3/2016 12:00  \n",
       "1      code 5  Resolved by 149  29/2/2016 11:29  5/3/2016 12:00  \n",
       "2      code 5  Resolved by 149  29/2/2016 11:29  5/3/2016 12:00  \n",
       "\n",
       "[3 rows x 36 columns]"
      ]
     },
     "execution_count": 243,
     "metadata": {},
     "output_type": "execute_result"
    }
   ],
   "source": [
    "df.head(3)"
   ]
  },
  {
   "cell_type": "code",
   "execution_count": 244,
   "metadata": {
    "colab": {
     "base_uri": "https://localhost:8080/"
    },
    "id": "24232f6d",
    "outputId": "8476a671-a035-4d7e-bb88-89c97bc9f5ef"
   },
   "outputs": [
    {
     "data": {
      "text/plain": [
       "Index(['number', 'incident_state', 'active', 'reassignment_count',\n",
       "       'reopen_count', 'sys_mod_count', 'made_sla', 'caller_id', 'opened_by',\n",
       "       'opened_at', 'sys_created_by', 'sys_created_at', 'sys_updated_by',\n",
       "       'sys_updated_at', 'contact_type', 'location', 'category', 'subcategory',\n",
       "       'u_symptom', 'cmdb_ci', 'impact', 'urgency', 'priority',\n",
       "       'assignment_group', 'assigned_to', 'knowledge',\n",
       "       'u_priority_confirmation', 'notify', 'problem_id', 'rfc', 'vendor',\n",
       "       'caused_by', 'closed_code', 'resolved_by', 'resolved_at', 'closed_at'],\n",
       "      dtype='object')"
      ]
     },
     "execution_count": 244,
     "metadata": {},
     "output_type": "execute_result"
    }
   ],
   "source": [
    "df.columns"
   ]
  },
  {
   "cell_type": "code",
   "execution_count": 245,
   "metadata": {
    "id": "92891e6c"
   },
   "outputs": [],
   "source": [
    "not_needed = ['location','assignment_group','assigned_to','caller_id','opened_by','sys_created_by','sys_updated_by','cmdb_ci','problem_id','rfc','vendor','closed_code','resolved_by','caused_by','resolved_by','u_priority_confirmation','notify','sys_mod_count','reassignment_count','urgency']"
   ]
  },
  {
   "cell_type": "code",
   "execution_count": 246,
   "metadata": {
    "colab": {
     "base_uri": "https://localhost:8080/"
    },
    "id": "5371686a",
    "outputId": "2c75a660-88ef-4de7-c325-3a804ddcb0bf"
   },
   "outputs": [
    {
     "data": {
      "text/plain": [
       "20"
      ]
     },
     "execution_count": 246,
     "metadata": {},
     "output_type": "execute_result"
    }
   ],
   "source": [
    "len(not_needed)"
   ]
  },
  {
   "cell_type": "code",
   "execution_count": 247,
   "metadata": {
    "colab": {
     "base_uri": "https://localhost:8080/",
     "height": 661
    },
    "id": "20c9fbb1",
    "outputId": "c7d2a17e-2983-4f3a-b533-e90e674be6fd"
   },
   "outputs": [
    {
     "data": {
      "text/html": [
       "<div>\n",
       "<style scoped>\n",
       "    .dataframe tbody tr th:only-of-type {\n",
       "        vertical-align: middle;\n",
       "    }\n",
       "\n",
       "    .dataframe tbody tr th {\n",
       "        vertical-align: top;\n",
       "    }\n",
       "\n",
       "    .dataframe thead th {\n",
       "        text-align: right;\n",
       "    }\n",
       "</style>\n",
       "<table border=\"1\" class=\"dataframe\">\n",
       "  <thead>\n",
       "    <tr style=\"text-align: right;\">\n",
       "      <th></th>\n",
       "      <th>location</th>\n",
       "      <th>assignment_group</th>\n",
       "      <th>assigned_to</th>\n",
       "      <th>caller_id</th>\n",
       "      <th>opened_by</th>\n",
       "      <th>sys_created_by</th>\n",
       "      <th>sys_updated_by</th>\n",
       "      <th>cmdb_ci</th>\n",
       "      <th>problem_id</th>\n",
       "      <th>rfc</th>\n",
       "      <th>vendor</th>\n",
       "      <th>closed_code</th>\n",
       "      <th>resolved_by</th>\n",
       "      <th>caused_by</th>\n",
       "      <th>resolved_by</th>\n",
       "      <th>u_priority_confirmation</th>\n",
       "      <th>notify</th>\n",
       "      <th>sys_mod_count</th>\n",
       "      <th>reassignment_count</th>\n",
       "      <th>urgency</th>\n",
       "    </tr>\n",
       "  </thead>\n",
       "  <tbody>\n",
       "    <tr>\n",
       "      <th>0</th>\n",
       "      <td>Location 143</td>\n",
       "      <td>Group 56</td>\n",
       "      <td>?</td>\n",
       "      <td>Caller 2403</td>\n",
       "      <td>Opened by  8</td>\n",
       "      <td>Created by 6</td>\n",
       "      <td>Updated by 21</td>\n",
       "      <td>?</td>\n",
       "      <td>?</td>\n",
       "      <td>?</td>\n",
       "      <td>?</td>\n",
       "      <td>code 5</td>\n",
       "      <td>Resolved by 149</td>\n",
       "      <td>?</td>\n",
       "      <td>Resolved by 149</td>\n",
       "      <td>False</td>\n",
       "      <td>Do Not Notify</td>\n",
       "      <td>0</td>\n",
       "      <td>0</td>\n",
       "      <td>2 - Medium</td>\n",
       "    </tr>\n",
       "    <tr>\n",
       "      <th>1</th>\n",
       "      <td>Location 143</td>\n",
       "      <td>Group 56</td>\n",
       "      <td>?</td>\n",
       "      <td>Caller 2403</td>\n",
       "      <td>Opened by  8</td>\n",
       "      <td>Created by 6</td>\n",
       "      <td>Updated by 642</td>\n",
       "      <td>?</td>\n",
       "      <td>?</td>\n",
       "      <td>?</td>\n",
       "      <td>?</td>\n",
       "      <td>code 5</td>\n",
       "      <td>Resolved by 149</td>\n",
       "      <td>?</td>\n",
       "      <td>Resolved by 149</td>\n",
       "      <td>False</td>\n",
       "      <td>Do Not Notify</td>\n",
       "      <td>2</td>\n",
       "      <td>0</td>\n",
       "      <td>2 - Medium</td>\n",
       "    </tr>\n",
       "    <tr>\n",
       "      <th>2</th>\n",
       "      <td>Location 143</td>\n",
       "      <td>Group 56</td>\n",
       "      <td>?</td>\n",
       "      <td>Caller 2403</td>\n",
       "      <td>Opened by  8</td>\n",
       "      <td>Created by 6</td>\n",
       "      <td>Updated by 804</td>\n",
       "      <td>?</td>\n",
       "      <td>?</td>\n",
       "      <td>?</td>\n",
       "      <td>?</td>\n",
       "      <td>code 5</td>\n",
       "      <td>Resolved by 149</td>\n",
       "      <td>?</td>\n",
       "      <td>Resolved by 149</td>\n",
       "      <td>False</td>\n",
       "      <td>Do Not Notify</td>\n",
       "      <td>3</td>\n",
       "      <td>0</td>\n",
       "      <td>2 - Medium</td>\n",
       "    </tr>\n",
       "    <tr>\n",
       "      <th>3</th>\n",
       "      <td>Location 143</td>\n",
       "      <td>Group 56</td>\n",
       "      <td>?</td>\n",
       "      <td>Caller 2403</td>\n",
       "      <td>Opened by  8</td>\n",
       "      <td>Created by 6</td>\n",
       "      <td>Updated by 908</td>\n",
       "      <td>?</td>\n",
       "      <td>?</td>\n",
       "      <td>?</td>\n",
       "      <td>?</td>\n",
       "      <td>code 5</td>\n",
       "      <td>Resolved by 149</td>\n",
       "      <td>?</td>\n",
       "      <td>Resolved by 149</td>\n",
       "      <td>False</td>\n",
       "      <td>Do Not Notify</td>\n",
       "      <td>4</td>\n",
       "      <td>0</td>\n",
       "      <td>2 - Medium</td>\n",
       "    </tr>\n",
       "    <tr>\n",
       "      <th>4</th>\n",
       "      <td>Location 165</td>\n",
       "      <td>Group 70</td>\n",
       "      <td>Resolver 89</td>\n",
       "      <td>Caller 2403</td>\n",
       "      <td>Opened by  397</td>\n",
       "      <td>Created by 171</td>\n",
       "      <td>Updated by 746</td>\n",
       "      <td>?</td>\n",
       "      <td>?</td>\n",
       "      <td>?</td>\n",
       "      <td>?</td>\n",
       "      <td>code 5</td>\n",
       "      <td>Resolved by 81</td>\n",
       "      <td>?</td>\n",
       "      <td>Resolved by 81</td>\n",
       "      <td>False</td>\n",
       "      <td>Do Not Notify</td>\n",
       "      <td>0</td>\n",
       "      <td>0</td>\n",
       "      <td>2 - Medium</td>\n",
       "    </tr>\n",
       "    <tr>\n",
       "      <th>...</th>\n",
       "      <td>...</td>\n",
       "      <td>...</td>\n",
       "      <td>...</td>\n",
       "      <td>...</td>\n",
       "      <td>...</td>\n",
       "      <td>...</td>\n",
       "      <td>...</td>\n",
       "      <td>...</td>\n",
       "      <td>...</td>\n",
       "      <td>...</td>\n",
       "      <td>...</td>\n",
       "      <td>...</td>\n",
       "      <td>...</td>\n",
       "      <td>...</td>\n",
       "      <td>...</td>\n",
       "      <td>...</td>\n",
       "      <td>...</td>\n",
       "      <td>...</td>\n",
       "      <td>...</td>\n",
       "      <td>...</td>\n",
       "    </tr>\n",
       "    <tr>\n",
       "      <th>141707</th>\n",
       "      <td>Location 204</td>\n",
       "      <td>Group 31</td>\n",
       "      <td>Resolver 10</td>\n",
       "      <td>Caller 116</td>\n",
       "      <td>Opened by  12</td>\n",
       "      <td>?</td>\n",
       "      <td>Updated by 27</td>\n",
       "      <td>?</td>\n",
       "      <td>?</td>\n",
       "      <td>?</td>\n",
       "      <td>?</td>\n",
       "      <td>code 9</td>\n",
       "      <td>Resolved by 9</td>\n",
       "      <td>?</td>\n",
       "      <td>Resolved by 9</td>\n",
       "      <td>True</td>\n",
       "      <td>Do Not Notify</td>\n",
       "      <td>4</td>\n",
       "      <td>1</td>\n",
       "      <td>2 - Medium</td>\n",
       "    </tr>\n",
       "    <tr>\n",
       "      <th>141708</th>\n",
       "      <td>Location 204</td>\n",
       "      <td>Group 70</td>\n",
       "      <td>Resolver 10</td>\n",
       "      <td>Caller 116</td>\n",
       "      <td>Opened by  12</td>\n",
       "      <td>?</td>\n",
       "      <td>Updated by 908</td>\n",
       "      <td>?</td>\n",
       "      <td>?</td>\n",
       "      <td>?</td>\n",
       "      <td>?</td>\n",
       "      <td>code 6</td>\n",
       "      <td>Resolved by 9</td>\n",
       "      <td>?</td>\n",
       "      <td>Resolved by 9</td>\n",
       "      <td>False</td>\n",
       "      <td>Do Not Notify</td>\n",
       "      <td>0</td>\n",
       "      <td>0</td>\n",
       "      <td>2 - Medium</td>\n",
       "    </tr>\n",
       "    <tr>\n",
       "      <th>141709</th>\n",
       "      <td>Location 204</td>\n",
       "      <td>Group 31</td>\n",
       "      <td>?</td>\n",
       "      <td>Caller 116</td>\n",
       "      <td>Opened by  12</td>\n",
       "      <td>?</td>\n",
       "      <td>Updated by 60</td>\n",
       "      <td>?</td>\n",
       "      <td>?</td>\n",
       "      <td>?</td>\n",
       "      <td>?</td>\n",
       "      <td>code 6</td>\n",
       "      <td>Resolved by 9</td>\n",
       "      <td>?</td>\n",
       "      <td>Resolved by 9</td>\n",
       "      <td>False</td>\n",
       "      <td>Do Not Notify</td>\n",
       "      <td>1</td>\n",
       "      <td>1</td>\n",
       "      <td>2 - Medium</td>\n",
       "    </tr>\n",
       "    <tr>\n",
       "      <th>141710</th>\n",
       "      <td>Location 204</td>\n",
       "      <td>Group 31</td>\n",
       "      <td>Resolver 10</td>\n",
       "      <td>Caller 116</td>\n",
       "      <td>Opened by  12</td>\n",
       "      <td>?</td>\n",
       "      <td>Updated by 27</td>\n",
       "      <td>?</td>\n",
       "      <td>?</td>\n",
       "      <td>?</td>\n",
       "      <td>?</td>\n",
       "      <td>code 6</td>\n",
       "      <td>Resolved by 9</td>\n",
       "      <td>?</td>\n",
       "      <td>Resolved by 9</td>\n",
       "      <td>True</td>\n",
       "      <td>Do Not Notify</td>\n",
       "      <td>2</td>\n",
       "      <td>1</td>\n",
       "      <td>2 - Medium</td>\n",
       "    </tr>\n",
       "    <tr>\n",
       "      <th>141711</th>\n",
       "      <td>Location 204</td>\n",
       "      <td>Group 31</td>\n",
       "      <td>Resolver 10</td>\n",
       "      <td>Caller 116</td>\n",
       "      <td>Opened by  12</td>\n",
       "      <td>?</td>\n",
       "      <td>Updated by 27</td>\n",
       "      <td>?</td>\n",
       "      <td>?</td>\n",
       "      <td>?</td>\n",
       "      <td>?</td>\n",
       "      <td>code 6</td>\n",
       "      <td>Resolved by 9</td>\n",
       "      <td>?</td>\n",
       "      <td>Resolved by 9</td>\n",
       "      <td>True</td>\n",
       "      <td>Do Not Notify</td>\n",
       "      <td>3</td>\n",
       "      <td>1</td>\n",
       "      <td>2 - Medium</td>\n",
       "    </tr>\n",
       "  </tbody>\n",
       "</table>\n",
       "<p>141712 rows × 20 columns</p>\n",
       "</div>"
      ],
      "text/plain": [
       "            location assignment_group  assigned_to    caller_id  \\\n",
       "0       Location 143         Group 56            ?  Caller 2403   \n",
       "1       Location 143         Group 56            ?  Caller 2403   \n",
       "2       Location 143         Group 56            ?  Caller 2403   \n",
       "3       Location 143         Group 56            ?  Caller 2403   \n",
       "4       Location 165         Group 70  Resolver 89  Caller 2403   \n",
       "...              ...              ...          ...          ...   \n",
       "141707  Location 204         Group 31  Resolver 10   Caller 116   \n",
       "141708  Location 204         Group 70  Resolver 10   Caller 116   \n",
       "141709  Location 204         Group 31            ?   Caller 116   \n",
       "141710  Location 204         Group 31  Resolver 10   Caller 116   \n",
       "141711  Location 204         Group 31  Resolver 10   Caller 116   \n",
       "\n",
       "             opened_by  sys_created_by  sys_updated_by cmdb_ci problem_id rfc  \\\n",
       "0         Opened by  8    Created by 6   Updated by 21       ?          ?   ?   \n",
       "1         Opened by  8    Created by 6  Updated by 642       ?          ?   ?   \n",
       "2         Opened by  8    Created by 6  Updated by 804       ?          ?   ?   \n",
       "3         Opened by  8    Created by 6  Updated by 908       ?          ?   ?   \n",
       "4       Opened by  397  Created by 171  Updated by 746       ?          ?   ?   \n",
       "...                ...             ...             ...     ...        ...  ..   \n",
       "141707   Opened by  12               ?   Updated by 27       ?          ?   ?   \n",
       "141708   Opened by  12               ?  Updated by 908       ?          ?   ?   \n",
       "141709   Opened by  12               ?   Updated by 60       ?          ?   ?   \n",
       "141710   Opened by  12               ?   Updated by 27       ?          ?   ?   \n",
       "141711   Opened by  12               ?   Updated by 27       ?          ?   ?   \n",
       "\n",
       "       vendor closed_code      resolved_by caused_by      resolved_by  \\\n",
       "0           ?      code 5  Resolved by 149         ?  Resolved by 149   \n",
       "1           ?      code 5  Resolved by 149         ?  Resolved by 149   \n",
       "2           ?      code 5  Resolved by 149         ?  Resolved by 149   \n",
       "3           ?      code 5  Resolved by 149         ?  Resolved by 149   \n",
       "4           ?      code 5   Resolved by 81         ?   Resolved by 81   \n",
       "...       ...         ...              ...       ...              ...   \n",
       "141707      ?      code 9    Resolved by 9         ?    Resolved by 9   \n",
       "141708      ?      code 6    Resolved by 9         ?    Resolved by 9   \n",
       "141709      ?      code 6    Resolved by 9         ?    Resolved by 9   \n",
       "141710      ?      code 6    Resolved by 9         ?    Resolved by 9   \n",
       "141711      ?      code 6    Resolved by 9         ?    Resolved by 9   \n",
       "\n",
       "        u_priority_confirmation         notify  sys_mod_count  \\\n",
       "0                         False  Do Not Notify              0   \n",
       "1                         False  Do Not Notify              2   \n",
       "2                         False  Do Not Notify              3   \n",
       "3                         False  Do Not Notify              4   \n",
       "4                         False  Do Not Notify              0   \n",
       "...                         ...            ...            ...   \n",
       "141707                     True  Do Not Notify              4   \n",
       "141708                    False  Do Not Notify              0   \n",
       "141709                    False  Do Not Notify              1   \n",
       "141710                     True  Do Not Notify              2   \n",
       "141711                     True  Do Not Notify              3   \n",
       "\n",
       "        reassignment_count     urgency  \n",
       "0                        0  2 - Medium  \n",
       "1                        0  2 - Medium  \n",
       "2                        0  2 - Medium  \n",
       "3                        0  2 - Medium  \n",
       "4                        0  2 - Medium  \n",
       "...                    ...         ...  \n",
       "141707                   1  2 - Medium  \n",
       "141708                   0  2 - Medium  \n",
       "141709                   1  2 - Medium  \n",
       "141710                   1  2 - Medium  \n",
       "141711                   1  2 - Medium  \n",
       "\n",
       "[141712 rows x 20 columns]"
      ]
     },
     "execution_count": 247,
     "metadata": {},
     "output_type": "execute_result"
    }
   ],
   "source": [
    "df[not_needed]"
   ]
  },
  {
   "cell_type": "code",
   "execution_count": 248,
   "metadata": {
    "id": "2e407495"
   },
   "outputs": [],
   "source": [
    "a = list(set(list(df.columns)) - set(not_needed))"
   ]
  },
  {
   "cell_type": "code",
   "execution_count": 249,
   "metadata": {
    "id": "56afd6ab"
   },
   "outputs": [],
   "source": [
    "df=df[a]"
   ]
  },
  {
   "cell_type": "code",
   "execution_count": 250,
   "metadata": {
    "id": "86a833ca"
   },
   "outputs": [],
   "source": [
    "df=df[df['resolved_at']!='?']"
   ]
  },
  {
   "cell_type": "code",
   "execution_count": 251,
   "metadata": {
    "colab": {
     "base_uri": "https://localhost:8080/",
     "height": 211
    },
    "id": "d501abe1",
    "outputId": "b23f2db2-72af-46ed-a4cf-ff401e18c4a1"
   },
   "outputs": [
    {
     "data": {
      "text/html": [
       "<div>\n",
       "<style scoped>\n",
       "    .dataframe tbody tr th:only-of-type {\n",
       "        vertical-align: middle;\n",
       "    }\n",
       "\n",
       "    .dataframe tbody tr th {\n",
       "        vertical-align: top;\n",
       "    }\n",
       "\n",
       "    .dataframe thead th {\n",
       "        text-align: right;\n",
       "    }\n",
       "</style>\n",
       "<table border=\"1\" class=\"dataframe\">\n",
       "  <thead>\n",
       "    <tr style=\"text-align: right;\">\n",
       "      <th></th>\n",
       "      <th>priority</th>\n",
       "      <th>reopen_count</th>\n",
       "      <th>sys_updated_at</th>\n",
       "      <th>contact_type</th>\n",
       "      <th>subcategory</th>\n",
       "      <th>knowledge</th>\n",
       "      <th>made_sla</th>\n",
       "      <th>impact</th>\n",
       "      <th>number</th>\n",
       "      <th>sys_created_at</th>\n",
       "      <th>u_symptom</th>\n",
       "      <th>incident_state</th>\n",
       "      <th>active</th>\n",
       "      <th>resolved_at</th>\n",
       "      <th>category</th>\n",
       "      <th>opened_at</th>\n",
       "      <th>closed_at</th>\n",
       "    </tr>\n",
       "  </thead>\n",
       "  <tbody>\n",
       "    <tr>\n",
       "      <th>0</th>\n",
       "      <td>3 - Moderate</td>\n",
       "      <td>0</td>\n",
       "      <td>29/2/2016 01:23</td>\n",
       "      <td>Phone</td>\n",
       "      <td>Subcategory 170</td>\n",
       "      <td>True</td>\n",
       "      <td>True</td>\n",
       "      <td>2 - Medium</td>\n",
       "      <td>INC0000045</td>\n",
       "      <td>29/2/2016 01:23</td>\n",
       "      <td>Symptom 72</td>\n",
       "      <td>New</td>\n",
       "      <td>True</td>\n",
       "      <td>29/2/2016 11:29</td>\n",
       "      <td>Category 55</td>\n",
       "      <td>29/2/2016 01:16</td>\n",
       "      <td>5/3/2016 12:00</td>\n",
       "    </tr>\n",
       "    <tr>\n",
       "      <th>1</th>\n",
       "      <td>3 - Moderate</td>\n",
       "      <td>0</td>\n",
       "      <td>29/2/2016 08:53</td>\n",
       "      <td>Phone</td>\n",
       "      <td>Subcategory 170</td>\n",
       "      <td>True</td>\n",
       "      <td>True</td>\n",
       "      <td>2 - Medium</td>\n",
       "      <td>INC0000045</td>\n",
       "      <td>29/2/2016 01:23</td>\n",
       "      <td>Symptom 72</td>\n",
       "      <td>Resolved</td>\n",
       "      <td>True</td>\n",
       "      <td>29/2/2016 11:29</td>\n",
       "      <td>Category 55</td>\n",
       "      <td>29/2/2016 01:16</td>\n",
       "      <td>5/3/2016 12:00</td>\n",
       "    </tr>\n",
       "  </tbody>\n",
       "</table>\n",
       "</div>"
      ],
      "text/plain": [
       "       priority  reopen_count   sys_updated_at contact_type      subcategory  \\\n",
       "0  3 - Moderate             0  29/2/2016 01:23        Phone  Subcategory 170   \n",
       "1  3 - Moderate             0  29/2/2016 08:53        Phone  Subcategory 170   \n",
       "\n",
       "   knowledge  made_sla      impact      number   sys_created_at   u_symptom  \\\n",
       "0       True      True  2 - Medium  INC0000045  29/2/2016 01:23  Symptom 72   \n",
       "1       True      True  2 - Medium  INC0000045  29/2/2016 01:23  Symptom 72   \n",
       "\n",
       "  incident_state  active      resolved_at     category        opened_at  \\\n",
       "0            New    True  29/2/2016 11:29  Category 55  29/2/2016 01:16   \n",
       "1       Resolved    True  29/2/2016 11:29  Category 55  29/2/2016 01:16   \n",
       "\n",
       "        closed_at  \n",
       "0  5/3/2016 12:00  \n",
       "1  5/3/2016 12:00  "
      ]
     },
     "execution_count": 251,
     "metadata": {},
     "output_type": "execute_result"
    }
   ],
   "source": [
    "df.head(2)"
   ]
  },
  {
   "cell_type": "code",
   "execution_count": 252,
   "metadata": {
    "id": "e5be881a"
   },
   "outputs": [],
   "source": [
    "def find():\n",
    "    columns = list(df.columns)\n",
    "    count={}\n",
    "    for i in columns:\n",
    "        count[i]=len(df[df[i]=='?'])\n",
    "    print(count)"
   ]
  },
  {
   "cell_type": "code",
   "execution_count": 253,
   "metadata": {
    "colab": {
     "base_uri": "https://localhost:8080/"
    },
    "id": "54205eaf",
    "outputId": "c2465249-4186-4018-e05e-ed2cc87da89b"
   },
   "outputs": [
    {
     "name": "stderr",
     "output_type": "stream",
     "text": [
      "C:\\Users\\Dheeraj\\anaconda3\\lib\\site-packages\\pandas\\core\\ops\\array_ops.py:253: FutureWarning: elementwise comparison failed; returning scalar instead, but in the future will perform elementwise comparison\n",
      "  res_values = method(rvalues)\n"
     ]
    },
    {
     "name": "stdout",
     "output_type": "stream",
     "text": [
      "{'priority': 0, 'reopen_count': 0, 'sys_updated_at': 0, 'contact_type': 0, 'subcategory': 108, 'knowledge': 0, 'made_sla': 0, 'impact': 0, 'number': 0, 'sys_created_at': 49943, 'u_symptom': 32155, 'incident_state': 0, 'active': 0, 'resolved_at': 0, 'category': 78, 'opened_at': 0, 'closed_at': 0}\n"
     ]
    }
   ],
   "source": [
    "find()"
   ]
  },
  {
   "cell_type": "code",
   "execution_count": 254,
   "metadata": {
    "id": "fdb1a014"
   },
   "outputs": [],
   "source": [
    "df.reset_index(inplace=True)"
   ]
  },
  {
   "cell_type": "code",
   "execution_count": 255,
   "metadata": {
    "id": "b244bf20"
   },
   "outputs": [],
   "source": [
    "def a(x):\n",
    "    if x['sys_created_at']=='?':\n",
    "        x['sys_created_at']=x['sys_updated_at']\n",
    "    return x"
   ]
  },
  {
   "cell_type": "code",
   "execution_count": 256,
   "metadata": {
    "id": "0c36a55c"
   },
   "outputs": [],
   "source": [
    "df=df.apply(a,axis=1)"
   ]
  },
  {
   "cell_type": "code",
   "execution_count": 257,
   "metadata": {
    "colab": {
     "base_uri": "https://localhost:8080/",
     "height": 211
    },
    "id": "7bef99eb",
    "outputId": "e894aa87-37df-4dd0-ebf4-44f9f53f8031"
   },
   "outputs": [
    {
     "data": {
      "text/html": [
       "<div>\n",
       "<style scoped>\n",
       "    .dataframe tbody tr th:only-of-type {\n",
       "        vertical-align: middle;\n",
       "    }\n",
       "\n",
       "    .dataframe tbody tr th {\n",
       "        vertical-align: top;\n",
       "    }\n",
       "\n",
       "    .dataframe thead th {\n",
       "        text-align: right;\n",
       "    }\n",
       "</style>\n",
       "<table border=\"1\" class=\"dataframe\">\n",
       "  <thead>\n",
       "    <tr style=\"text-align: right;\">\n",
       "      <th></th>\n",
       "      <th>index</th>\n",
       "      <th>priority</th>\n",
       "      <th>reopen_count</th>\n",
       "      <th>sys_updated_at</th>\n",
       "      <th>contact_type</th>\n",
       "      <th>subcategory</th>\n",
       "      <th>knowledge</th>\n",
       "      <th>made_sla</th>\n",
       "      <th>impact</th>\n",
       "      <th>number</th>\n",
       "      <th>sys_created_at</th>\n",
       "      <th>u_symptom</th>\n",
       "      <th>incident_state</th>\n",
       "      <th>active</th>\n",
       "      <th>resolved_at</th>\n",
       "      <th>category</th>\n",
       "      <th>opened_at</th>\n",
       "      <th>closed_at</th>\n",
       "    </tr>\n",
       "  </thead>\n",
       "  <tbody>\n",
       "    <tr>\n",
       "      <th>0</th>\n",
       "      <td>0</td>\n",
       "      <td>3 - Moderate</td>\n",
       "      <td>0</td>\n",
       "      <td>29/2/2016 01:23</td>\n",
       "      <td>Phone</td>\n",
       "      <td>Subcategory 170</td>\n",
       "      <td>True</td>\n",
       "      <td>True</td>\n",
       "      <td>2 - Medium</td>\n",
       "      <td>INC0000045</td>\n",
       "      <td>29/2/2016 01:23</td>\n",
       "      <td>Symptom 72</td>\n",
       "      <td>New</td>\n",
       "      <td>True</td>\n",
       "      <td>29/2/2016 11:29</td>\n",
       "      <td>Category 55</td>\n",
       "      <td>29/2/2016 01:16</td>\n",
       "      <td>5/3/2016 12:00</td>\n",
       "    </tr>\n",
       "    <tr>\n",
       "      <th>1</th>\n",
       "      <td>1</td>\n",
       "      <td>3 - Moderate</td>\n",
       "      <td>0</td>\n",
       "      <td>29/2/2016 08:53</td>\n",
       "      <td>Phone</td>\n",
       "      <td>Subcategory 170</td>\n",
       "      <td>True</td>\n",
       "      <td>True</td>\n",
       "      <td>2 - Medium</td>\n",
       "      <td>INC0000045</td>\n",
       "      <td>29/2/2016 01:23</td>\n",
       "      <td>Symptom 72</td>\n",
       "      <td>Resolved</td>\n",
       "      <td>True</td>\n",
       "      <td>29/2/2016 11:29</td>\n",
       "      <td>Category 55</td>\n",
       "      <td>29/2/2016 01:16</td>\n",
       "      <td>5/3/2016 12:00</td>\n",
       "    </tr>\n",
       "  </tbody>\n",
       "</table>\n",
       "</div>"
      ],
      "text/plain": [
       "   index      priority  reopen_count   sys_updated_at contact_type  \\\n",
       "0      0  3 - Moderate             0  29/2/2016 01:23        Phone   \n",
       "1      1  3 - Moderate             0  29/2/2016 08:53        Phone   \n",
       "\n",
       "       subcategory  knowledge  made_sla      impact      number  \\\n",
       "0  Subcategory 170       True      True  2 - Medium  INC0000045   \n",
       "1  Subcategory 170       True      True  2 - Medium  INC0000045   \n",
       "\n",
       "    sys_created_at   u_symptom incident_state  active      resolved_at  \\\n",
       "0  29/2/2016 01:23  Symptom 72            New    True  29/2/2016 11:29   \n",
       "1  29/2/2016 01:23  Symptom 72       Resolved    True  29/2/2016 11:29   \n",
       "\n",
       "      category        opened_at       closed_at  \n",
       "0  Category 55  29/2/2016 01:16  5/3/2016 12:00  \n",
       "1  Category 55  29/2/2016 01:16  5/3/2016 12:00  "
      ]
     },
     "execution_count": 257,
     "metadata": {},
     "output_type": "execute_result"
    }
   ],
   "source": [
    "df.head(2)"
   ]
  },
  {
   "cell_type": "code",
   "execution_count": 258,
   "metadata": {
    "colab": {
     "base_uri": "https://localhost:8080/"
    },
    "id": "09a9e003",
    "outputId": "d4c05bab-71b5-4dc5-f41f-be38bda2c95e"
   },
   "outputs": [
    {
     "name": "stderr",
     "output_type": "stream",
     "text": [
      "C:\\Users\\Dheeraj\\anaconda3\\lib\\site-packages\\pandas\\core\\ops\\array_ops.py:253: FutureWarning: elementwise comparison failed; returning scalar instead, but in the future will perform elementwise comparison\n",
      "  res_values = method(rvalues)\n"
     ]
    },
    {
     "name": "stdout",
     "output_type": "stream",
     "text": [
      "{'index': 0, 'priority': 0, 'reopen_count': 0, 'sys_updated_at': 0, 'contact_type': 0, 'subcategory': 108, 'knowledge': 0, 'made_sla': 0, 'impact': 0, 'number': 0, 'sys_created_at': 0, 'u_symptom': 32155, 'incident_state': 0, 'active': 0, 'resolved_at': 0, 'category': 78, 'opened_at': 0, 'closed_at': 0}\n"
     ]
    }
   ],
   "source": [
    "find()"
   ]
  },
  {
   "cell_type": "code",
   "execution_count": 259,
   "metadata": {
    "id": "fd7fb348"
   },
   "outputs": [],
   "source": [
    "df['closed_at'] = pd.to_datetime(df['closed_at'])"
   ]
  },
  {
   "cell_type": "code",
   "execution_count": 260,
   "metadata": {
    "id": "5e58cd03"
   },
   "outputs": [],
   "source": [
    "df['resolved_at'] = pd.to_datetime(df['resolved_at'])"
   ]
  },
  {
   "cell_type": "code",
   "execution_count": 261,
   "metadata": {
    "id": "192ed4ac"
   },
   "outputs": [],
   "source": [
    "df['opened_at'] = pd.to_datetime(df['opened_at'])"
   ]
  },
  {
   "cell_type": "code",
   "execution_count": 262,
   "metadata": {
    "id": "50cf972d"
   },
   "outputs": [],
   "source": [
    "a=(df['closed_at']-df['opened_at'])"
   ]
  },
  {
   "cell_type": "code",
   "execution_count": 263,
   "metadata": {
    "id": "50ec87cb"
   },
   "outputs": [],
   "source": [
    "import math\n",
    "v=-math.inf\n",
    "j=math.inf\n",
    "values=[]\n",
    "for i in a:\n",
    "    v=max(v,i.days)\n",
    "    j=min(j,i.days)\n",
    "    values.append(i.days)"
   ]
  },
  {
   "cell_type": "code",
   "execution_count": 264,
   "metadata": {
    "colab": {
     "base_uri": "https://localhost:8080/"
    },
    "id": "71b603dd",
    "outputId": "0546c699-0b59-4814-a5e0-d9b3ba314fbf"
   },
   "outputs": [
    {
     "data": {
      "text/plain": [
       "603"
      ]
     },
     "execution_count": 264,
     "metadata": {},
     "output_type": "execute_result"
    }
   ],
   "source": [
    "v"
   ]
  },
  {
   "cell_type": "code",
   "execution_count": 265,
   "metadata": {
    "colab": {
     "base_uri": "https://localhost:8080/"
    },
    "id": "23c80f71",
    "outputId": "94d1bc7c-f8c7-4ac4-9d06-f9f16e2ebf9a"
   },
   "outputs": [
    {
     "data": {
      "text/plain": [
       "-335"
      ]
     },
     "execution_count": 265,
     "metadata": {},
     "output_type": "execute_result"
    }
   ],
   "source": [
    "j"
   ]
  },
  {
   "cell_type": "code",
   "execution_count": 266,
   "metadata": {
    "colab": {
     "base_uri": "https://localhost:8080/",
     "height": 283
    },
    "id": "7872646b",
    "outputId": "5a73c19f-ba12-4db1-b2ee-d4d0aa17cf17"
   },
   "outputs": [
    {
     "data": {
      "text/plain": [
       "[<matplotlib.lines.Line2D at 0x1acb6df5f40>]"
      ]
     },
     "execution_count": 266,
     "metadata": {},
     "output_type": "execute_result"
    },
    {
     "data": {
      "image/png": "[encoded data removed]",
      "text/plain": [
       "<Figure size 432x288 with 1 Axes>"
      ]
     },
     "metadata": {
      "needs_background": "light"
     },
     "output_type": "display_data"
    }
   ],
   "source": [
    "import matplotlib.pyplot as plt\n",
    "u=np.unique(values,return_counts=True)\n",
    "plt.plot(u[0],u[1])"
   ]
  },
  {
   "cell_type": "code",
   "execution_count": 267,
   "metadata": {
    "id": "92871b33"
   },
   "outputs": [],
   "source": [
    "values = np.array(values)"
   ]
  },
  {
   "cell_type": "code",
   "execution_count": 268,
   "metadata": {
    "colab": {
     "base_uri": "https://localhost:8080/"
    },
    "id": "87255067",
    "outputId": "2c3b1897-4c32-49cb-e5ec-250927945b87"
   },
   "outputs": [
    {
     "data": {
      "text/plain": [
       "49437"
      ]
     },
     "execution_count": 268,
     "metadata": {},
     "output_type": "execute_result"
    }
   ],
   "source": [
    "np.sum(values<0)"
   ]
  },
  {
   "cell_type": "code",
   "execution_count": 269,
   "metadata": {
    "colab": {
     "base_uri": "https://localhost:8080/"
    },
    "id": "d0ffbc15",
    "outputId": "7e0c22bb-6b26-457b-968c-8abc748e2e9f"
   },
   "outputs": [
    {
     "data": {
      "text/plain": [
       "89134"
      ]
     },
     "execution_count": 269,
     "metadata": {},
     "output_type": "execute_result"
    }
   ],
   "source": [
    "len(values)-np.sum(values<0)"
   ]
  },
  {
   "cell_type": "code",
   "execution_count": 270,
   "metadata": {
    "colab": {
     "base_uri": "https://localhost:8080/",
     "height": 835
    },
    "id": "0073e7c4",
    "outputId": "020e39f2-a769-4146-c1ec-91fc42deec6f"
   },
   "outputs": [
    {
     "data": {
      "text/html": [
       "<div>\n",
       "<style scoped>\n",
       "    .dataframe tbody tr th:only-of-type {\n",
       "        vertical-align: middle;\n",
       "    }\n",
       "\n",
       "    .dataframe tbody tr th {\n",
       "        vertical-align: top;\n",
       "    }\n",
       "\n",
       "    .dataframe thead th {\n",
       "        text-align: right;\n",
       "    }\n",
       "</style>\n",
       "<table border=\"1\" class=\"dataframe\">\n",
       "  <thead>\n",
       "    <tr style=\"text-align: right;\">\n",
       "      <th></th>\n",
       "      <th>index</th>\n",
       "      <th>priority</th>\n",
       "      <th>reopen_count</th>\n",
       "      <th>sys_updated_at</th>\n",
       "      <th>contact_type</th>\n",
       "      <th>subcategory</th>\n",
       "      <th>knowledge</th>\n",
       "      <th>made_sla</th>\n",
       "      <th>impact</th>\n",
       "      <th>number</th>\n",
       "      <th>sys_created_at</th>\n",
       "      <th>u_symptom</th>\n",
       "      <th>incident_state</th>\n",
       "      <th>active</th>\n",
       "      <th>resolved_at</th>\n",
       "      <th>category</th>\n",
       "      <th>opened_at</th>\n",
       "      <th>closed_at</th>\n",
       "    </tr>\n",
       "  </thead>\n",
       "  <tbody>\n",
       "    <tr>\n",
       "      <th>485</th>\n",
       "      <td>489</td>\n",
       "      <td>3 - Moderate</td>\n",
       "      <td>0</td>\n",
       "      <td>29/2/2016 10:52</td>\n",
       "      <td>Phone</td>\n",
       "      <td>Subcategory 9</td>\n",
       "      <td>True</td>\n",
       "      <td>True</td>\n",
       "      <td>2 - Medium</td>\n",
       "      <td>INC0000174</td>\n",
       "      <td>29/2/2016 10:52</td>\n",
       "      <td>Symptom 580</td>\n",
       "      <td>New</td>\n",
       "      <td>True</td>\n",
       "      <td>2016-02-03 13:01:00</td>\n",
       "      <td>Category 32</td>\n",
       "      <td>2016-02-29 10:39:00</td>\n",
       "      <td>2016-02-03 13:02:00</td>\n",
       "    </tr>\n",
       "    <tr>\n",
       "      <th>486</th>\n",
       "      <td>490</td>\n",
       "      <td>3 - Moderate</td>\n",
       "      <td>0</td>\n",
       "      <td>1/3/2016 01:57</td>\n",
       "      <td>Phone</td>\n",
       "      <td>Subcategory 9</td>\n",
       "      <td>True</td>\n",
       "      <td>True</td>\n",
       "      <td>2 - Medium</td>\n",
       "      <td>INC0000174</td>\n",
       "      <td>29/2/2016 10:52</td>\n",
       "      <td>Symptom 580</td>\n",
       "      <td>New</td>\n",
       "      <td>True</td>\n",
       "      <td>2016-02-03 13:01:00</td>\n",
       "      <td>Category 32</td>\n",
       "      <td>2016-02-29 10:39:00</td>\n",
       "      <td>2016-02-03 13:02:00</td>\n",
       "    </tr>\n",
       "    <tr>\n",
       "      <th>487</th>\n",
       "      <td>491</td>\n",
       "      <td>3 - Moderate</td>\n",
       "      <td>0</td>\n",
       "      <td>2/3/2016 00:33</td>\n",
       "      <td>Phone</td>\n",
       "      <td>Subcategory 9</td>\n",
       "      <td>True</td>\n",
       "      <td>True</td>\n",
       "      <td>2 - Medium</td>\n",
       "      <td>INC0000174</td>\n",
       "      <td>29/2/2016 10:52</td>\n",
       "      <td>Symptom 580</td>\n",
       "      <td>New</td>\n",
       "      <td>True</td>\n",
       "      <td>2016-02-03 13:01:00</td>\n",
       "      <td>Category 32</td>\n",
       "      <td>2016-02-29 10:39:00</td>\n",
       "      <td>2016-02-03 13:02:00</td>\n",
       "    </tr>\n",
       "    <tr>\n",
       "      <th>488</th>\n",
       "      <td>492</td>\n",
       "      <td>3 - Moderate</td>\n",
       "      <td>0</td>\n",
       "      <td>2/3/2016 00:58</td>\n",
       "      <td>Phone</td>\n",
       "      <td>Subcategory 9</td>\n",
       "      <td>True</td>\n",
       "      <td>True</td>\n",
       "      <td>2 - Medium</td>\n",
       "      <td>INC0000174</td>\n",
       "      <td>29/2/2016 10:52</td>\n",
       "      <td>Symptom 580</td>\n",
       "      <td>New</td>\n",
       "      <td>True</td>\n",
       "      <td>2016-02-03 13:01:00</td>\n",
       "      <td>Category 32</td>\n",
       "      <td>2016-02-29 10:39:00</td>\n",
       "      <td>2016-02-03 13:02:00</td>\n",
       "    </tr>\n",
       "    <tr>\n",
       "      <th>489</th>\n",
       "      <td>493</td>\n",
       "      <td>3 - Moderate</td>\n",
       "      <td>0</td>\n",
       "      <td>2/3/2016 13:01</td>\n",
       "      <td>Phone</td>\n",
       "      <td>Subcategory 9</td>\n",
       "      <td>True</td>\n",
       "      <td>True</td>\n",
       "      <td>2 - Medium</td>\n",
       "      <td>INC0000174</td>\n",
       "      <td>29/2/2016 10:52</td>\n",
       "      <td>Symptom 580</td>\n",
       "      <td>New</td>\n",
       "      <td>True</td>\n",
       "      <td>2016-02-03 13:01:00</td>\n",
       "      <td>Category 32</td>\n",
       "      <td>2016-02-29 10:39:00</td>\n",
       "      <td>2016-02-03 13:02:00</td>\n",
       "    </tr>\n",
       "    <tr>\n",
       "      <th>...</th>\n",
       "      <td>...</td>\n",
       "      <td>...</td>\n",
       "      <td>...</td>\n",
       "      <td>...</td>\n",
       "      <td>...</td>\n",
       "      <td>...</td>\n",
       "      <td>...</td>\n",
       "      <td>...</td>\n",
       "      <td>...</td>\n",
       "      <td>...</td>\n",
       "      <td>...</td>\n",
       "      <td>...</td>\n",
       "      <td>...</td>\n",
       "      <td>...</td>\n",
       "      <td>...</td>\n",
       "      <td>...</td>\n",
       "      <td>...</td>\n",
       "      <td>...</td>\n",
       "    </tr>\n",
       "    <tr>\n",
       "      <th>138548</th>\n",
       "      <td>141665</td>\n",
       "      <td>3 - Moderate</td>\n",
       "      <td>0</td>\n",
       "      <td>10/2/2017 14:52</td>\n",
       "      <td>Phone</td>\n",
       "      <td>Subcategory 223</td>\n",
       "      <td>False</td>\n",
       "      <td>True</td>\n",
       "      <td>2 - Medium</td>\n",
       "      <td>INC0118952</td>\n",
       "      <td>10/2/2017 14:52</td>\n",
       "      <td>Symptom 533</td>\n",
       "      <td>Resolved</td>\n",
       "      <td>True</td>\n",
       "      <td>2017-10-02 14:52:00</td>\n",
       "      <td>Category 42</td>\n",
       "      <td>2017-10-02 14:48:00</td>\n",
       "      <td>2017-02-15 15:00:00</td>\n",
       "    </tr>\n",
       "    <tr>\n",
       "      <th>138549</th>\n",
       "      <td>141666</td>\n",
       "      <td>3 - Moderate</td>\n",
       "      <td>0</td>\n",
       "      <td>15/2/2017 15:00</td>\n",
       "      <td>Phone</td>\n",
       "      <td>Subcategory 223</td>\n",
       "      <td>False</td>\n",
       "      <td>True</td>\n",
       "      <td>2 - Medium</td>\n",
       "      <td>INC0118952</td>\n",
       "      <td>15/2/2017 15:00</td>\n",
       "      <td>Symptom 533</td>\n",
       "      <td>Closed</td>\n",
       "      <td>False</td>\n",
       "      <td>2017-10-02 14:52:00</td>\n",
       "      <td>Category 42</td>\n",
       "      <td>2017-10-02 14:48:00</td>\n",
       "      <td>2017-02-15 15:00:00</td>\n",
       "    </tr>\n",
       "    <tr>\n",
       "      <th>138550</th>\n",
       "      <td>141667</td>\n",
       "      <td>3 - Moderate</td>\n",
       "      <td>0</td>\n",
       "      <td>10/2/2017 15:55</td>\n",
       "      <td>Email</td>\n",
       "      <td>Subcategory 282</td>\n",
       "      <td>False</td>\n",
       "      <td>True</td>\n",
       "      <td>2 - Medium</td>\n",
       "      <td>INC0118999</td>\n",
       "      <td>10/2/2017 15:55</td>\n",
       "      <td>Symptom 302</td>\n",
       "      <td>Active</td>\n",
       "      <td>True</td>\n",
       "      <td>2017-10-02 16:35:00</td>\n",
       "      <td>Category 4</td>\n",
       "      <td>2017-10-02 15:55:00</td>\n",
       "      <td>2017-02-15 17:00:00</td>\n",
       "    </tr>\n",
       "    <tr>\n",
       "      <th>138551</th>\n",
       "      <td>141668</td>\n",
       "      <td>3 - Moderate</td>\n",
       "      <td>0</td>\n",
       "      <td>10/2/2017 16:35</td>\n",
       "      <td>Email</td>\n",
       "      <td>Subcategory 282</td>\n",
       "      <td>False</td>\n",
       "      <td>True</td>\n",
       "      <td>2 - Medium</td>\n",
       "      <td>INC0118999</td>\n",
       "      <td>10/2/2017 16:35</td>\n",
       "      <td>Symptom 302</td>\n",
       "      <td>Resolved</td>\n",
       "      <td>True</td>\n",
       "      <td>2017-10-02 16:35:00</td>\n",
       "      <td>Category 4</td>\n",
       "      <td>2017-10-02 15:55:00</td>\n",
       "      <td>2017-02-15 17:00:00</td>\n",
       "    </tr>\n",
       "    <tr>\n",
       "      <th>138552</th>\n",
       "      <td>141669</td>\n",
       "      <td>3 - Moderate</td>\n",
       "      <td>0</td>\n",
       "      <td>15/2/2017 17:00</td>\n",
       "      <td>Email</td>\n",
       "      <td>Subcategory 282</td>\n",
       "      <td>False</td>\n",
       "      <td>True</td>\n",
       "      <td>2 - Medium</td>\n",
       "      <td>INC0118999</td>\n",
       "      <td>15/2/2017 17:00</td>\n",
       "      <td>Symptom 302</td>\n",
       "      <td>Closed</td>\n",
       "      <td>False</td>\n",
       "      <td>2017-10-02 16:35:00</td>\n",
       "      <td>Category 4</td>\n",
       "      <td>2017-10-02 15:55:00</td>\n",
       "      <td>2017-02-15 17:00:00</td>\n",
       "    </tr>\n",
       "  </tbody>\n",
       "</table>\n",
       "<p>49437 rows × 18 columns</p>\n",
       "</div>"
      ],
      "text/plain": [
       "         index      priority  reopen_count   sys_updated_at contact_type  \\\n",
       "485        489  3 - Moderate             0  29/2/2016 10:52        Phone   \n",
       "486        490  3 - Moderate             0   1/3/2016 01:57        Phone   \n",
       "487        491  3 - Moderate             0   2/3/2016 00:33        Phone   \n",
       "488        492  3 - Moderate             0   2/3/2016 00:58        Phone   \n",
       "489        493  3 - Moderate             0   2/3/2016 13:01        Phone   \n",
       "...        ...           ...           ...              ...          ...   \n",
       "138548  141665  3 - Moderate             0  10/2/2017 14:52        Phone   \n",
       "138549  141666  3 - Moderate             0  15/2/2017 15:00        Phone   \n",
       "138550  141667  3 - Moderate             0  10/2/2017 15:55        Email   \n",
       "138551  141668  3 - Moderate             0  10/2/2017 16:35        Email   \n",
       "138552  141669  3 - Moderate             0  15/2/2017 17:00        Email   \n",
       "\n",
       "            subcategory  knowledge  made_sla      impact      number  \\\n",
       "485       Subcategory 9       True      True  2 - Medium  INC0000174   \n",
       "486       Subcategory 9       True      True  2 - Medium  INC0000174   \n",
       "487       Subcategory 9       True      True  2 - Medium  INC0000174   \n",
       "488       Subcategory 9       True      True  2 - Medium  INC0000174   \n",
       "489       Subcategory 9       True      True  2 - Medium  INC0000174   \n",
       "...                 ...        ...       ...         ...         ...   \n",
       "138548  Subcategory 223      False      True  2 - Medium  INC0118952   \n",
       "138549  Subcategory 223      False      True  2 - Medium  INC0118952   \n",
       "138550  Subcategory 282      False      True  2 - Medium  INC0118999   \n",
       "138551  Subcategory 282      False      True  2 - Medium  INC0118999   \n",
       "138552  Subcategory 282      False      True  2 - Medium  INC0118999   \n",
       "\n",
       "         sys_created_at    u_symptom incident_state  active  \\\n",
       "485     29/2/2016 10:52  Symptom 580            New    True   \n",
       "486     29/2/2016 10:52  Symptom 580            New    True   \n",
       "487     29/2/2016 10:52  Symptom 580            New    True   \n",
       "488     29/2/2016 10:52  Symptom 580            New    True   \n",
       "489     29/2/2016 10:52  Symptom 580            New    True   \n",
       "...                 ...          ...            ...     ...   \n",
       "138548  10/2/2017 14:52  Symptom 533       Resolved    True   \n",
       "138549  15/2/2017 15:00  Symptom 533         Closed   False   \n",
       "138550  10/2/2017 15:55  Symptom 302         Active    True   \n",
       "138551  10/2/2017 16:35  Symptom 302       Resolved    True   \n",
       "138552  15/2/2017 17:00  Symptom 302         Closed   False   \n",
       "\n",
       "               resolved_at     category           opened_at  \\\n",
       "485    2016-02-03 13:01:00  Category 32 2016-02-29 10:39:00   \n",
       "486    2016-02-03 13:01:00  Category 32 2016-02-29 10:39:00   \n",
       "487    2016-02-03 13:01:00  Category 32 2016-02-29 10:39:00   \n",
       "488    2016-02-03 13:01:00  Category 32 2016-02-29 10:39:00   \n",
       "489    2016-02-03 13:01:00  Category 32 2016-02-29 10:39:00   \n",
       "...                    ...          ...                 ...   \n",
       "138548 2017-10-02 14:52:00  Category 42 2017-10-02 14:48:00   \n",
       "138549 2017-10-02 14:52:00  Category 42 2017-10-02 14:48:00   \n",
       "138550 2017-10-02 16:35:00   Category 4 2017-10-02 15:55:00   \n",
       "138551 2017-10-02 16:35:00   Category 4 2017-10-02 15:55:00   \n",
       "138552 2017-10-02 16:35:00   Category 4 2017-10-02 15:55:00   \n",
       "\n",
       "                 closed_at  \n",
       "485    2016-02-03 13:02:00  \n",
       "486    2016-02-03 13:02:00  \n",
       "487    2016-02-03 13:02:00  \n",
       "488    2016-02-03 13:02:00  \n",
       "489    2016-02-03 13:02:00  \n",
       "...                    ...  \n",
       "138548 2017-02-15 15:00:00  \n",
       "138549 2017-02-15 15:00:00  \n",
       "138550 2017-02-15 17:00:00  \n",
       "138551 2017-02-15 17:00:00  \n",
       "138552 2017-02-15 17:00:00  \n",
       "\n",
       "[49437 rows x 18 columns]"
      ]
     },
     "execution_count": 270,
     "metadata": {},
     "output_type": "execute_result"
    }
   ],
   "source": [
    "df[df['closed_at']<df['opened_at']]"
   ]
  },
  {
   "cell_type": "code",
   "execution_count": 271,
   "metadata": {
    "id": "80e224ce"
   },
   "outputs": [],
   "source": [
    "df.reset_index(inplace=True)"
   ]
  },
  {
   "cell_type": "code",
   "execution_count": 272,
   "metadata": {
    "id": "b3c89a0f"
   },
   "outputs": [],
   "source": [
    "a=df[df['closed_at']<df['opened_at']].index"
   ]
  },
  {
   "cell_type": "code",
   "execution_count": 273,
   "metadata": {
    "id": "309901cc"
   },
   "outputs": [],
   "source": [
    "df.drop(a,inplace=True)"
   ]
  },
  {
   "cell_type": "code",
   "execution_count": 274,
   "metadata": {
    "id": "39e0eb53"
   },
   "outputs": [],
   "source": [
    "df.drop(columns=['index'],inplace=True)"
   ]
  },
  {
   "cell_type": "code",
   "execution_count": 275,
   "metadata": {
    "colab": {
     "base_uri": "https://localhost:8080/"
    },
    "id": "82502f72",
    "outputId": "6311805a-3187-4e51-c710-fa2c8a4f1825"
   },
   "outputs": [
    {
     "data": {
      "text/plain": [
       "18"
      ]
     },
     "execution_count": 275,
     "metadata": {},
     "output_type": "execute_result"
    }
   ],
   "source": [
    "len(df.columns)"
   ]
  },
  {
   "cell_type": "code",
   "execution_count": 276,
   "metadata": {
    "colab": {
     "base_uri": "https://localhost:8080/",
     "height": 311
    },
    "id": "8764ccc8",
    "outputId": "011e601d-ef41-450c-d8a8-3ca407163b2b"
   },
   "outputs": [
    {
     "data": {
      "text/html": [
       "<div>\n",
       "<style scoped>\n",
       "    .dataframe tbody tr th:only-of-type {\n",
       "        vertical-align: middle;\n",
       "    }\n",
       "\n",
       "    .dataframe tbody tr th {\n",
       "        vertical-align: top;\n",
       "    }\n",
       "\n",
       "    .dataframe thead th {\n",
       "        text-align: right;\n",
       "    }\n",
       "</style>\n",
       "<table border=\"1\" class=\"dataframe\">\n",
       "  <thead>\n",
       "    <tr style=\"text-align: right;\">\n",
       "      <th></th>\n",
       "      <th>level_0</th>\n",
       "      <th>priority</th>\n",
       "      <th>reopen_count</th>\n",
       "      <th>sys_updated_at</th>\n",
       "      <th>contact_type</th>\n",
       "      <th>subcategory</th>\n",
       "      <th>knowledge</th>\n",
       "      <th>made_sla</th>\n",
       "      <th>impact</th>\n",
       "      <th>number</th>\n",
       "      <th>sys_created_at</th>\n",
       "      <th>u_symptom</th>\n",
       "      <th>incident_state</th>\n",
       "      <th>active</th>\n",
       "      <th>resolved_at</th>\n",
       "      <th>category</th>\n",
       "      <th>opened_at</th>\n",
       "      <th>closed_at</th>\n",
       "    </tr>\n",
       "  </thead>\n",
       "  <tbody>\n",
       "    <tr>\n",
       "      <th>0</th>\n",
       "      <td>0</td>\n",
       "      <td>3 - Moderate</td>\n",
       "      <td>0</td>\n",
       "      <td>29/2/2016 01:23</td>\n",
       "      <td>Phone</td>\n",
       "      <td>Subcategory 170</td>\n",
       "      <td>True</td>\n",
       "      <td>True</td>\n",
       "      <td>2 - Medium</td>\n",
       "      <td>INC0000045</td>\n",
       "      <td>29/2/2016 01:23</td>\n",
       "      <td>Symptom 72</td>\n",
       "      <td>New</td>\n",
       "      <td>True</td>\n",
       "      <td>2016-02-29 11:29:00</td>\n",
       "      <td>Category 55</td>\n",
       "      <td>2016-02-29 01:16:00</td>\n",
       "      <td>2016-05-03 12:00:00</td>\n",
       "    </tr>\n",
       "    <tr>\n",
       "      <th>1</th>\n",
       "      <td>1</td>\n",
       "      <td>3 - Moderate</td>\n",
       "      <td>0</td>\n",
       "      <td>29/2/2016 08:53</td>\n",
       "      <td>Phone</td>\n",
       "      <td>Subcategory 170</td>\n",
       "      <td>True</td>\n",
       "      <td>True</td>\n",
       "      <td>2 - Medium</td>\n",
       "      <td>INC0000045</td>\n",
       "      <td>29/2/2016 01:23</td>\n",
       "      <td>Symptom 72</td>\n",
       "      <td>Resolved</td>\n",
       "      <td>True</td>\n",
       "      <td>2016-02-29 11:29:00</td>\n",
       "      <td>Category 55</td>\n",
       "      <td>2016-02-29 01:16:00</td>\n",
       "      <td>2016-05-03 12:00:00</td>\n",
       "    </tr>\n",
       "    <tr>\n",
       "      <th>2</th>\n",
       "      <td>2</td>\n",
       "      <td>3 - Moderate</td>\n",
       "      <td>0</td>\n",
       "      <td>29/2/2016 11:29</td>\n",
       "      <td>Phone</td>\n",
       "      <td>Subcategory 170</td>\n",
       "      <td>True</td>\n",
       "      <td>True</td>\n",
       "      <td>2 - Medium</td>\n",
       "      <td>INC0000045</td>\n",
       "      <td>29/2/2016 01:23</td>\n",
       "      <td>Symptom 72</td>\n",
       "      <td>Resolved</td>\n",
       "      <td>True</td>\n",
       "      <td>2016-02-29 11:29:00</td>\n",
       "      <td>Category 55</td>\n",
       "      <td>2016-02-29 01:16:00</td>\n",
       "      <td>2016-05-03 12:00:00</td>\n",
       "    </tr>\n",
       "  </tbody>\n",
       "</table>\n",
       "</div>"
      ],
      "text/plain": [
       "   level_0      priority  reopen_count   sys_updated_at contact_type  \\\n",
       "0        0  3 - Moderate             0  29/2/2016 01:23        Phone   \n",
       "1        1  3 - Moderate             0  29/2/2016 08:53        Phone   \n",
       "2        2  3 - Moderate             0  29/2/2016 11:29        Phone   \n",
       "\n",
       "       subcategory  knowledge  made_sla      impact      number  \\\n",
       "0  Subcategory 170       True      True  2 - Medium  INC0000045   \n",
       "1  Subcategory 170       True      True  2 - Medium  INC0000045   \n",
       "2  Subcategory 170       True      True  2 - Medium  INC0000045   \n",
       "\n",
       "    sys_created_at   u_symptom incident_state  active         resolved_at  \\\n",
       "0  29/2/2016 01:23  Symptom 72            New    True 2016-02-29 11:29:00   \n",
       "1  29/2/2016 01:23  Symptom 72       Resolved    True 2016-02-29 11:29:00   \n",
       "2  29/2/2016 01:23  Symptom 72       Resolved    True 2016-02-29 11:29:00   \n",
       "\n",
       "      category           opened_at           closed_at  \n",
       "0  Category 55 2016-02-29 01:16:00 2016-05-03 12:00:00  \n",
       "1  Category 55 2016-02-29 01:16:00 2016-05-03 12:00:00  \n",
       "2  Category 55 2016-02-29 01:16:00 2016-05-03 12:00:00  "
      ]
     },
     "execution_count": 276,
     "metadata": {},
     "output_type": "execute_result"
    }
   ],
   "source": [
    "df.head(3)"
   ]
  },
  {
   "cell_type": "code",
   "execution_count": 277,
   "metadata": {
    "colab": {
     "base_uri": "https://localhost:8080/"
    },
    "id": "f05efee6",
    "outputId": "c67a2566-41cf-4fb9-d70b-861c40c36fa5"
   },
   "outputs": [
    {
     "data": {
      "text/plain": [
       "array(['1 - Critical', '2 - High', '3 - Moderate', '4 - Low'],\n",
       "      dtype=object)"
      ]
     },
     "execution_count": 277,
     "metadata": {},
     "output_type": "execute_result"
    }
   ],
   "source": [
    "np.unique(df['priority'])"
   ]
  },
  {
   "cell_type": "code",
   "execution_count": 278,
   "metadata": {
    "id": "9ab62054"
   },
   "outputs": [],
   "source": [
    "df['impact']=df['impact'].apply(lambda x:int(x[0]))"
   ]
  },
  {
   "cell_type": "code",
   "execution_count": 279,
   "metadata": {
    "id": "25ad110f"
   },
   "outputs": [],
   "source": [
    "df['priority']=df['priority'].apply(lambda x:int(x[0]))"
   ]
  },
  {
   "cell_type": "code",
   "execution_count": 280,
   "metadata": {
    "colab": {
     "base_uri": "https://localhost:8080/"
    },
    "id": "ec5263a4",
    "outputId": "86a82068-b137-45df-d1ca-e1512ff53e23"
   },
   "outputs": [
    {
     "data": {
      "text/plain": [
       "array([1, 2, 3, 4], dtype=int64)"
      ]
     },
     "execution_count": 280,
     "metadata": {},
     "output_type": "execute_result"
    }
   ],
   "source": [
    "np.unique(df['priority'])"
   ]
  },
  {
   "cell_type": "code",
   "execution_count": 281,
   "metadata": {
    "colab": {
     "base_uri": "https://localhost:8080/",
     "height": 835
    },
    "id": "d201af89",
    "outputId": "30d6a9ec-0f53-46ab-98c8-abf8cfa75fef"
   },
   "outputs": [
    {
     "data": {
      "text/html": [
       "<div>\n",
       "<style scoped>\n",
       "    .dataframe tbody tr th:only-of-type {\n",
       "        vertical-align: middle;\n",
       "    }\n",
       "\n",
       "    .dataframe tbody tr th {\n",
       "        vertical-align: top;\n",
       "    }\n",
       "\n",
       "    .dataframe thead th {\n",
       "        text-align: right;\n",
       "    }\n",
       "</style>\n",
       "<table border=\"1\" class=\"dataframe\">\n",
       "  <thead>\n",
       "    <tr style=\"text-align: right;\">\n",
       "      <th></th>\n",
       "      <th>level_0</th>\n",
       "      <th>priority</th>\n",
       "      <th>reopen_count</th>\n",
       "      <th>sys_updated_at</th>\n",
       "      <th>contact_type</th>\n",
       "      <th>subcategory</th>\n",
       "      <th>knowledge</th>\n",
       "      <th>made_sla</th>\n",
       "      <th>impact</th>\n",
       "      <th>number</th>\n",
       "      <th>sys_created_at</th>\n",
       "      <th>u_symptom</th>\n",
       "      <th>incident_state</th>\n",
       "      <th>active</th>\n",
       "      <th>resolved_at</th>\n",
       "      <th>category</th>\n",
       "      <th>opened_at</th>\n",
       "      <th>closed_at</th>\n",
       "    </tr>\n",
       "  </thead>\n",
       "  <tbody>\n",
       "    <tr>\n",
       "      <th>0</th>\n",
       "      <td>0</td>\n",
       "      <td>3</td>\n",
       "      <td>0</td>\n",
       "      <td>29/2/2016 01:23</td>\n",
       "      <td>Phone</td>\n",
       "      <td>Subcategory 170</td>\n",
       "      <td>True</td>\n",
       "      <td>True</td>\n",
       "      <td>2</td>\n",
       "      <td>INC0000045</td>\n",
       "      <td>29/2/2016 01:23</td>\n",
       "      <td>Symptom 72</td>\n",
       "      <td>New</td>\n",
       "      <td>True</td>\n",
       "      <td>2016-02-29 11:29:00</td>\n",
       "      <td>Category 55</td>\n",
       "      <td>2016-02-29 01:16:00</td>\n",
       "      <td>2016-05-03 12:00:00</td>\n",
       "    </tr>\n",
       "    <tr>\n",
       "      <th>1</th>\n",
       "      <td>1</td>\n",
       "      <td>3</td>\n",
       "      <td>0</td>\n",
       "      <td>29/2/2016 08:53</td>\n",
       "      <td>Phone</td>\n",
       "      <td>Subcategory 170</td>\n",
       "      <td>True</td>\n",
       "      <td>True</td>\n",
       "      <td>2</td>\n",
       "      <td>INC0000045</td>\n",
       "      <td>29/2/2016 01:23</td>\n",
       "      <td>Symptom 72</td>\n",
       "      <td>Resolved</td>\n",
       "      <td>True</td>\n",
       "      <td>2016-02-29 11:29:00</td>\n",
       "      <td>Category 55</td>\n",
       "      <td>2016-02-29 01:16:00</td>\n",
       "      <td>2016-05-03 12:00:00</td>\n",
       "    </tr>\n",
       "    <tr>\n",
       "      <th>2</th>\n",
       "      <td>2</td>\n",
       "      <td>3</td>\n",
       "      <td>0</td>\n",
       "      <td>29/2/2016 11:29</td>\n",
       "      <td>Phone</td>\n",
       "      <td>Subcategory 170</td>\n",
       "      <td>True</td>\n",
       "      <td>True</td>\n",
       "      <td>2</td>\n",
       "      <td>INC0000045</td>\n",
       "      <td>29/2/2016 01:23</td>\n",
       "      <td>Symptom 72</td>\n",
       "      <td>Resolved</td>\n",
       "      <td>True</td>\n",
       "      <td>2016-02-29 11:29:00</td>\n",
       "      <td>Category 55</td>\n",
       "      <td>2016-02-29 01:16:00</td>\n",
       "      <td>2016-05-03 12:00:00</td>\n",
       "    </tr>\n",
       "    <tr>\n",
       "      <th>3</th>\n",
       "      <td>3</td>\n",
       "      <td>3</td>\n",
       "      <td>0</td>\n",
       "      <td>5/3/2016 12:00</td>\n",
       "      <td>Phone</td>\n",
       "      <td>Subcategory 170</td>\n",
       "      <td>True</td>\n",
       "      <td>True</td>\n",
       "      <td>2</td>\n",
       "      <td>INC0000045</td>\n",
       "      <td>29/2/2016 01:23</td>\n",
       "      <td>Symptom 72</td>\n",
       "      <td>Closed</td>\n",
       "      <td>False</td>\n",
       "      <td>2016-02-29 11:29:00</td>\n",
       "      <td>Category 55</td>\n",
       "      <td>2016-02-29 01:16:00</td>\n",
       "      <td>2016-05-03 12:00:00</td>\n",
       "    </tr>\n",
       "    <tr>\n",
       "      <th>4</th>\n",
       "      <td>4</td>\n",
       "      <td>3</td>\n",
       "      <td>0</td>\n",
       "      <td>29/2/2016 04:57</td>\n",
       "      <td>Phone</td>\n",
       "      <td>Subcategory 215</td>\n",
       "      <td>True</td>\n",
       "      <td>True</td>\n",
       "      <td>2</td>\n",
       "      <td>INC0000047</td>\n",
       "      <td>29/2/2016 04:57</td>\n",
       "      <td>Symptom 471</td>\n",
       "      <td>New</td>\n",
       "      <td>True</td>\n",
       "      <td>2016-01-03 09:52:00</td>\n",
       "      <td>Category 40</td>\n",
       "      <td>2016-02-29 04:40:00</td>\n",
       "      <td>2016-06-03 10:00:00</td>\n",
       "    </tr>\n",
       "    <tr>\n",
       "      <th>...</th>\n",
       "      <td>...</td>\n",
       "      <td>...</td>\n",
       "      <td>...</td>\n",
       "      <td>...</td>\n",
       "      <td>...</td>\n",
       "      <td>...</td>\n",
       "      <td>...</td>\n",
       "      <td>...</td>\n",
       "      <td>...</td>\n",
       "      <td>...</td>\n",
       "      <td>...</td>\n",
       "      <td>...</td>\n",
       "      <td>...</td>\n",
       "      <td>...</td>\n",
       "      <td>...</td>\n",
       "      <td>...</td>\n",
       "      <td>...</td>\n",
       "      <td>...</td>\n",
       "    </tr>\n",
       "    <tr>\n",
       "      <th>138566</th>\n",
       "      <td>138566</td>\n",
       "      <td>3</td>\n",
       "      <td>0</td>\n",
       "      <td>16/2/2017 09:53</td>\n",
       "      <td>Email</td>\n",
       "      <td>Subcategory 223</td>\n",
       "      <td>False</td>\n",
       "      <td>True</td>\n",
       "      <td>2</td>\n",
       "      <td>INC0120835</td>\n",
       "      <td>16/2/2017 09:53</td>\n",
       "      <td>Symptom 494</td>\n",
       "      <td>Closed</td>\n",
       "      <td>False</td>\n",
       "      <td>2017-02-16 09:53:00</td>\n",
       "      <td>Category 42</td>\n",
       "      <td>2017-02-16 09:09:00</td>\n",
       "      <td>2017-02-16 09:53:00</td>\n",
       "    </tr>\n",
       "    <tr>\n",
       "      <th>138567</th>\n",
       "      <td>138567</td>\n",
       "      <td>3</td>\n",
       "      <td>0</td>\n",
       "      <td>16/2/2017 14:17</td>\n",
       "      <td>Email</td>\n",
       "      <td>Subcategory 223</td>\n",
       "      <td>False</td>\n",
       "      <td>True</td>\n",
       "      <td>2</td>\n",
       "      <td>INC0121064</td>\n",
       "      <td>16/2/2017 14:17</td>\n",
       "      <td>Symptom 494</td>\n",
       "      <td>Active</td>\n",
       "      <td>True</td>\n",
       "      <td>2017-02-16 16:38:00</td>\n",
       "      <td>Category 42</td>\n",
       "      <td>2017-02-16 14:17:00</td>\n",
       "      <td>2017-02-16 16:38:00</td>\n",
       "    </tr>\n",
       "    <tr>\n",
       "      <th>138568</th>\n",
       "      <td>138568</td>\n",
       "      <td>3</td>\n",
       "      <td>0</td>\n",
       "      <td>16/2/2017 15:20</td>\n",
       "      <td>Email</td>\n",
       "      <td>Subcategory 223</td>\n",
       "      <td>False</td>\n",
       "      <td>True</td>\n",
       "      <td>2</td>\n",
       "      <td>INC0121064</td>\n",
       "      <td>16/2/2017 15:20</td>\n",
       "      <td>Symptom 494</td>\n",
       "      <td>Active</td>\n",
       "      <td>True</td>\n",
       "      <td>2017-02-16 16:38:00</td>\n",
       "      <td>Category 42</td>\n",
       "      <td>2017-02-16 14:17:00</td>\n",
       "      <td>2017-02-16 16:38:00</td>\n",
       "    </tr>\n",
       "    <tr>\n",
       "      <th>138569</th>\n",
       "      <td>138569</td>\n",
       "      <td>3</td>\n",
       "      <td>0</td>\n",
       "      <td>16/2/2017 16:38</td>\n",
       "      <td>Email</td>\n",
       "      <td>Subcategory 223</td>\n",
       "      <td>False</td>\n",
       "      <td>True</td>\n",
       "      <td>2</td>\n",
       "      <td>INC0121064</td>\n",
       "      <td>16/2/2017 16:38</td>\n",
       "      <td>Symptom 494</td>\n",
       "      <td>Resolved</td>\n",
       "      <td>True</td>\n",
       "      <td>2017-02-16 16:38:00</td>\n",
       "      <td>Category 42</td>\n",
       "      <td>2017-02-16 14:17:00</td>\n",
       "      <td>2017-02-16 16:38:00</td>\n",
       "    </tr>\n",
       "    <tr>\n",
       "      <th>138570</th>\n",
       "      <td>138570</td>\n",
       "      <td>3</td>\n",
       "      <td>0</td>\n",
       "      <td>16/2/2017 16:38</td>\n",
       "      <td>Email</td>\n",
       "      <td>Subcategory 223</td>\n",
       "      <td>False</td>\n",
       "      <td>True</td>\n",
       "      <td>2</td>\n",
       "      <td>INC0121064</td>\n",
       "      <td>16/2/2017 16:38</td>\n",
       "      <td>Symptom 494</td>\n",
       "      <td>Closed</td>\n",
       "      <td>False</td>\n",
       "      <td>2017-02-16 16:38:00</td>\n",
       "      <td>Category 42</td>\n",
       "      <td>2017-02-16 14:17:00</td>\n",
       "      <td>2017-02-16 16:38:00</td>\n",
       "    </tr>\n",
       "  </tbody>\n",
       "</table>\n",
       "<p>89134 rows × 18 columns</p>\n",
       "</div>"
      ],
      "text/plain": [
       "        level_0  priority  reopen_count   sys_updated_at contact_type  \\\n",
       "0             0         3             0  29/2/2016 01:23        Phone   \n",
       "1             1         3             0  29/2/2016 08:53        Phone   \n",
       "2             2         3             0  29/2/2016 11:29        Phone   \n",
       "3             3         3             0   5/3/2016 12:00        Phone   \n",
       "4             4         3             0  29/2/2016 04:57        Phone   \n",
       "...         ...       ...           ...              ...          ...   \n",
       "138566   138566         3             0  16/2/2017 09:53        Email   \n",
       "138567   138567         3             0  16/2/2017 14:17        Email   \n",
       "138568   138568         3             0  16/2/2017 15:20        Email   \n",
       "138569   138569         3             0  16/2/2017 16:38        Email   \n",
       "138570   138570         3             0  16/2/2017 16:38        Email   \n",
       "\n",
       "            subcategory  knowledge  made_sla  impact      number  \\\n",
       "0       Subcategory 170       True      True       2  INC0000045   \n",
       "1       Subcategory 170       True      True       2  INC0000045   \n",
       "2       Subcategory 170       True      True       2  INC0000045   \n",
       "3       Subcategory 170       True      True       2  INC0000045   \n",
       "4       Subcategory 215       True      True       2  INC0000047   \n",
       "...                 ...        ...       ...     ...         ...   \n",
       "138566  Subcategory 223      False      True       2  INC0120835   \n",
       "138567  Subcategory 223      False      True       2  INC0121064   \n",
       "138568  Subcategory 223      False      True       2  INC0121064   \n",
       "138569  Subcategory 223      False      True       2  INC0121064   \n",
       "138570  Subcategory 223      False      True       2  INC0121064   \n",
       "\n",
       "         sys_created_at    u_symptom incident_state  active  \\\n",
       "0       29/2/2016 01:23   Symptom 72            New    True   \n",
       "1       29/2/2016 01:23   Symptom 72       Resolved    True   \n",
       "2       29/2/2016 01:23   Symptom 72       Resolved    True   \n",
       "3       29/2/2016 01:23   Symptom 72         Closed   False   \n",
       "4       29/2/2016 04:57  Symptom 471            New    True   \n",
       "...                 ...          ...            ...     ...   \n",
       "138566  16/2/2017 09:53  Symptom 494         Closed   False   \n",
       "138567  16/2/2017 14:17  Symptom 494         Active    True   \n",
       "138568  16/2/2017 15:20  Symptom 494         Active    True   \n",
       "138569  16/2/2017 16:38  Symptom 494       Resolved    True   \n",
       "138570  16/2/2017 16:38  Symptom 494         Closed   False   \n",
       "\n",
       "               resolved_at     category           opened_at  \\\n",
       "0      2016-02-29 11:29:00  Category 55 2016-02-29 01:16:00   \n",
       "1      2016-02-29 11:29:00  Category 55 2016-02-29 01:16:00   \n",
       "2      2016-02-29 11:29:00  Category 55 2016-02-29 01:16:00   \n",
       "3      2016-02-29 11:29:00  Category 55 2016-02-29 01:16:00   \n",
       "4      2016-01-03 09:52:00  Category 40 2016-02-29 04:40:00   \n",
       "...                    ...          ...                 ...   \n",
       "138566 2017-02-16 09:53:00  Category 42 2017-02-16 09:09:00   \n",
       "138567 2017-02-16 16:38:00  Category 42 2017-02-16 14:17:00   \n",
       "138568 2017-02-16 16:38:00  Category 42 2017-02-16 14:17:00   \n",
       "138569 2017-02-16 16:38:00  Category 42 2017-02-16 14:17:00   \n",
       "138570 2017-02-16 16:38:00  Category 42 2017-02-16 14:17:00   \n",
       "\n",
       "                 closed_at  \n",
       "0      2016-05-03 12:00:00  \n",
       "1      2016-05-03 12:00:00  \n",
       "2      2016-05-03 12:00:00  \n",
       "3      2016-05-03 12:00:00  \n",
       "4      2016-06-03 10:00:00  \n",
       "...                    ...  \n",
       "138566 2017-02-16 09:53:00  \n",
       "138567 2017-02-16 16:38:00  \n",
       "138568 2017-02-16 16:38:00  \n",
       "138569 2017-02-16 16:38:00  \n",
       "138570 2017-02-16 16:38:00  \n",
       "\n",
       "[89134 rows x 18 columns]"
      ]
     },
     "execution_count": 281,
     "metadata": {},
     "output_type": "execute_result"
    }
   ],
   "source": [
    "df"
   ]
  },
  {
   "cell_type": "code",
   "execution_count": 282,
   "metadata": {
    "id": "27e26894"
   },
   "outputs": [],
   "source": [
    "df.drop_duplicates(inplace=True)"
   ]
  },
  {
   "cell_type": "code",
   "execution_count": 283,
   "metadata": {
    "colab": {
     "base_uri": "https://localhost:8080/",
     "height": 835
    },
    "id": "f48a6189",
    "outputId": "ea92b348-38bf-4ee6-fac3-71dd9c727910"
   },
   "outputs": [
    {
     "data": {
      "text/html": [
       "<div>\n",
       "<style scoped>\n",
       "    .dataframe tbody tr th:only-of-type {\n",
       "        vertical-align: middle;\n",
       "    }\n",
       "\n",
       "    .dataframe tbody tr th {\n",
       "        vertical-align: top;\n",
       "    }\n",
       "\n",
       "    .dataframe thead th {\n",
       "        text-align: right;\n",
       "    }\n",
       "</style>\n",
       "<table border=\"1\" class=\"dataframe\">\n",
       "  <thead>\n",
       "    <tr style=\"text-align: right;\">\n",
       "      <th></th>\n",
       "      <th>level_0</th>\n",
       "      <th>priority</th>\n",
       "      <th>reopen_count</th>\n",
       "      <th>sys_updated_at</th>\n",
       "      <th>contact_type</th>\n",
       "      <th>subcategory</th>\n",
       "      <th>knowledge</th>\n",
       "      <th>made_sla</th>\n",
       "      <th>impact</th>\n",
       "      <th>number</th>\n",
       "      <th>sys_created_at</th>\n",
       "      <th>u_symptom</th>\n",
       "      <th>incident_state</th>\n",
       "      <th>active</th>\n",
       "      <th>resolved_at</th>\n",
       "      <th>category</th>\n",
       "      <th>opened_at</th>\n",
       "      <th>closed_at</th>\n",
       "    </tr>\n",
       "  </thead>\n",
       "  <tbody>\n",
       "    <tr>\n",
       "      <th>0</th>\n",
       "      <td>0</td>\n",
       "      <td>3</td>\n",
       "      <td>0</td>\n",
       "      <td>29/2/2016 01:23</td>\n",
       "      <td>Phone</td>\n",
       "      <td>Subcategory 170</td>\n",
       "      <td>True</td>\n",
       "      <td>True</td>\n",
       "      <td>2</td>\n",
       "      <td>INC0000045</td>\n",
       "      <td>29/2/2016 01:23</td>\n",
       "      <td>Symptom 72</td>\n",
       "      <td>New</td>\n",
       "      <td>True</td>\n",
       "      <td>2016-02-29 11:29:00</td>\n",
       "      <td>Category 55</td>\n",
       "      <td>2016-02-29 01:16:00</td>\n",
       "      <td>2016-05-03 12:00:00</td>\n",
       "    </tr>\n",
       "    <tr>\n",
       "      <th>1</th>\n",
       "      <td>1</td>\n",
       "      <td>3</td>\n",
       "      <td>0</td>\n",
       "      <td>29/2/2016 08:53</td>\n",
       "      <td>Phone</td>\n",
       "      <td>Subcategory 170</td>\n",
       "      <td>True</td>\n",
       "      <td>True</td>\n",
       "      <td>2</td>\n",
       "      <td>INC0000045</td>\n",
       "      <td>29/2/2016 01:23</td>\n",
       "      <td>Symptom 72</td>\n",
       "      <td>Resolved</td>\n",
       "      <td>True</td>\n",
       "      <td>2016-02-29 11:29:00</td>\n",
       "      <td>Category 55</td>\n",
       "      <td>2016-02-29 01:16:00</td>\n",
       "      <td>2016-05-03 12:00:00</td>\n",
       "    </tr>\n",
       "    <tr>\n",
       "      <th>2</th>\n",
       "      <td>2</td>\n",
       "      <td>3</td>\n",
       "      <td>0</td>\n",
       "      <td>29/2/2016 11:29</td>\n",
       "      <td>Phone</td>\n",
       "      <td>Subcategory 170</td>\n",
       "      <td>True</td>\n",
       "      <td>True</td>\n",
       "      <td>2</td>\n",
       "      <td>INC0000045</td>\n",
       "      <td>29/2/2016 01:23</td>\n",
       "      <td>Symptom 72</td>\n",
       "      <td>Resolved</td>\n",
       "      <td>True</td>\n",
       "      <td>2016-02-29 11:29:00</td>\n",
       "      <td>Category 55</td>\n",
       "      <td>2016-02-29 01:16:00</td>\n",
       "      <td>2016-05-03 12:00:00</td>\n",
       "    </tr>\n",
       "    <tr>\n",
       "      <th>3</th>\n",
       "      <td>3</td>\n",
       "      <td>3</td>\n",
       "      <td>0</td>\n",
       "      <td>5/3/2016 12:00</td>\n",
       "      <td>Phone</td>\n",
       "      <td>Subcategory 170</td>\n",
       "      <td>True</td>\n",
       "      <td>True</td>\n",
       "      <td>2</td>\n",
       "      <td>INC0000045</td>\n",
       "      <td>29/2/2016 01:23</td>\n",
       "      <td>Symptom 72</td>\n",
       "      <td>Closed</td>\n",
       "      <td>False</td>\n",
       "      <td>2016-02-29 11:29:00</td>\n",
       "      <td>Category 55</td>\n",
       "      <td>2016-02-29 01:16:00</td>\n",
       "      <td>2016-05-03 12:00:00</td>\n",
       "    </tr>\n",
       "    <tr>\n",
       "      <th>4</th>\n",
       "      <td>4</td>\n",
       "      <td>3</td>\n",
       "      <td>0</td>\n",
       "      <td>29/2/2016 04:57</td>\n",
       "      <td>Phone</td>\n",
       "      <td>Subcategory 215</td>\n",
       "      <td>True</td>\n",
       "      <td>True</td>\n",
       "      <td>2</td>\n",
       "      <td>INC0000047</td>\n",
       "      <td>29/2/2016 04:57</td>\n",
       "      <td>Symptom 471</td>\n",
       "      <td>New</td>\n",
       "      <td>True</td>\n",
       "      <td>2016-01-03 09:52:00</td>\n",
       "      <td>Category 40</td>\n",
       "      <td>2016-02-29 04:40:00</td>\n",
       "      <td>2016-06-03 10:00:00</td>\n",
       "    </tr>\n",
       "    <tr>\n",
       "      <th>...</th>\n",
       "      <td>...</td>\n",
       "      <td>...</td>\n",
       "      <td>...</td>\n",
       "      <td>...</td>\n",
       "      <td>...</td>\n",
       "      <td>...</td>\n",
       "      <td>...</td>\n",
       "      <td>...</td>\n",
       "      <td>...</td>\n",
       "      <td>...</td>\n",
       "      <td>...</td>\n",
       "      <td>...</td>\n",
       "      <td>...</td>\n",
       "      <td>...</td>\n",
       "      <td>...</td>\n",
       "      <td>...</td>\n",
       "      <td>...</td>\n",
       "      <td>...</td>\n",
       "    </tr>\n",
       "    <tr>\n",
       "      <th>138566</th>\n",
       "      <td>138566</td>\n",
       "      <td>3</td>\n",
       "      <td>0</td>\n",
       "      <td>16/2/2017 09:53</td>\n",
       "      <td>Email</td>\n",
       "      <td>Subcategory 223</td>\n",
       "      <td>False</td>\n",
       "      <td>True</td>\n",
       "      <td>2</td>\n",
       "      <td>INC0120835</td>\n",
       "      <td>16/2/2017 09:53</td>\n",
       "      <td>Symptom 494</td>\n",
       "      <td>Closed</td>\n",
       "      <td>False</td>\n",
       "      <td>2017-02-16 09:53:00</td>\n",
       "      <td>Category 42</td>\n",
       "      <td>2017-02-16 09:09:00</td>\n",
       "      <td>2017-02-16 09:53:00</td>\n",
       "    </tr>\n",
       "    <tr>\n",
       "      <th>138567</th>\n",
       "      <td>138567</td>\n",
       "      <td>3</td>\n",
       "      <td>0</td>\n",
       "      <td>16/2/2017 14:17</td>\n",
       "      <td>Email</td>\n",
       "      <td>Subcategory 223</td>\n",
       "      <td>False</td>\n",
       "      <td>True</td>\n",
       "      <td>2</td>\n",
       "      <td>INC0121064</td>\n",
       "      <td>16/2/2017 14:17</td>\n",
       "      <td>Symptom 494</td>\n",
       "      <td>Active</td>\n",
       "      <td>True</td>\n",
       "      <td>2017-02-16 16:38:00</td>\n",
       "      <td>Category 42</td>\n",
       "      <td>2017-02-16 14:17:00</td>\n",
       "      <td>2017-02-16 16:38:00</td>\n",
       "    </tr>\n",
       "    <tr>\n",
       "      <th>138568</th>\n",
       "      <td>138568</td>\n",
       "      <td>3</td>\n",
       "      <td>0</td>\n",
       "      <td>16/2/2017 15:20</td>\n",
       "      <td>Email</td>\n",
       "      <td>Subcategory 223</td>\n",
       "      <td>False</td>\n",
       "      <td>True</td>\n",
       "      <td>2</td>\n",
       "      <td>INC0121064</td>\n",
       "      <td>16/2/2017 15:20</td>\n",
       "      <td>Symptom 494</td>\n",
       "      <td>Active</td>\n",
       "      <td>True</td>\n",
       "      <td>2017-02-16 16:38:00</td>\n",
       "      <td>Category 42</td>\n",
       "      <td>2017-02-16 14:17:00</td>\n",
       "      <td>2017-02-16 16:38:00</td>\n",
       "    </tr>\n",
       "    <tr>\n",
       "      <th>138569</th>\n",
       "      <td>138569</td>\n",
       "      <td>3</td>\n",
       "      <td>0</td>\n",
       "      <td>16/2/2017 16:38</td>\n",
       "      <td>Email</td>\n",
       "      <td>Subcategory 223</td>\n",
       "      <td>False</td>\n",
       "      <td>True</td>\n",
       "      <td>2</td>\n",
       "      <td>INC0121064</td>\n",
       "      <td>16/2/2017 16:38</td>\n",
       "      <td>Symptom 494</td>\n",
       "      <td>Resolved</td>\n",
       "      <td>True</td>\n",
       "      <td>2017-02-16 16:38:00</td>\n",
       "      <td>Category 42</td>\n",
       "      <td>2017-02-16 14:17:00</td>\n",
       "      <td>2017-02-16 16:38:00</td>\n",
       "    </tr>\n",
       "    <tr>\n",
       "      <th>138570</th>\n",
       "      <td>138570</td>\n",
       "      <td>3</td>\n",
       "      <td>0</td>\n",
       "      <td>16/2/2017 16:38</td>\n",
       "      <td>Email</td>\n",
       "      <td>Subcategory 223</td>\n",
       "      <td>False</td>\n",
       "      <td>True</td>\n",
       "      <td>2</td>\n",
       "      <td>INC0121064</td>\n",
       "      <td>16/2/2017 16:38</td>\n",
       "      <td>Symptom 494</td>\n",
       "      <td>Closed</td>\n",
       "      <td>False</td>\n",
       "      <td>2017-02-16 16:38:00</td>\n",
       "      <td>Category 42</td>\n",
       "      <td>2017-02-16 14:17:00</td>\n",
       "      <td>2017-02-16 16:38:00</td>\n",
       "    </tr>\n",
       "  </tbody>\n",
       "</table>\n",
       "<p>89134 rows × 18 columns</p>\n",
       "</div>"
      ],
      "text/plain": [
       "        level_0  priority  reopen_count   sys_updated_at contact_type  \\\n",
       "0             0         3             0  29/2/2016 01:23        Phone   \n",
       "1             1         3             0  29/2/2016 08:53        Phone   \n",
       "2             2         3             0  29/2/2016 11:29        Phone   \n",
       "3             3         3             0   5/3/2016 12:00        Phone   \n",
       "4             4         3             0  29/2/2016 04:57        Phone   \n",
       "...         ...       ...           ...              ...          ...   \n",
       "138566   138566         3             0  16/2/2017 09:53        Email   \n",
       "138567   138567         3             0  16/2/2017 14:17        Email   \n",
       "138568   138568         3             0  16/2/2017 15:20        Email   \n",
       "138569   138569         3             0  16/2/2017 16:38        Email   \n",
       "138570   138570         3             0  16/2/2017 16:38        Email   \n",
       "\n",
       "            subcategory  knowledge  made_sla  impact      number  \\\n",
       "0       Subcategory 170       True      True       2  INC0000045   \n",
       "1       Subcategory 170       True      True       2  INC0000045   \n",
       "2       Subcategory 170       True      True       2  INC0000045   \n",
       "3       Subcategory 170       True      True       2  INC0000045   \n",
       "4       Subcategory 215       True      True       2  INC0000047   \n",
       "...                 ...        ...       ...     ...         ...   \n",
       "138566  Subcategory 223      False      True       2  INC0120835   \n",
       "138567  Subcategory 223      False      True       2  INC0121064   \n",
       "138568  Subcategory 223      False      True       2  INC0121064   \n",
       "138569  Subcategory 223      False      True       2  INC0121064   \n",
       "138570  Subcategory 223      False      True       2  INC0121064   \n",
       "\n",
       "         sys_created_at    u_symptom incident_state  active  \\\n",
       "0       29/2/2016 01:23   Symptom 72            New    True   \n",
       "1       29/2/2016 01:23   Symptom 72       Resolved    True   \n",
       "2       29/2/2016 01:23   Symptom 72       Resolved    True   \n",
       "3       29/2/2016 01:23   Symptom 72         Closed   False   \n",
       "4       29/2/2016 04:57  Symptom 471            New    True   \n",
       "...                 ...          ...            ...     ...   \n",
       "138566  16/2/2017 09:53  Symptom 494         Closed   False   \n",
       "138567  16/2/2017 14:17  Symptom 494         Active    True   \n",
       "138568  16/2/2017 15:20  Symptom 494         Active    True   \n",
       "138569  16/2/2017 16:38  Symptom 494       Resolved    True   \n",
       "138570  16/2/2017 16:38  Symptom 494         Closed   False   \n",
       "\n",
       "               resolved_at     category           opened_at  \\\n",
       "0      2016-02-29 11:29:00  Category 55 2016-02-29 01:16:00   \n",
       "1      2016-02-29 11:29:00  Category 55 2016-02-29 01:16:00   \n",
       "2      2016-02-29 11:29:00  Category 55 2016-02-29 01:16:00   \n",
       "3      2016-02-29 11:29:00  Category 55 2016-02-29 01:16:00   \n",
       "4      2016-01-03 09:52:00  Category 40 2016-02-29 04:40:00   \n",
       "...                    ...          ...                 ...   \n",
       "138566 2017-02-16 09:53:00  Category 42 2017-02-16 09:09:00   \n",
       "138567 2017-02-16 16:38:00  Category 42 2017-02-16 14:17:00   \n",
       "138568 2017-02-16 16:38:00  Category 42 2017-02-16 14:17:00   \n",
       "138569 2017-02-16 16:38:00  Category 42 2017-02-16 14:17:00   \n",
       "138570 2017-02-16 16:38:00  Category 42 2017-02-16 14:17:00   \n",
       "\n",
       "                 closed_at  \n",
       "0      2016-05-03 12:00:00  \n",
       "1      2016-05-03 12:00:00  \n",
       "2      2016-05-03 12:00:00  \n",
       "3      2016-05-03 12:00:00  \n",
       "4      2016-06-03 10:00:00  \n",
       "...                    ...  \n",
       "138566 2017-02-16 09:53:00  \n",
       "138567 2017-02-16 16:38:00  \n",
       "138568 2017-02-16 16:38:00  \n",
       "138569 2017-02-16 16:38:00  \n",
       "138570 2017-02-16 16:38:00  \n",
       "\n",
       "[89134 rows x 18 columns]"
      ]
     },
     "execution_count": 283,
     "metadata": {},
     "output_type": "execute_result"
    }
   ],
   "source": [
    "df"
   ]
  },
  {
   "cell_type": "code",
   "execution_count": 284,
   "metadata": {
    "id": "e6143fd7"
   },
   "outputs": [],
   "source": [
    "#filters = ['sys_updated_at','sys_created_at']\n",
    "filters = ['opened_at']"
   ]
  },
  {
   "cell_type": "code",
   "execution_count": 285,
   "metadata": {
    "id": "c0cd085c"
   },
   "outputs": [],
   "source": [
    "for i in filters:\n",
    "    df[i]=pd.to_datetime(df[i])"
   ]
  },
  {
   "cell_type": "code",
   "execution_count": 286,
   "metadata": {
    "id": "bf88f0b8"
   },
   "outputs": [],
   "source": [
    "for i in filters:\n",
    "    v=list(df[i])\n",
    "    day=[i.day for i in v]\n",
    "    month=[i.month for i in v]\n",
    "    year=[i.year for i in v]\n",
    "    hour=[i.time().hour for i in v]\n",
    "    minute=[i.time().minute for i in v]\n",
    "    df[i+'_day']=day\n",
    "    df[i+'_month']=month\n",
    "    df[i+'_year']=year\n",
    "    df[i+'_hour']=hour\n",
    "    df[i+'_minute']=minute"
   ]
  },
  {
   "cell_type": "code",
   "execution_count": 287,
   "metadata": {
    "colab": {
     "base_uri": "https://localhost:8080/"
    },
    "id": "209c752b",
    "outputId": "9311ee5c-bc6d-4911-eac6-6fc582308607"
   },
   "outputs": [
    {
     "data": {
      "text/plain": [
       "Index(['level_0', 'priority', 'reopen_count', 'sys_updated_at', 'contact_type',\n",
       "       'subcategory', 'knowledge', 'made_sla', 'impact', 'number',\n",
       "       'sys_created_at', 'u_symptom', 'incident_state', 'active',\n",
       "       'resolved_at', 'category', 'opened_at', 'closed_at', 'opened_at_day',\n",
       "       'opened_at_month', 'opened_at_year', 'opened_at_hour',\n",
       "       'opened_at_minute'],\n",
       "      dtype='object')"
      ]
     },
     "execution_count": 287,
     "metadata": {},
     "output_type": "execute_result"
    }
   ],
   "source": [
    "df.columns"
   ]
  },
  {
   "cell_type": "code",
   "execution_count": 288,
   "metadata": {
    "id": "4cfafed1"
   },
   "outputs": [],
   "source": [
    "df.drop(columns=['sys_updated_at','sys_created_at','level_0'],inplace=True)"
   ]
  },
  {
   "cell_type": "code",
   "execution_count": 289,
   "metadata": {
    "colab": {
     "base_uri": "https://localhost:8080/",
     "height": 835
    },
    "id": "171126bb",
    "outputId": "380f2822-7ef5-4863-99e1-1cb3c66ce74d"
   },
   "outputs": [
    {
     "data": {
      "text/html": [
       "<div>\n",
       "<style scoped>\n",
       "    .dataframe tbody tr th:only-of-type {\n",
       "        vertical-align: middle;\n",
       "    }\n",
       "\n",
       "    .dataframe tbody tr th {\n",
       "        vertical-align: top;\n",
       "    }\n",
       "\n",
       "    .dataframe thead th {\n",
       "        text-align: right;\n",
       "    }\n",
       "</style>\n",
       "<table border=\"1\" class=\"dataframe\">\n",
       "  <thead>\n",
       "    <tr style=\"text-align: right;\">\n",
       "      <th></th>\n",
       "      <th>priority</th>\n",
       "      <th>reopen_count</th>\n",
       "      <th>contact_type</th>\n",
       "      <th>subcategory</th>\n",
       "      <th>knowledge</th>\n",
       "      <th>made_sla</th>\n",
       "      <th>impact</th>\n",
       "      <th>number</th>\n",
       "      <th>u_symptom</th>\n",
       "      <th>incident_state</th>\n",
       "      <th>active</th>\n",
       "      <th>resolved_at</th>\n",
       "      <th>category</th>\n",
       "      <th>opened_at</th>\n",
       "      <th>closed_at</th>\n",
       "      <th>opened_at_day</th>\n",
       "      <th>opened_at_month</th>\n",
       "      <th>opened_at_year</th>\n",
       "      <th>opened_at_hour</th>\n",
       "      <th>opened_at_minute</th>\n",
       "    </tr>\n",
       "  </thead>\n",
       "  <tbody>\n",
       "    <tr>\n",
       "      <th>0</th>\n",
       "      <td>3</td>\n",
       "      <td>0</td>\n",
       "      <td>Phone</td>\n",
       "      <td>Subcategory 170</td>\n",
       "      <td>True</td>\n",
       "      <td>True</td>\n",
       "      <td>2</td>\n",
       "      <td>INC0000045</td>\n",
       "      <td>Symptom 72</td>\n",
       "      <td>New</td>\n",
       "      <td>True</td>\n",
       "      <td>2016-02-29 11:29:00</td>\n",
       "      <td>Category 55</td>\n",
       "      <td>2016-02-29 01:16:00</td>\n",
       "      <td>2016-05-03 12:00:00</td>\n",
       "      <td>29</td>\n",
       "      <td>2</td>\n",
       "      <td>2016</td>\n",
       "      <td>1</td>\n",
       "      <td>16</td>\n",
       "    </tr>\n",
       "    <tr>\n",
       "      <th>1</th>\n",
       "      <td>3</td>\n",
       "      <td>0</td>\n",
       "      <td>Phone</td>\n",
       "      <td>Subcategory 170</td>\n",
       "      <td>True</td>\n",
       "      <td>True</td>\n",
       "      <td>2</td>\n",
       "      <td>INC0000045</td>\n",
       "      <td>Symptom 72</td>\n",
       "      <td>Resolved</td>\n",
       "      <td>True</td>\n",
       "      <td>2016-02-29 11:29:00</td>\n",
       "      <td>Category 55</td>\n",
       "      <td>2016-02-29 01:16:00</td>\n",
       "      <td>2016-05-03 12:00:00</td>\n",
       "      <td>29</td>\n",
       "      <td>2</td>\n",
       "      <td>2016</td>\n",
       "      <td>1</td>\n",
       "      <td>16</td>\n",
       "    </tr>\n",
       "    <tr>\n",
       "      <th>2</th>\n",
       "      <td>3</td>\n",
       "      <td>0</td>\n",
       "      <td>Phone</td>\n",
       "      <td>Subcategory 170</td>\n",
       "      <td>True</td>\n",
       "      <td>True</td>\n",
       "      <td>2</td>\n",
       "      <td>INC0000045</td>\n",
       "      <td>Symptom 72</td>\n",
       "      <td>Resolved</td>\n",
       "      <td>True</td>\n",
       "      <td>2016-02-29 11:29:00</td>\n",
       "      <td>Category 55</td>\n",
       "      <td>2016-02-29 01:16:00</td>\n",
       "      <td>2016-05-03 12:00:00</td>\n",
       "      <td>29</td>\n",
       "      <td>2</td>\n",
       "      <td>2016</td>\n",
       "      <td>1</td>\n",
       "      <td>16</td>\n",
       "    </tr>\n",
       "    <tr>\n",
       "      <th>3</th>\n",
       "      <td>3</td>\n",
       "      <td>0</td>\n",
       "      <td>Phone</td>\n",
       "      <td>Subcategory 170</td>\n",
       "      <td>True</td>\n",
       "      <td>True</td>\n",
       "      <td>2</td>\n",
       "      <td>INC0000045</td>\n",
       "      <td>Symptom 72</td>\n",
       "      <td>Closed</td>\n",
       "      <td>False</td>\n",
       "      <td>2016-02-29 11:29:00</td>\n",
       "      <td>Category 55</td>\n",
       "      <td>2016-02-29 01:16:00</td>\n",
       "      <td>2016-05-03 12:00:00</td>\n",
       "      <td>29</td>\n",
       "      <td>2</td>\n",
       "      <td>2016</td>\n",
       "      <td>1</td>\n",
       "      <td>16</td>\n",
       "    </tr>\n",
       "    <tr>\n",
       "      <th>4</th>\n",
       "      <td>3</td>\n",
       "      <td>0</td>\n",
       "      <td>Phone</td>\n",
       "      <td>Subcategory 215</td>\n",
       "      <td>True</td>\n",
       "      <td>True</td>\n",
       "      <td>2</td>\n",
       "      <td>INC0000047</td>\n",
       "      <td>Symptom 471</td>\n",
       "      <td>New</td>\n",
       "      <td>True</td>\n",
       "      <td>2016-01-03 09:52:00</td>\n",
       "      <td>Category 40</td>\n",
       "      <td>2016-02-29 04:40:00</td>\n",
       "      <td>2016-06-03 10:00:00</td>\n",
       "      <td>29</td>\n",
       "      <td>2</td>\n",
       "      <td>2016</td>\n",
       "      <td>4</td>\n",
       "      <td>40</td>\n",
       "    </tr>\n",
       "    <tr>\n",
       "      <th>...</th>\n",
       "      <td>...</td>\n",
       "      <td>...</td>\n",
       "      <td>...</td>\n",
       "      <td>...</td>\n",
       "      <td>...</td>\n",
       "      <td>...</td>\n",
       "      <td>...</td>\n",
       "      <td>...</td>\n",
       "      <td>...</td>\n",
       "      <td>...</td>\n",
       "      <td>...</td>\n",
       "      <td>...</td>\n",
       "      <td>...</td>\n",
       "      <td>...</td>\n",
       "      <td>...</td>\n",
       "      <td>...</td>\n",
       "      <td>...</td>\n",
       "      <td>...</td>\n",
       "      <td>...</td>\n",
       "      <td>...</td>\n",
       "    </tr>\n",
       "    <tr>\n",
       "      <th>138566</th>\n",
       "      <td>3</td>\n",
       "      <td>0</td>\n",
       "      <td>Email</td>\n",
       "      <td>Subcategory 223</td>\n",
       "      <td>False</td>\n",
       "      <td>True</td>\n",
       "      <td>2</td>\n",
       "      <td>INC0120835</td>\n",
       "      <td>Symptom 494</td>\n",
       "      <td>Closed</td>\n",
       "      <td>False</td>\n",
       "      <td>2017-02-16 09:53:00</td>\n",
       "      <td>Category 42</td>\n",
       "      <td>2017-02-16 09:09:00</td>\n",
       "      <td>2017-02-16 09:53:00</td>\n",
       "      <td>16</td>\n",
       "      <td>2</td>\n",
       "      <td>2017</td>\n",
       "      <td>9</td>\n",
       "      <td>9</td>\n",
       "    </tr>\n",
       "    <tr>\n",
       "      <th>138567</th>\n",
       "      <td>3</td>\n",
       "      <td>0</td>\n",
       "      <td>Email</td>\n",
       "      <td>Subcategory 223</td>\n",
       "      <td>False</td>\n",
       "      <td>True</td>\n",
       "      <td>2</td>\n",
       "      <td>INC0121064</td>\n",
       "      <td>Symptom 494</td>\n",
       "      <td>Active</td>\n",
       "      <td>True</td>\n",
       "      <td>2017-02-16 16:38:00</td>\n",
       "      <td>Category 42</td>\n",
       "      <td>2017-02-16 14:17:00</td>\n",
       "      <td>2017-02-16 16:38:00</td>\n",
       "      <td>16</td>\n",
       "      <td>2</td>\n",
       "      <td>2017</td>\n",
       "      <td>14</td>\n",
       "      <td>17</td>\n",
       "    </tr>\n",
       "    <tr>\n",
       "      <th>138568</th>\n",
       "      <td>3</td>\n",
       "      <td>0</td>\n",
       "      <td>Email</td>\n",
       "      <td>Subcategory 223</td>\n",
       "      <td>False</td>\n",
       "      <td>True</td>\n",
       "      <td>2</td>\n",
       "      <td>INC0121064</td>\n",
       "      <td>Symptom 494</td>\n",
       "      <td>Active</td>\n",
       "      <td>True</td>\n",
       "      <td>2017-02-16 16:38:00</td>\n",
       "      <td>Category 42</td>\n",
       "      <td>2017-02-16 14:17:00</td>\n",
       "      <td>2017-02-16 16:38:00</td>\n",
       "      <td>16</td>\n",
       "      <td>2</td>\n",
       "      <td>2017</td>\n",
       "      <td>14</td>\n",
       "      <td>17</td>\n",
       "    </tr>\n",
       "    <tr>\n",
       "      <th>138569</th>\n",
       "      <td>3</td>\n",
       "      <td>0</td>\n",
       "      <td>Email</td>\n",
       "      <td>Subcategory 223</td>\n",
       "      <td>False</td>\n",
       "      <td>True</td>\n",
       "      <td>2</td>\n",
       "      <td>INC0121064</td>\n",
       "      <td>Symptom 494</td>\n",
       "      <td>Resolved</td>\n",
       "      <td>True</td>\n",
       "      <td>2017-02-16 16:38:00</td>\n",
       "      <td>Category 42</td>\n",
       "      <td>2017-02-16 14:17:00</td>\n",
       "      <td>2017-02-16 16:38:00</td>\n",
       "      <td>16</td>\n",
       "      <td>2</td>\n",
       "      <td>2017</td>\n",
       "      <td>14</td>\n",
       "      <td>17</td>\n",
       "    </tr>\n",
       "    <tr>\n",
       "      <th>138570</th>\n",
       "      <td>3</td>\n",
       "      <td>0</td>\n",
       "      <td>Email</td>\n",
       "      <td>Subcategory 223</td>\n",
       "      <td>False</td>\n",
       "      <td>True</td>\n",
       "      <td>2</td>\n",
       "      <td>INC0121064</td>\n",
       "      <td>Symptom 494</td>\n",
       "      <td>Closed</td>\n",
       "      <td>False</td>\n",
       "      <td>2017-02-16 16:38:00</td>\n",
       "      <td>Category 42</td>\n",
       "      <td>2017-02-16 14:17:00</td>\n",
       "      <td>2017-02-16 16:38:00</td>\n",
       "      <td>16</td>\n",
       "      <td>2</td>\n",
       "      <td>2017</td>\n",
       "      <td>14</td>\n",
       "      <td>17</td>\n",
       "    </tr>\n",
       "  </tbody>\n",
       "</table>\n",
       "<p>89134 rows × 20 columns</p>\n",
       "</div>"
      ],
      "text/plain": [
       "        priority  reopen_count contact_type      subcategory  knowledge  \\\n",
       "0              3             0        Phone  Subcategory 170       True   \n",
       "1              3             0        Phone  Subcategory 170       True   \n",
       "2              3             0        Phone  Subcategory 170       True   \n",
       "3              3             0        Phone  Subcategory 170       True   \n",
       "4              3             0        Phone  Subcategory 215       True   \n",
       "...          ...           ...          ...              ...        ...   \n",
       "138566         3             0        Email  Subcategory 223      False   \n",
       "138567         3             0        Email  Subcategory 223      False   \n",
       "138568         3             0        Email  Subcategory 223      False   \n",
       "138569         3             0        Email  Subcategory 223      False   \n",
       "138570         3             0        Email  Subcategory 223      False   \n",
       "\n",
       "        made_sla  impact      number    u_symptom incident_state  active  \\\n",
       "0           True       2  INC0000045   Symptom 72            New    True   \n",
       "1           True       2  INC0000045   Symptom 72       Resolved    True   \n",
       "2           True       2  INC0000045   Symptom 72       Resolved    True   \n",
       "3           True       2  INC0000045   Symptom 72         Closed   False   \n",
       "4           True       2  INC0000047  Symptom 471            New    True   \n",
       "...          ...     ...         ...          ...            ...     ...   \n",
       "138566      True       2  INC0120835  Symptom 494         Closed   False   \n",
       "138567      True       2  INC0121064  Symptom 494         Active    True   \n",
       "138568      True       2  INC0121064  Symptom 494         Active    True   \n",
       "138569      True       2  INC0121064  Symptom 494       Resolved    True   \n",
       "138570      True       2  INC0121064  Symptom 494         Closed   False   \n",
       "\n",
       "               resolved_at     category           opened_at  \\\n",
       "0      2016-02-29 11:29:00  Category 55 2016-02-29 01:16:00   \n",
       "1      2016-02-29 11:29:00  Category 55 2016-02-29 01:16:00   \n",
       "2      2016-02-29 11:29:00  Category 55 2016-02-29 01:16:00   \n",
       "3      2016-02-29 11:29:00  Category 55 2016-02-29 01:16:00   \n",
       "4      2016-01-03 09:52:00  Category 40 2016-02-29 04:40:00   \n",
       "...                    ...          ...                 ...   \n",
       "138566 2017-02-16 09:53:00  Category 42 2017-02-16 09:09:00   \n",
       "138567 2017-02-16 16:38:00  Category 42 2017-02-16 14:17:00   \n",
       "138568 2017-02-16 16:38:00  Category 42 2017-02-16 14:17:00   \n",
       "138569 2017-02-16 16:38:00  Category 42 2017-02-16 14:17:00   \n",
       "138570 2017-02-16 16:38:00  Category 42 2017-02-16 14:17:00   \n",
       "\n",
       "                 closed_at  opened_at_day  opened_at_month  opened_at_year  \\\n",
       "0      2016-05-03 12:00:00             29                2            2016   \n",
       "1      2016-05-03 12:00:00             29                2            2016   \n",
       "2      2016-05-03 12:00:00             29                2            2016   \n",
       "3      2016-05-03 12:00:00             29                2            2016   \n",
       "4      2016-06-03 10:00:00             29                2            2016   \n",
       "...                    ...            ...              ...             ...   \n",
       "138566 2017-02-16 09:53:00             16                2            2017   \n",
       "138567 2017-02-16 16:38:00             16                2            2017   \n",
       "138568 2017-02-16 16:38:00             16                2            2017   \n",
       "138569 2017-02-16 16:38:00             16                2            2017   \n",
       "138570 2017-02-16 16:38:00             16                2            2017   \n",
       "\n",
       "        opened_at_hour  opened_at_minute  \n",
       "0                    1                16  \n",
       "1                    1                16  \n",
       "2                    1                16  \n",
       "3                    1                16  \n",
       "4                    4                40  \n",
       "...                ...               ...  \n",
       "138566               9                 9  \n",
       "138567              14                17  \n",
       "138568              14                17  \n",
       "138569              14                17  \n",
       "138570              14                17  \n",
       "\n",
       "[89134 rows x 20 columns]"
      ]
     },
     "execution_count": 289,
     "metadata": {},
     "output_type": "execute_result"
    }
   ],
   "source": [
    "df"
   ]
  },
  {
   "cell_type": "code",
   "execution_count": 290,
   "metadata": {
    "colab": {
     "base_uri": "https://localhost:8080/"
    },
    "id": "c65ab261",
    "outputId": "6781188d-96f9-4e6b-f151-0150515eedea"
   },
   "outputs": [
    {
     "data": {
      "text/plain": [
       "Index(['priority', 'reopen_count', 'contact_type', 'subcategory', 'knowledge',\n",
       "       'made_sla', 'impact', 'number', 'u_symptom', 'incident_state', 'active',\n",
       "       'resolved_at', 'category', 'opened_at', 'closed_at', 'opened_at_day',\n",
       "       'opened_at_month', 'opened_at_year', 'opened_at_hour',\n",
       "       'opened_at_minute'],\n",
       "      dtype='object')"
      ]
     },
     "execution_count": 290,
     "metadata": {},
     "output_type": "execute_result"
    }
   ],
   "source": [
    "df.columns"
   ]
  },
  {
   "cell_type": "code",
   "execution_count": 291,
   "metadata": {
    "id": "033d4b09"
   },
   "outputs": [],
   "source": [
    "label = ['incident_state','category','u_symptom','contact_type','subcategory']"
   ]
  },
  {
   "cell_type": "code",
   "execution_count": 292,
   "metadata": {
    "id": "c694be5f"
   },
   "outputs": [],
   "source": [
    "from sklearn.preprocessing import LabelEncoder"
   ]
  },
  {
   "cell_type": "code",
   "execution_count": 293,
   "metadata": {
    "id": "b0b1725b"
   },
   "outputs": [],
   "source": [
    "for i in label:\n",
    "    l=LabelEncoder()\n",
    "    l.fit(df[i])\n",
    "    df[i]=l.transform(df[i])"
   ]
  },
  {
   "cell_type": "code",
   "execution_count": 294,
   "metadata": {
    "colab": {
     "base_uri": "https://localhost:8080/",
     "height": 835
    },
    "id": "7f102f19",
    "outputId": "f8762ec4-75d0-4fdb-ad16-b70806361d5f"
   },
   "outputs": [
    {
     "data": {
      "text/html": [
       "<div>\n",
       "<style scoped>\n",
       "    .dataframe tbody tr th:only-of-type {\n",
       "        vertical-align: middle;\n",
       "    }\n",
       "\n",
       "    .dataframe tbody tr th {\n",
       "        vertical-align: top;\n",
       "    }\n",
       "\n",
       "    .dataframe thead th {\n",
       "        text-align: right;\n",
       "    }\n",
       "</style>\n",
       "<table border=\"1\" class=\"dataframe\">\n",
       "  <thead>\n",
       "    <tr style=\"text-align: right;\">\n",
       "      <th></th>\n",
       "      <th>priority</th>\n",
       "      <th>reopen_count</th>\n",
       "      <th>contact_type</th>\n",
       "      <th>subcategory</th>\n",
       "      <th>knowledge</th>\n",
       "      <th>made_sla</th>\n",
       "      <th>impact</th>\n",
       "      <th>number</th>\n",
       "      <th>u_symptom</th>\n",
       "      <th>incident_state</th>\n",
       "      <th>active</th>\n",
       "      <th>resolved_at</th>\n",
       "      <th>category</th>\n",
       "      <th>opened_at</th>\n",
       "      <th>closed_at</th>\n",
       "      <th>opened_at_day</th>\n",
       "      <th>opened_at_month</th>\n",
       "      <th>opened_at_year</th>\n",
       "      <th>opened_at_hour</th>\n",
       "      <th>opened_at_minute</th>\n",
       "    </tr>\n",
       "  </thead>\n",
       "  <tbody>\n",
       "    <tr>\n",
       "      <th>0</th>\n",
       "      <td>3</td>\n",
       "      <td>0</td>\n",
       "      <td>2</td>\n",
       "      <td>61</td>\n",
       "      <td>True</td>\n",
       "      <td>True</td>\n",
       "      <td>2</td>\n",
       "      <td>INC0000045</td>\n",
       "      <td>417</td>\n",
       "      <td>7</td>\n",
       "      <td>True</td>\n",
       "      <td>2016-02-29 11:29:00</td>\n",
       "      <td>43</td>\n",
       "      <td>2016-02-29 01:16:00</td>\n",
       "      <td>2016-05-03 12:00:00</td>\n",
       "      <td>29</td>\n",
       "      <td>2</td>\n",
       "      <td>2016</td>\n",
       "      <td>1</td>\n",
       "      <td>16</td>\n",
       "    </tr>\n",
       "    <tr>\n",
       "      <th>1</th>\n",
       "      <td>3</td>\n",
       "      <td>0</td>\n",
       "      <td>2</td>\n",
       "      <td>61</td>\n",
       "      <td>True</td>\n",
       "      <td>True</td>\n",
       "      <td>2</td>\n",
       "      <td>INC0000045</td>\n",
       "      <td>417</td>\n",
       "      <td>8</td>\n",
       "      <td>True</td>\n",
       "      <td>2016-02-29 11:29:00</td>\n",
       "      <td>43</td>\n",
       "      <td>2016-02-29 01:16:00</td>\n",
       "      <td>2016-05-03 12:00:00</td>\n",
       "      <td>29</td>\n",
       "      <td>2</td>\n",
       "      <td>2016</td>\n",
       "      <td>1</td>\n",
       "      <td>16</td>\n",
       "    </tr>\n",
       "    <tr>\n",
       "      <th>2</th>\n",
       "      <td>3</td>\n",
       "      <td>0</td>\n",
       "      <td>2</td>\n",
       "      <td>61</td>\n",
       "      <td>True</td>\n",
       "      <td>True</td>\n",
       "      <td>2</td>\n",
       "      <td>INC0000045</td>\n",
       "      <td>417</td>\n",
       "      <td>8</td>\n",
       "      <td>True</td>\n",
       "      <td>2016-02-29 11:29:00</td>\n",
       "      <td>43</td>\n",
       "      <td>2016-02-29 01:16:00</td>\n",
       "      <td>2016-05-03 12:00:00</td>\n",
       "      <td>29</td>\n",
       "      <td>2</td>\n",
       "      <td>2016</td>\n",
       "      <td>1</td>\n",
       "      <td>16</td>\n",
       "    </tr>\n",
       "    <tr>\n",
       "      <th>3</th>\n",
       "      <td>3</td>\n",
       "      <td>0</td>\n",
       "      <td>2</td>\n",
       "      <td>61</td>\n",
       "      <td>True</td>\n",
       "      <td>True</td>\n",
       "      <td>2</td>\n",
       "      <td>INC0000045</td>\n",
       "      <td>417</td>\n",
       "      <td>6</td>\n",
       "      <td>False</td>\n",
       "      <td>2016-02-29 11:29:00</td>\n",
       "      <td>43</td>\n",
       "      <td>2016-02-29 01:16:00</td>\n",
       "      <td>2016-05-03 12:00:00</td>\n",
       "      <td>29</td>\n",
       "      <td>2</td>\n",
       "      <td>2016</td>\n",
       "      <td>1</td>\n",
       "      <td>16</td>\n",
       "    </tr>\n",
       "    <tr>\n",
       "      <th>4</th>\n",
       "      <td>3</td>\n",
       "      <td>0</td>\n",
       "      <td>2</td>\n",
       "      <td>99</td>\n",
       "      <td>True</td>\n",
       "      <td>True</td>\n",
       "      <td>2</td>\n",
       "      <td>INC0000047</td>\n",
       "      <td>290</td>\n",
       "      <td>7</td>\n",
       "      <td>True</td>\n",
       "      <td>2016-01-03 09:52:00</td>\n",
       "      <td>29</td>\n",
       "      <td>2016-02-29 04:40:00</td>\n",
       "      <td>2016-06-03 10:00:00</td>\n",
       "      <td>29</td>\n",
       "      <td>2</td>\n",
       "      <td>2016</td>\n",
       "      <td>4</td>\n",
       "      <td>40</td>\n",
       "    </tr>\n",
       "    <tr>\n",
       "      <th>...</th>\n",
       "      <td>...</td>\n",
       "      <td>...</td>\n",
       "      <td>...</td>\n",
       "      <td>...</td>\n",
       "      <td>...</td>\n",
       "      <td>...</td>\n",
       "      <td>...</td>\n",
       "      <td>...</td>\n",
       "      <td>...</td>\n",
       "      <td>...</td>\n",
       "      <td>...</td>\n",
       "      <td>...</td>\n",
       "      <td>...</td>\n",
       "      <td>...</td>\n",
       "      <td>...</td>\n",
       "      <td>...</td>\n",
       "      <td>...</td>\n",
       "      <td>...</td>\n",
       "      <td>...</td>\n",
       "      <td>...</td>\n",
       "    </tr>\n",
       "    <tr>\n",
       "      <th>138566</th>\n",
       "      <td>3</td>\n",
       "      <td>0</td>\n",
       "      <td>1</td>\n",
       "      <td>106</td>\n",
       "      <td>False</td>\n",
       "      <td>True</td>\n",
       "      <td>2</td>\n",
       "      <td>INC0120835</td>\n",
       "      <td>304</td>\n",
       "      <td>6</td>\n",
       "      <td>False</td>\n",
       "      <td>2017-02-16 09:53:00</td>\n",
       "      <td>31</td>\n",
       "      <td>2017-02-16 09:09:00</td>\n",
       "      <td>2017-02-16 09:53:00</td>\n",
       "      <td>16</td>\n",
       "      <td>2</td>\n",
       "      <td>2017</td>\n",
       "      <td>9</td>\n",
       "      <td>9</td>\n",
       "    </tr>\n",
       "    <tr>\n",
       "      <th>138567</th>\n",
       "      <td>3</td>\n",
       "      <td>0</td>\n",
       "      <td>1</td>\n",
       "      <td>106</td>\n",
       "      <td>False</td>\n",
       "      <td>True</td>\n",
       "      <td>2</td>\n",
       "      <td>INC0121064</td>\n",
       "      <td>304</td>\n",
       "      <td>1</td>\n",
       "      <td>True</td>\n",
       "      <td>2017-02-16 16:38:00</td>\n",
       "      <td>31</td>\n",
       "      <td>2017-02-16 14:17:00</td>\n",
       "      <td>2017-02-16 16:38:00</td>\n",
       "      <td>16</td>\n",
       "      <td>2</td>\n",
       "      <td>2017</td>\n",
       "      <td>14</td>\n",
       "      <td>17</td>\n",
       "    </tr>\n",
       "    <tr>\n",
       "      <th>138568</th>\n",
       "      <td>3</td>\n",
       "      <td>0</td>\n",
       "      <td>1</td>\n",
       "      <td>106</td>\n",
       "      <td>False</td>\n",
       "      <td>True</td>\n",
       "      <td>2</td>\n",
       "      <td>INC0121064</td>\n",
       "      <td>304</td>\n",
       "      <td>1</td>\n",
       "      <td>True</td>\n",
       "      <td>2017-02-16 16:38:00</td>\n",
       "      <td>31</td>\n",
       "      <td>2017-02-16 14:17:00</td>\n",
       "      <td>2017-02-16 16:38:00</td>\n",
       "      <td>16</td>\n",
       "      <td>2</td>\n",
       "      <td>2017</td>\n",
       "      <td>14</td>\n",
       "      <td>17</td>\n",
       "    </tr>\n",
       "    <tr>\n",
       "      <th>138569</th>\n",
       "      <td>3</td>\n",
       "      <td>0</td>\n",
       "      <td>1</td>\n",
       "      <td>106</td>\n",
       "      <td>False</td>\n",
       "      <td>True</td>\n",
       "      <td>2</td>\n",
       "      <td>INC0121064</td>\n",
       "      <td>304</td>\n",
       "      <td>8</td>\n",
       "      <td>True</td>\n",
       "      <td>2017-02-16 16:38:00</td>\n",
       "      <td>31</td>\n",
       "      <td>2017-02-16 14:17:00</td>\n",
       "      <td>2017-02-16 16:38:00</td>\n",
       "      <td>16</td>\n",
       "      <td>2</td>\n",
       "      <td>2017</td>\n",
       "      <td>14</td>\n",
       "      <td>17</td>\n",
       "    </tr>\n",
       "    <tr>\n",
       "      <th>138570</th>\n",
       "      <td>3</td>\n",
       "      <td>0</td>\n",
       "      <td>1</td>\n",
       "      <td>106</td>\n",
       "      <td>False</td>\n",
       "      <td>True</td>\n",
       "      <td>2</td>\n",
       "      <td>INC0121064</td>\n",
       "      <td>304</td>\n",
       "      <td>6</td>\n",
       "      <td>False</td>\n",
       "      <td>2017-02-16 16:38:00</td>\n",
       "      <td>31</td>\n",
       "      <td>2017-02-16 14:17:00</td>\n",
       "      <td>2017-02-16 16:38:00</td>\n",
       "      <td>16</td>\n",
       "      <td>2</td>\n",
       "      <td>2017</td>\n",
       "      <td>14</td>\n",
       "      <td>17</td>\n",
       "    </tr>\n",
       "  </tbody>\n",
       "</table>\n",
       "<p>89134 rows × 20 columns</p>\n",
       "</div>"
      ],
      "text/plain": [
       "        priority  reopen_count  contact_type  subcategory  knowledge  \\\n",
       "0              3             0             2           61       True   \n",
       "1              3             0             2           61       True   \n",
       "2              3             0             2           61       True   \n",
       "3              3             0             2           61       True   \n",
       "4              3             0             2           99       True   \n",
       "...          ...           ...           ...          ...        ...   \n",
       "138566         3             0             1          106      False   \n",
       "138567         3             0             1          106      False   \n",
       "138568         3             0             1          106      False   \n",
       "138569         3             0             1          106      False   \n",
       "138570         3             0             1          106      False   \n",
       "\n",
       "        made_sla  impact      number  u_symptom  incident_state  active  \\\n",
       "0           True       2  INC0000045        417               7    True   \n",
       "1           True       2  INC0000045        417               8    True   \n",
       "2           True       2  INC0000045        417               8    True   \n",
       "3           True       2  INC0000045        417               6   False   \n",
       "4           True       2  INC0000047        290               7    True   \n",
       "...          ...     ...         ...        ...             ...     ...   \n",
       "138566      True       2  INC0120835        304               6   False   \n",
       "138567      True       2  INC0121064        304               1    True   \n",
       "138568      True       2  INC0121064        304               1    True   \n",
       "138569      True       2  INC0121064        304               8    True   \n",
       "138570      True       2  INC0121064        304               6   False   \n",
       "\n",
       "               resolved_at  category           opened_at           closed_at  \\\n",
       "0      2016-02-29 11:29:00        43 2016-02-29 01:16:00 2016-05-03 12:00:00   \n",
       "1      2016-02-29 11:29:00        43 2016-02-29 01:16:00 2016-05-03 12:00:00   \n",
       "2      2016-02-29 11:29:00        43 2016-02-29 01:16:00 2016-05-03 12:00:00   \n",
       "3      2016-02-29 11:29:00        43 2016-02-29 01:16:00 2016-05-03 12:00:00   \n",
       "4      2016-01-03 09:52:00        29 2016-02-29 04:40:00 2016-06-03 10:00:00   \n",
       "...                    ...       ...                 ...                 ...   \n",
       "138566 2017-02-16 09:53:00        31 2017-02-16 09:09:00 2017-02-16 09:53:00   \n",
       "138567 2017-02-16 16:38:00        31 2017-02-16 14:17:00 2017-02-16 16:38:00   \n",
       "138568 2017-02-16 16:38:00        31 2017-02-16 14:17:00 2017-02-16 16:38:00   \n",
       "138569 2017-02-16 16:38:00        31 2017-02-16 14:17:00 2017-02-16 16:38:00   \n",
       "138570 2017-02-16 16:38:00        31 2017-02-16 14:17:00 2017-02-16 16:38:00   \n",
       "\n",
       "        opened_at_day  opened_at_month  opened_at_year  opened_at_hour  \\\n",
       "0                  29                2            2016               1   \n",
       "1                  29                2            2016               1   \n",
       "2                  29                2            2016               1   \n",
       "3                  29                2            2016               1   \n",
       "4                  29                2            2016               4   \n",
       "...               ...              ...             ...             ...   \n",
       "138566             16                2            2017               9   \n",
       "138567             16                2            2017              14   \n",
       "138568             16                2            2017              14   \n",
       "138569             16                2            2017              14   \n",
       "138570             16                2            2017              14   \n",
       "\n",
       "        opened_at_minute  \n",
       "0                     16  \n",
       "1                     16  \n",
       "2                     16  \n",
       "3                     16  \n",
       "4                     40  \n",
       "...                  ...  \n",
       "138566                 9  \n",
       "138567                17  \n",
       "138568                17  \n",
       "138569                17  \n",
       "138570                17  \n",
       "\n",
       "[89134 rows x 20 columns]"
      ]
     },
     "execution_count": 294,
     "metadata": {},
     "output_type": "execute_result"
    }
   ],
   "source": [
    "df"
   ]
  },
  {
   "cell_type": "code",
   "execution_count": 295,
   "metadata": {},
   "outputs": [
    {
     "data": {
      "text/plain": [
       "Int64Index([   485,    486,    487,    488,    489,    490,    491,    919,\n",
       "               920,    921,\n",
       "            ...\n",
       "            138535, 138536, 138537, 138538, 138547, 138548, 138549, 138550,\n",
       "            138551, 138552],\n",
       "           dtype='int64', length=49437)"
      ]
     },
     "execution_count": 295,
     "metadata": {},
     "output_type": "execute_result"
    }
   ],
   "source": [
    "a"
   ]
  },
  {
   "cell_type": "code",
   "execution_count": 296,
   "metadata": {
    "id": "4b73fed5"
   },
   "outputs": [],
   "source": [
    "a=list((df['closed_at']-df['opened_at']))\n",
    "Y=[]\n",
    "for i in a:\n",
    "    Y.append(i.days)"
   ]
  },
  {
   "cell_type": "code",
   "execution_count": 297,
   "metadata": {
    "id": "bf27670d"
   },
   "outputs": [],
   "source": [
    "Y=np.array(Y)"
   ]
  },
  {
   "cell_type": "code",
   "execution_count": 298,
   "metadata": {
    "id": "98eaef14"
   },
   "outputs": [],
   "source": [
    "df.drop(columns=['closed_at','opened_at'],inplace=True)"
   ]
  },
  {
   "cell_type": "code",
   "execution_count": 299,
   "metadata": {
    "id": "a9dcfa63"
   },
   "outputs": [],
   "source": [
    "temp = df.copy()"
   ]
  },
  {
   "cell_type": "code",
   "execution_count": 300,
   "metadata": {
    "colab": {
     "base_uri": "https://localhost:8080/",
     "height": 211
    },
    "id": "012743b2",
    "outputId": "4adb946b-40b8-41dc-e89b-69c1b5880c39"
   },
   "outputs": [
    {
     "data": {
      "text/html": [
       "<div>\n",
       "<style scoped>\n",
       "    .dataframe tbody tr th:only-of-type {\n",
       "        vertical-align: middle;\n",
       "    }\n",
       "\n",
       "    .dataframe tbody tr th {\n",
       "        vertical-align: top;\n",
       "    }\n",
       "\n",
       "    .dataframe thead th {\n",
       "        text-align: right;\n",
       "    }\n",
       "</style>\n",
       "<table border=\"1\" class=\"dataframe\">\n",
       "  <thead>\n",
       "    <tr style=\"text-align: right;\">\n",
       "      <th></th>\n",
       "      <th>priority</th>\n",
       "      <th>reopen_count</th>\n",
       "      <th>contact_type</th>\n",
       "      <th>subcategory</th>\n",
       "      <th>knowledge</th>\n",
       "      <th>made_sla</th>\n",
       "      <th>impact</th>\n",
       "      <th>number</th>\n",
       "      <th>u_symptom</th>\n",
       "      <th>incident_state</th>\n",
       "      <th>active</th>\n",
       "      <th>resolved_at</th>\n",
       "      <th>category</th>\n",
       "      <th>opened_at_day</th>\n",
       "      <th>opened_at_month</th>\n",
       "      <th>opened_at_year</th>\n",
       "      <th>opened_at_hour</th>\n",
       "      <th>opened_at_minute</th>\n",
       "    </tr>\n",
       "  </thead>\n",
       "  <tbody>\n",
       "    <tr>\n",
       "      <th>0</th>\n",
       "      <td>3</td>\n",
       "      <td>0</td>\n",
       "      <td>2</td>\n",
       "      <td>61</td>\n",
       "      <td>True</td>\n",
       "      <td>True</td>\n",
       "      <td>2</td>\n",
       "      <td>INC0000045</td>\n",
       "      <td>417</td>\n",
       "      <td>7</td>\n",
       "      <td>True</td>\n",
       "      <td>2016-02-29 11:29:00</td>\n",
       "      <td>43</td>\n",
       "      <td>29</td>\n",
       "      <td>2</td>\n",
       "      <td>2016</td>\n",
       "      <td>1</td>\n",
       "      <td>16</td>\n",
       "    </tr>\n",
       "    <tr>\n",
       "      <th>1</th>\n",
       "      <td>3</td>\n",
       "      <td>0</td>\n",
       "      <td>2</td>\n",
       "      <td>61</td>\n",
       "      <td>True</td>\n",
       "      <td>True</td>\n",
       "      <td>2</td>\n",
       "      <td>INC0000045</td>\n",
       "      <td>417</td>\n",
       "      <td>8</td>\n",
       "      <td>True</td>\n",
       "      <td>2016-02-29 11:29:00</td>\n",
       "      <td>43</td>\n",
       "      <td>29</td>\n",
       "      <td>2</td>\n",
       "      <td>2016</td>\n",
       "      <td>1</td>\n",
       "      <td>16</td>\n",
       "    </tr>\n",
       "  </tbody>\n",
       "</table>\n",
       "</div>"
      ],
      "text/plain": [
       "   priority  reopen_count  contact_type  subcategory  knowledge  made_sla  \\\n",
       "0         3             0             2           61       True      True   \n",
       "1         3             0             2           61       True      True   \n",
       "\n",
       "   impact      number  u_symptom  incident_state  active         resolved_at  \\\n",
       "0       2  INC0000045        417               7    True 2016-02-29 11:29:00   \n",
       "1       2  INC0000045        417               8    True 2016-02-29 11:29:00   \n",
       "\n",
       "   category  opened_at_day  opened_at_month  opened_at_year  opened_at_hour  \\\n",
       "0        43             29                2            2016               1   \n",
       "1        43             29                2            2016               1   \n",
       "\n",
       "   opened_at_minute  \n",
       "0                16  \n",
       "1                16  "
      ]
     },
     "execution_count": 300,
     "metadata": {},
     "output_type": "execute_result"
    }
   ],
   "source": [
    "temp.head(2)"
   ]
  },
  {
   "cell_type": "code",
   "execution_count": 301,
   "metadata": {
    "colab": {
     "base_uri": "https://localhost:8080/"
    },
    "id": "b378c90b",
    "outputId": "70a9c764-31a1-4093-85e4-148256cc1f87"
   },
   "outputs": [
    {
     "data": {
      "text/plain": [
       "Index(['priority', 'reopen_count', 'contact_type', 'subcategory', 'knowledge',\n",
       "       'made_sla', 'impact', 'number', 'u_symptom', 'incident_state', 'active',\n",
       "       'resolved_at', 'category', 'opened_at_day', 'opened_at_month',\n",
       "       'opened_at_year', 'opened_at_hour', 'opened_at_minute'],\n",
       "      dtype='object')"
      ]
     },
     "execution_count": 301,
     "metadata": {},
     "output_type": "execute_result"
    }
   ],
   "source": [
    "temp.columns"
   ]
  },
  {
   "cell_type": "code",
   "execution_count": 302,
   "metadata": {
    "id": "0383402e"
   },
   "outputs": [],
   "source": [
    "temp.drop(columns=['resolved_at'],inplace=True)"
   ]
  },
  {
   "cell_type": "code",
   "execution_count": 303,
   "metadata": {
    "id": "532f7eb4"
   },
   "outputs": [],
   "source": [
    "one_hot = [\"u_symptom\",\"impact\",\"category\",\"subcategory\"]"
   ]
  },
  {
   "cell_type": "code",
   "execution_count": 304,
   "metadata": {
    "id": "7cef344e"
   },
   "outputs": [],
   "source": [
    "from sklearn.preprocessing import OneHotEncoder as OE"
   ]
  },
  {
   "cell_type": "code",
   "execution_count": 305,
   "metadata": {
    "id": "e3b68876"
   },
   "outputs": [],
   "source": [
    "for i in one_hot:\n",
    "    j = OE()\n",
    "    a = j.fit_transform(np.array(temp[i]).reshape(-1,1))\n",
    "    a=pd.DataFrame(a.todense())\n",
    "    temp.reset_index(inplace=True,drop=True)\n",
    "    a.reset_index(inplace=True)\n",
    "    #temp = pd.concat([temp,a],axis=1)"
   ]
  },
  {
   "cell_type": "code",
   "execution_count": 306,
   "metadata": {
    "colab": {
     "base_uri": "https://localhost:8080/"
    },
    "id": "43a85e11",
    "outputId": "11133b3c-8ae4-4740-f4e1-8e75559b3589"
   },
   "outputs": [
    {
     "data": {
      "text/plain": [
       "(89134, 17)"
      ]
     },
     "execution_count": 306,
     "metadata": {},
     "output_type": "execute_result"
    }
   ],
   "source": [
    "temp.shape"
   ]
  },
  {
   "cell_type": "code",
   "execution_count": 307,
   "metadata": {
    "id": "6791f205",
    "scrolled": true
   },
   "outputs": [],
   "source": [
    "#temp.drop(columns='index',inplace=True)"
   ]
  },
  {
   "cell_type": "code",
   "execution_count": 308,
   "metadata": {},
   "outputs": [
    {
     "data": {
      "text/plain": [
       "Index(['priority', 'reopen_count', 'contact_type', 'subcategory', 'knowledge',\n",
       "       'made_sla', 'impact', 'number', 'u_symptom', 'incident_state', 'active',\n",
       "       'category', 'opened_at_day', 'opened_at_month', 'opened_at_year',\n",
       "       'opened_at_hour', 'opened_at_minute'],\n",
       "      dtype='object')"
      ]
     },
     "execution_count": 308,
     "metadata": {},
     "output_type": "execute_result"
    }
   ],
   "source": [
    "temp.columns"
   ]
  },
  {
   "cell_type": "code",
   "execution_count": 309,
   "metadata": {},
   "outputs": [],
   "source": [
    "temp['number']=temp['number'].str.replace(r'\\D+', '')"
   ]
  },
  {
   "cell_type": "code",
   "execution_count": 310,
   "metadata": {
    "colab": {
     "base_uri": "https://localhost:8080/",
     "height": 205
    },
    "id": "5a3c764c",
    "outputId": "f1d6fbcc-cd98-40c8-f265-9d16dc6ae099"
   },
   "outputs": [
    {
     "data": {
      "text/html": [
       "<div>\n",
       "<style scoped>\n",
       "    .dataframe tbody tr th:only-of-type {\n",
       "        vertical-align: middle;\n",
       "    }\n",
       "\n",
       "    .dataframe tbody tr th {\n",
       "        vertical-align: top;\n",
       "    }\n",
       "\n",
       "    .dataframe thead th {\n",
       "        text-align: right;\n",
       "    }\n",
       "</style>\n",
       "<table border=\"1\" class=\"dataframe\">\n",
       "  <thead>\n",
       "    <tr style=\"text-align: right;\">\n",
       "      <th></th>\n",
       "      <th>priority</th>\n",
       "      <th>reopen_count</th>\n",
       "      <th>contact_type</th>\n",
       "      <th>subcategory</th>\n",
       "      <th>knowledge</th>\n",
       "      <th>made_sla</th>\n",
       "      <th>impact</th>\n",
       "      <th>number</th>\n",
       "      <th>u_symptom</th>\n",
       "      <th>incident_state</th>\n",
       "      <th>active</th>\n",
       "      <th>category</th>\n",
       "      <th>opened_at_day</th>\n",
       "      <th>opened_at_month</th>\n",
       "      <th>opened_at_year</th>\n",
       "      <th>opened_at_hour</th>\n",
       "      <th>opened_at_minute</th>\n",
       "    </tr>\n",
       "  </thead>\n",
       "  <tbody>\n",
       "    <tr>\n",
       "      <th>0</th>\n",
       "      <td>3</td>\n",
       "      <td>0</td>\n",
       "      <td>2</td>\n",
       "      <td>61</td>\n",
       "      <td>True</td>\n",
       "      <td>True</td>\n",
       "      <td>2</td>\n",
       "      <td>0000045</td>\n",
       "      <td>417</td>\n",
       "      <td>7</td>\n",
       "      <td>True</td>\n",
       "      <td>43</td>\n",
       "      <td>29</td>\n",
       "      <td>2</td>\n",
       "      <td>2016</td>\n",
       "      <td>1</td>\n",
       "      <td>16</td>\n",
       "    </tr>\n",
       "    <tr>\n",
       "      <th>1</th>\n",
       "      <td>3</td>\n",
       "      <td>0</td>\n",
       "      <td>2</td>\n",
       "      <td>61</td>\n",
       "      <td>True</td>\n",
       "      <td>True</td>\n",
       "      <td>2</td>\n",
       "      <td>0000045</td>\n",
       "      <td>417</td>\n",
       "      <td>8</td>\n",
       "      <td>True</td>\n",
       "      <td>43</td>\n",
       "      <td>29</td>\n",
       "      <td>2</td>\n",
       "      <td>2016</td>\n",
       "      <td>1</td>\n",
       "      <td>16</td>\n",
       "    </tr>\n",
       "    <tr>\n",
       "      <th>2</th>\n",
       "      <td>3</td>\n",
       "      <td>0</td>\n",
       "      <td>2</td>\n",
       "      <td>61</td>\n",
       "      <td>True</td>\n",
       "      <td>True</td>\n",
       "      <td>2</td>\n",
       "      <td>0000045</td>\n",
       "      <td>417</td>\n",
       "      <td>8</td>\n",
       "      <td>True</td>\n",
       "      <td>43</td>\n",
       "      <td>29</td>\n",
       "      <td>2</td>\n",
       "      <td>2016</td>\n",
       "      <td>1</td>\n",
       "      <td>16</td>\n",
       "    </tr>\n",
       "    <tr>\n",
       "      <th>3</th>\n",
       "      <td>3</td>\n",
       "      <td>0</td>\n",
       "      <td>2</td>\n",
       "      <td>61</td>\n",
       "      <td>True</td>\n",
       "      <td>True</td>\n",
       "      <td>2</td>\n",
       "      <td>0000045</td>\n",
       "      <td>417</td>\n",
       "      <td>6</td>\n",
       "      <td>False</td>\n",
       "      <td>43</td>\n",
       "      <td>29</td>\n",
       "      <td>2</td>\n",
       "      <td>2016</td>\n",
       "      <td>1</td>\n",
       "      <td>16</td>\n",
       "    </tr>\n",
       "    <tr>\n",
       "      <th>4</th>\n",
       "      <td>3</td>\n",
       "      <td>0</td>\n",
       "      <td>2</td>\n",
       "      <td>99</td>\n",
       "      <td>True</td>\n",
       "      <td>True</td>\n",
       "      <td>2</td>\n",
       "      <td>0000047</td>\n",
       "      <td>290</td>\n",
       "      <td>7</td>\n",
       "      <td>True</td>\n",
       "      <td>29</td>\n",
       "      <td>29</td>\n",
       "      <td>2</td>\n",
       "      <td>2016</td>\n",
       "      <td>4</td>\n",
       "      <td>40</td>\n",
       "    </tr>\n",
       "  </tbody>\n",
       "</table>\n",
       "</div>"
      ],
      "text/plain": [
       "   priority  reopen_count  contact_type  subcategory  knowledge  made_sla  \\\n",
       "0         3             0             2           61       True      True   \n",
       "1         3             0             2           61       True      True   \n",
       "2         3             0             2           61       True      True   \n",
       "3         3             0             2           61       True      True   \n",
       "4         3             0             2           99       True      True   \n",
       "\n",
       "   impact   number  u_symptom  incident_state  active  category  \\\n",
       "0       2  0000045        417               7    True        43   \n",
       "1       2  0000045        417               8    True        43   \n",
       "2       2  0000045        417               8    True        43   \n",
       "3       2  0000045        417               6   False        43   \n",
       "4       2  0000047        290               7    True        29   \n",
       "\n",
       "   opened_at_day  opened_at_month  opened_at_year  opened_at_hour  \\\n",
       "0             29                2            2016               1   \n",
       "1             29                2            2016               1   \n",
       "2             29                2            2016               1   \n",
       "3             29                2            2016               1   \n",
       "4             29                2            2016               4   \n",
       "\n",
       "   opened_at_minute  \n",
       "0                16  \n",
       "1                16  \n",
       "2                16  \n",
       "3                16  \n",
       "4                40  "
      ]
     },
     "execution_count": 310,
     "metadata": {},
     "output_type": "execute_result"
    }
   ],
   "source": [
    "temp.head()"
   ]
  },
  {
   "cell_type": "code",
   "execution_count": 311,
   "metadata": {},
   "outputs": [
    {
     "name": "stdout",
     "output_type": "stream",
     "text": [
      "<class 'pandas.core.frame.DataFrame'>\n",
      "RangeIndex: 89134 entries, 0 to 89133\n",
      "Data columns (total 17 columns):\n",
      " #   Column            Non-Null Count  Dtype \n",
      "---  ------            --------------  ----- \n",
      " 0   priority          89134 non-null  int64 \n",
      " 1   reopen_count      89134 non-null  int64 \n",
      " 2   contact_type      89134 non-null  int32 \n",
      " 3   subcategory       89134 non-null  int32 \n",
      " 4   knowledge         89134 non-null  bool  \n",
      " 5   made_sla          89134 non-null  bool  \n",
      " 6   impact            89134 non-null  int64 \n",
      " 7   number            89134 non-null  object\n",
      " 8   u_symptom         89134 non-null  int32 \n",
      " 9   incident_state    89134 non-null  int32 \n",
      " 10  active            89134 non-null  bool  \n",
      " 11  category          89134 non-null  int32 \n",
      " 12  opened_at_day     89134 non-null  int64 \n",
      " 13  opened_at_month   89134 non-null  int64 \n",
      " 14  opened_at_year    89134 non-null  int64 \n",
      " 15  opened_at_hour    89134 non-null  int64 \n",
      " 16  opened_at_minute  89134 non-null  int64 \n",
      "dtypes: bool(3), int32(5), int64(8), object(1)\n",
      "memory usage: 8.1+ MB\n"
     ]
    }
   ],
   "source": [
    "temp.info()"
   ]
  },
  {
   "cell_type": "code",
   "execution_count": 312,
   "metadata": {},
   "outputs": [
    {
     "data": {
      "text/plain": [
       "Index(['priority', 'reopen_count', 'contact_type', 'subcategory', 'knowledge',\n",
       "       'made_sla', 'impact', 'number', 'u_symptom', 'incident_state', 'active',\n",
       "       'category', 'opened_at_day', 'opened_at_month', 'opened_at_year',\n",
       "       'opened_at_hour', 'opened_at_minute'],\n",
       "      dtype='object')"
      ]
     },
     "execution_count": 312,
     "metadata": {},
     "output_type": "execute_result"
    }
   ],
   "source": [
    "temp.columns"
   ]
  },
  {
   "cell_type": "code",
   "execution_count": 313,
   "metadata": {},
   "outputs": [
    {
     "data": {
      "text/plain": [
       "array([43, 29,  9, 53, 41, 33, 34, 31, 22, 52, 13, 26, 15, 12, 48, 49,  6,\n",
       "        3, 25,  0, 32, 24,  7, 35, 50, 39, 11, 20, 21,  5, 36, 51, 45, 14,\n",
       "       44, 27, 17, 30, 42, 18, 19, 16, 23,  8, 10, 38, 46,  2, 37, 47,  1,\n",
       "       40,  4, 28])"
      ]
     },
     "execution_count": 313,
     "metadata": {},
     "output_type": "execute_result"
    }
   ],
   "source": [
    "temp['category'].unique()"
   ]
  },
  {
   "cell_type": "code",
   "execution_count": 314,
   "metadata": {
    "id": "e70cc98b"
   },
   "outputs": [],
   "source": [
    "#temp.drop(columns=one_hot,inplace=True)"
   ]
  },
  {
   "cell_type": "code",
   "execution_count": 315,
   "metadata": {
    "colab": {
     "base_uri": "https://localhost:8080/",
     "height": 283
    },
    "id": "e3de92df",
    "outputId": "2e91eb33-7cba-4f92-d6dc-5526ecfb4070"
   },
   "outputs": [
    {
     "data": {
      "text/plain": [
       "[<matplotlib.lines.Line2D at 0x1acc323c940>]"
      ]
     },
     "execution_count": 315,
     "metadata": {},
     "output_type": "execute_result"
    },
    {
     "data": {
      "image/png": "[encoded data removed]",
      "text/plain": [
       "<Figure size 432x288 with 1 Axes>"
      ]
     },
     "metadata": {
      "needs_background": "light"
     },
     "output_type": "display_data"
    }
   ],
   "source": [
    "plt.plot(Y)"
   ]
  },
  {
   "cell_type": "code",
   "execution_count": 316,
   "metadata": {
    "id": "73cf79e1"
   },
   "outputs": [],
   "source": [
    "from sklearn.model_selection import train_test_split as ts"
   ]
  },
  {
   "cell_type": "code",
   "execution_count": 317,
   "metadata": {
    "id": "005cd14d"
   },
   "outputs": [],
   "source": [
    "X_train,X_test,Y_train,Y_test = ts(temp,Y)"
   ]
  },
  {
   "cell_type": "code",
   "execution_count": 318,
   "metadata": {
    "id": "2dd896f6"
   },
   "outputs": [],
   "source": [
    "from sklearn.tree import DecisionTreeRegressor "
   ]
  },
  {
   "cell_type": "code",
   "execution_count": 319,
   "metadata": {
    "id": "b8c40ddf"
   },
   "outputs": [],
   "source": [
    "tree_reg = DecisionTreeRegressor()"
   ]
  },
  {
   "cell_type": "code",
   "execution_count": 320,
   "metadata": {
    "colab": {
     "base_uri": "https://localhost:8080/"
    },
    "id": "46e66d9a",
    "outputId": "be8b86c9-58b5-457d-ea1c-2f1b377284a6"
   },
   "outputs": [
    {
     "data": {
      "text/plain": [
       "DecisionTreeRegressor()"
      ]
     },
     "execution_count": 320,
     "metadata": {},
     "output_type": "execute_result"
    }
   ],
   "source": [
    "tree_reg.fit(X_train,Y_train)"
   ]
  },
  {
   "cell_type": "code",
   "execution_count": 321,
   "metadata": {
    "colab": {
     "base_uri": "https://localhost:8080/"
    },
    "id": "gk85yrj2tJhc",
    "outputId": "b6852011-220b-4158-985f-165160c2a960"
   },
   "outputs": [
    {
     "data": {
      "text/plain": [
       "0.0"
      ]
     },
     "execution_count": 321,
     "metadata": {},
     "output_type": "execute_result"
    }
   ],
   "source": [
    "er(Y_train,tree_reg.predict(X_train))"
   ]
  },
  {
   "cell_type": "code",
   "execution_count": 322,
   "metadata": {
    "colab": {
     "base_uri": "https://localhost:8080/"
    },
    "id": "9wB1rXvItRHP",
    "outputId": "afe24801-4bfb-40cd-8b1b-fdf8e38b9f04"
   },
   "outputs": [
    {
     "data": {
      "text/plain": [
       "887.1788727338001"
      ]
     },
     "execution_count": 322,
     "metadata": {},
     "output_type": "execute_result"
    }
   ],
   "source": [
    "er(Y_test,tree_reg.predict(X_test))"
   ]
  },
  {
   "cell_type": "code",
   "execution_count": null,
   "metadata": {
    "scrolled": true
   },
   "outputs": [],
   "source": [
    "tree_reg.predict(X_train)[:10],Y_train[:10]"
   ]
  },
  {
   "cell_type": "code",
   "execution_count": 597,
   "metadata": {
    "id": "f7626a45"
   },
   "outputs": [],
   "source": [
    "from sklearn.ensemble import RandomForestRegressor"
   ]
  },
  {
   "cell_type": "code",
   "execution_count": 598,
   "metadata": {
    "colab": {
     "base_uri": "https://localhost:8080/"
    },
    "id": "101f4be8",
    "outputId": "b12611ff-2f2a-4373-a43f-be3da133f010"
   },
   "outputs": [
    {
     "data": {
      "text/plain": [
       "RandomForestRegressor(max_depth=20, n_estimators=200)"
      ]
     },
     "execution_count": 598,
     "metadata": {},
     "output_type": "execute_result"
    }
   ],
   "source": [
    "regressor = RandomForestRegressor(n_estimators=200,max_depth=20)\n",
    "regressor.fit(X_train,Y_train)"
   ]
  },
  {
   "cell_type": "code",
   "execution_count": 599,
   "metadata": {
    "colab": {
     "base_uri": "https://localhost:8080/"
    },
    "id": "DPRWxjgpxEMb",
    "outputId": "7a1fc660-630c-4381-f985-97ff52c3b8b0"
   },
   "outputs": [
    {
     "data": {
      "text/plain": [
       "0.7232498132785559"
      ]
     },
     "execution_count": 599,
     "metadata": {},
     "output_type": "execute_result"
    }
   ],
   "source": [
    "er(Y_train,regressor.predict(X_train))"
   ]
  },
  {
   "cell_type": "code",
   "execution_count": 600,
   "metadata": {
    "colab": {
     "base_uri": "https://localhost:8080/"
    },
    "id": "pdFfTzC5xFlm",
    "outputId": "0a76f431-326b-4e03-846e-e068b51cb179"
   },
   "outputs": [
    {
     "data": {
      "text/plain": [
       "3.7802948245903893"
      ]
     },
     "execution_count": 600,
     "metadata": {},
     "output_type": "execute_result"
    }
   ],
   "source": [
    "er(Y_test,regressor.predict(X_test))"
   ]
  },
  {
   "cell_type": "code",
   "execution_count": 266,
   "metadata": {},
   "outputs": [
    {
     "data": {
      "text/plain": [
       "<matplotlib.axes._subplots.AxesSubplot at 0x1aa8ddcd9d0>"
      ]
     },
     "execution_count": 266,
     "metadata": {},
     "output_type": "execute_result"
    },
    {
     "data": {
      "image/png": "[encoded data removed]",
      "text/plain": [
       "<Figure size 432x288 with 1 Axes>"
      ]
     },
     "metadata": {
      "needs_background": "light"
     },
     "output_type": "display_data"
    }
   ],
   "source": [
    "from sklearn.neighbors import KernelDensity\n",
    "import seaborn as sns\n",
    "sns.kdeplot(data=Y_test, shade=True)"
   ]
  },
  {
   "cell_type": "code",
   "execution_count": 84,
   "metadata": {
    "colab": {
     "base_uri": "https://localhost:8080/"
    },
    "id": "05fccf7b",
    "outputId": "2d5a8ed6-6991-454e-c022-a541bf968ec4"
   },
   "outputs": [
    {
     "data": {
      "text/plain": [
       "RandomForestRegressor(max_depth=20, n_estimators=400)"
      ]
     },
     "execution_count": 84,
     "metadata": {},
     "output_type": "execute_result"
    }
   ],
   "source": [
    "regressor = RandomForestRegressor(n_estimators=400,max_depth=20)\n",
    "regressor.fit(X_train,Y_train)"
   ]
  },
  {
   "cell_type": "code",
   "execution_count": 85,
   "metadata": {
    "colab": {
     "base_uri": "https://localhost:8080/"
    },
    "id": "8dkoP90UvBnB",
    "outputId": "1d76e690-b59a-4a2c-bc27-f385aacc2a30"
   },
   "outputs": [
    {
     "data": {
      "text/plain": [
       "1045.0312039251003"
      ]
     },
     "execution_count": 85,
     "metadata": {},
     "output_type": "execute_result"
    }
   ],
   "source": [
    "er(Y_train,regressor.predict(X_train))"
   ]
  },
  {
   "cell_type": "code",
   "execution_count": 86,
   "metadata": {
    "colab": {
     "base_uri": "https://localhost:8080/"
    },
    "id": "7-CUEOwmvC13",
    "outputId": "e319f6dd-cda9-48cf-a163-88bf1bbdd05c"
   },
   "outputs": [
    {
     "data": {
      "text/plain": [
       "1661.3823613993964"
      ]
     },
     "execution_count": 86,
     "metadata": {},
     "output_type": "execute_result"
    }
   ],
   "source": [
    "er(Y_test,regressor.predict(X_test))"
   ]
  },
  {
   "cell_type": "code",
   "execution_count": 87,
   "metadata": {
    "colab": {
     "base_uri": "https://localhost:8080/"
    },
    "id": "VbV4X0WVvED_",
    "outputId": "1dcb9a36-c92e-40df-ef95-dd4a28ead1f2"
   },
   "outputs": [
    {
     "data": {
      "text/plain": [
       "RandomForestRegressor(max_depth=25, n_estimators=400)"
      ]
     },
     "execution_count": 87,
     "metadata": {},
     "output_type": "execute_result"
    }
   ],
   "source": [
    "regressor = RandomForestRegressor(n_estimators=400,max_depth=25)\n",
    "regressor.fit(X_train,Y_train)"
   ]
  },
  {
   "cell_type": "code",
   "execution_count": 88,
   "metadata": {
    "colab": {
     "base_uri": "https://localhost:8080/"
    },
    "id": "VarzNrCRzfen",
    "outputId": "7586e6dd-147b-4f83-bc68-bfa6379c8ed3"
   },
   "outputs": [
    {
     "data": {
      "text/plain": [
       "719.7651031809543"
      ]
     },
     "execution_count": 88,
     "metadata": {},
     "output_type": "execute_result"
    }
   ],
   "source": [
    "er(Y_train,regressor.predict(X_train))"
   ]
  },
  {
   "cell_type": "code",
   "execution_count": 89,
   "metadata": {
    "colab": {
     "base_uri": "https://localhost:8080/"
    },
    "id": "5GtAzWihzhBy",
    "outputId": "e6105726-6f10-4606-a23e-99fbe0bfa2de"
   },
   "outputs": [
    {
     "data": {
      "text/plain": [
       "1498.0741773601708"
      ]
     },
     "execution_count": 89,
     "metadata": {},
     "output_type": "execute_result"
    }
   ],
   "source": [
    "er(Y_test,regressor.predict(X_test))"
   ]
  },
  {
   "cell_type": "code",
   "execution_count": 83,
   "metadata": {
    "colab": {
     "base_uri": "https://localhost:8080/"
    },
    "id": "Fgt4DUpZziT9",
    "outputId": "77534a79-9efb-412c-87e3-65f668ede52f"
   },
   "outputs": [
    {
     "data": {
      "text/plain": [
       "RandomForestRegressor(max_depth=30, n_estimators=410)"
      ]
     },
     "execution_count": 83,
     "metadata": {},
     "output_type": "execute_result"
    }
   ],
   "source": [
    "regressor3 = RandomForestRegressor(n_estimators=410,max_depth=30)\n",
    "regressor3.fit(X_train,Y_train)"
   ]
  },
  {
   "cell_type": "code",
   "execution_count": 84,
   "metadata": {
    "colab": {
     "base_uri": "https://localhost:8080/"
    },
    "id": "b0CDWYej4hns",
    "outputId": "e29f5d42-0e5f-4f21-abb4-d6cbf018c63d"
   },
   "outputs": [
    {
     "data": {
      "text/plain": [
       "182.71550686935984"
      ]
     },
     "execution_count": 84,
     "metadata": {},
     "output_type": "execute_result"
    }
   ],
   "source": [
    "er(Y_train,regressor3.predict(X_train))"
   ]
  },
  {
   "cell_type": "code",
   "execution_count": 85,
   "metadata": {
    "colab": {
     "base_uri": "https://localhost:8080/"
    },
    "id": "PAkqYQU74hy4",
    "outputId": "8f856e4a-6ecc-4231-f6b1-5afb4cd4ad2b"
   },
   "outputs": [
    {
     "data": {
      "text/plain": [
       "1269.029442762633"
      ]
     },
     "execution_count": 85,
     "metadata": {},
     "output_type": "execute_result"
    }
   ],
   "source": [
    "er(Y_test,regressor3.predict(X_test))"
   ]
  },
  {
   "cell_type": "code",
   "execution_count": 323,
   "metadata": {
    "id": "WuERXs2U4ldu"
   },
   "outputs": [],
   "source": [
    "import pickle\n",
    "# filename = 'tree_reg.pkl'\n",
    "# pickle.dump(tree_reg, open(filename, 'wb'))"
   ]
  },
  {
   "cell_type": "code",
   "execution_count": 83,
   "metadata": {},
   "outputs": [
    {
     "data": {
      "text/plain": [
       "['tree_model2']"
      ]
     },
     "execution_count": 83,
     "metadata": {},
     "output_type": "execute_result"
    }
   ],
   "source": [
    "import joblib\n",
    "joblib.dump(tree_reg,'tree_model2')"
   ]
  },
  {
   "cell_type": "code",
   "execution_count": 324,
   "metadata": {},
   "outputs": [],
   "source": [
    "with open('model_tr2','wb') as f:\n",
    "    pickle.dump(tree_reg,f)"
   ]
  },
  {
   "cell_type": "code",
   "execution_count": 325,
   "metadata": {},
   "outputs": [],
   "source": [
    "with open('model_tr2','rb') as f:\n",
    "    mp=pickle.load(f)"
   ]
  },
  {
   "cell_type": "code",
   "execution_count": 326,
   "metadata": {},
   "outputs": [],
   "source": [
    "q1=mp.predict(X_test)"
   ]
  },
  {
   "cell_type": "code",
   "execution_count": 329,
   "metadata": {},
   "outputs": [
    {
     "data": {
      "text/plain": [
       "array([  9.,   9., 244., ...,  12.,  10.,  64.])"
      ]
     },
     "execution_count": 329,
     "metadata": {},
     "output_type": "execute_result"
    }
   ],
   "source": [
    "q1"
   ]
  },
  {
   "cell_type": "code",
   "execution_count": null,
   "metadata": {},
   "outputs": [],
   "source": []
  }
 ],
 "metadata": {
  "colab": {
   "collapsed_sections": [],
   "name": "Incident.ipynb",
   "provenance": []
  },
  "kernelspec": {
   "display_name": "Python 3",
   "language": "python",
   "name": "python3"
  },
  "language_info": {
   "codemirror_mode": {
    "name": "ipython",
    "version": 3
   },
   "file_extension": ".py",
   "mimetype": "text/x-python",
   "name": "python",
   "nbconvert_exporter": "python",
   "pygments_lexer": "ipython3",
   "version": "3.8.3"
  }
 },
 "nbformat": 4,
 "nbformat_minor": 5
}
