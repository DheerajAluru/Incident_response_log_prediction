{
 "cells": [
  {
   "cell_type": "code",
   "execution_count": 1,
   "metadata": {},
   "outputs": [],
   "source": [
    "import numpy as np\n",
    "import pandas as pd\n",
    "import matplotlib.pyplot as plt\n",
    "import seaborn as sns"
   ]
  },
  {
   "cell_type": "code",
   "execution_count": 2,
   "metadata": {},
   "outputs": [],
   "source": [
    "df3=pd.read_csv(\"incident_event_log.csv\")"
   ]
  },
  {
   "cell_type": "code",
   "execution_count": 3,
   "metadata": {
    "scrolled": true
   },
   "outputs": [
    {
     "data": {
      "text/plain": [
       "Index(['number', 'incident_state', 'active', 'reassignment_count',\n",
       "       'reopen_count', 'sys_mod_count', 'made_sla', 'caller_id', 'opened_by',\n",
       "       'opened_at', 'sys_created_by', 'sys_created_at', 'sys_updated_by',\n",
       "       'sys_updated_at', 'contact_type', 'location', 'category', 'subcategory',\n",
       "       'u_symptom', 'cmdb_ci', 'impact', 'urgency', 'priority',\n",
       "       'assignment_group', 'assigned_to', 'knowledge',\n",
       "       'u_priority_confirmation', 'notify', 'problem_id', 'rfc', 'vendor',\n",
       "       'caused_by', 'closed_code', 'resolved_by', 'resolved_at', 'closed_at'],\n",
       "      dtype='object')"
      ]
     },
     "execution_count": 3,
     "metadata": {},
     "output_type": "execute_result"
    }
   ],
   "source": [
    "df3.columns"
   ]
  },
  {
   "cell_type": "code",
   "execution_count": 4,
   "metadata": {
    "scrolled": true
   },
   "outputs": [
    {
     "data": {
      "text/html": [
       "<div>\n",
       "<style scoped>\n",
       "    .dataframe tbody tr th:only-of-type {\n",
       "        vertical-align: middle;\n",
       "    }\n",
       "\n",
       "    .dataframe tbody tr th {\n",
       "        vertical-align: top;\n",
       "    }\n",
       "\n",
       "    .dataframe thead th {\n",
       "        text-align: right;\n",
       "    }\n",
       "</style>\n",
       "<table border=\"1\" class=\"dataframe\">\n",
       "  <thead>\n",
       "    <tr style=\"text-align: right;\">\n",
       "      <th></th>\n",
       "      <th>sys_created_by</th>\n",
       "      <th>sys_updated_by</th>\n",
       "      <th>reopen_count</th>\n",
       "      <th>cmdb_ci</th>\n",
       "      <th>impact</th>\n",
       "      <th>urgency</th>\n",
       "      <th>priority</th>\n",
       "      <th>knowledge</th>\n",
       "      <th>u_priority_confirmation</th>\n",
       "    </tr>\n",
       "  </thead>\n",
       "  <tbody>\n",
       "    <tr>\n",
       "      <th>0</th>\n",
       "      <td>Created by 6</td>\n",
       "      <td>Updated by 21</td>\n",
       "      <td>0</td>\n",
       "      <td>?</td>\n",
       "      <td>2 - Medium</td>\n",
       "      <td>2 - Medium</td>\n",
       "      <td>3 - Moderate</td>\n",
       "      <td>True</td>\n",
       "      <td>False</td>\n",
       "    </tr>\n",
       "    <tr>\n",
       "      <th>1</th>\n",
       "      <td>Created by 6</td>\n",
       "      <td>Updated by 642</td>\n",
       "      <td>0</td>\n",
       "      <td>?</td>\n",
       "      <td>2 - Medium</td>\n",
       "      <td>2 - Medium</td>\n",
       "      <td>3 - Moderate</td>\n",
       "      <td>True</td>\n",
       "      <td>False</td>\n",
       "    </tr>\n",
       "    <tr>\n",
       "      <th>2</th>\n",
       "      <td>Created by 6</td>\n",
       "      <td>Updated by 804</td>\n",
       "      <td>0</td>\n",
       "      <td>?</td>\n",
       "      <td>2 - Medium</td>\n",
       "      <td>2 - Medium</td>\n",
       "      <td>3 - Moderate</td>\n",
       "      <td>True</td>\n",
       "      <td>False</td>\n",
       "    </tr>\n",
       "    <tr>\n",
       "      <th>3</th>\n",
       "      <td>Created by 6</td>\n",
       "      <td>Updated by 908</td>\n",
       "      <td>0</td>\n",
       "      <td>?</td>\n",
       "      <td>2 - Medium</td>\n",
       "      <td>2 - Medium</td>\n",
       "      <td>3 - Moderate</td>\n",
       "      <td>True</td>\n",
       "      <td>False</td>\n",
       "    </tr>\n",
       "  </tbody>\n",
       "</table>\n",
       "</div>"
      ],
      "text/plain": [
       "  sys_created_by  sys_updated_by  reopen_count cmdb_ci      impact  \\\n",
       "0   Created by 6   Updated by 21             0       ?  2 - Medium   \n",
       "1   Created by 6  Updated by 642             0       ?  2 - Medium   \n",
       "2   Created by 6  Updated by 804             0       ?  2 - Medium   \n",
       "3   Created by 6  Updated by 908             0       ?  2 - Medium   \n",
       "\n",
       "      urgency      priority  knowledge  u_priority_confirmation  \n",
       "0  2 - Medium  3 - Moderate       True                    False  \n",
       "1  2 - Medium  3 - Moderate       True                    False  \n",
       "2  2 - Medium  3 - Moderate       True                    False  \n",
       "3  2 - Medium  3 - Moderate       True                    False  "
      ]
     },
     "execution_count": 4,
     "metadata": {},
     "output_type": "execute_result"
    }
   ],
   "source": [
    "df3[df3['number']=='INC0000045'][['sys_created_by','sys_updated_by','reopen_count','cmdb_ci','impact','urgency','priority','knowledge','u_priority_confirmation']]"
   ]
  },
  {
   "cell_type": "code",
   "execution_count": 5,
   "metadata": {
    "scrolled": true
   },
   "outputs": [
    {
     "data": {
      "text/html": [
       "<div>\n",
       "<style scoped>\n",
       "    .dataframe tbody tr th:only-of-type {\n",
       "        vertical-align: middle;\n",
       "    }\n",
       "\n",
       "    .dataframe tbody tr th {\n",
       "        vertical-align: top;\n",
       "    }\n",
       "\n",
       "    .dataframe thead th {\n",
       "        text-align: right;\n",
       "    }\n",
       "</style>\n",
       "<table border=\"1\" class=\"dataframe\">\n",
       "  <thead>\n",
       "    <tr style=\"text-align: right;\">\n",
       "      <th></th>\n",
       "      <th>number</th>\n",
       "      <th>incident_state</th>\n",
       "      <th>active</th>\n",
       "      <th>reassignment_count</th>\n",
       "      <th>reopen_count</th>\n",
       "      <th>sys_mod_count</th>\n",
       "      <th>made_sla</th>\n",
       "      <th>caller_id</th>\n",
       "      <th>opened_by</th>\n",
       "      <th>opened_at</th>\n",
       "      <th>...</th>\n",
       "      <th>u_priority_confirmation</th>\n",
       "      <th>notify</th>\n",
       "      <th>problem_id</th>\n",
       "      <th>rfc</th>\n",
       "      <th>vendor</th>\n",
       "      <th>caused_by</th>\n",
       "      <th>closed_code</th>\n",
       "      <th>resolved_by</th>\n",
       "      <th>resolved_at</th>\n",
       "      <th>closed_at</th>\n",
       "    </tr>\n",
       "  </thead>\n",
       "  <tbody>\n",
       "    <tr>\n",
       "      <th>0</th>\n",
       "      <td>INC0000045</td>\n",
       "      <td>New</td>\n",
       "      <td>True</td>\n",
       "      <td>0</td>\n",
       "      <td>0</td>\n",
       "      <td>0</td>\n",
       "      <td>True</td>\n",
       "      <td>Caller 2403</td>\n",
       "      <td>Opened by  8</td>\n",
       "      <td>29/2/2016 01:16</td>\n",
       "      <td>...</td>\n",
       "      <td>False</td>\n",
       "      <td>Do Not Notify</td>\n",
       "      <td>?</td>\n",
       "      <td>?</td>\n",
       "      <td>?</td>\n",
       "      <td>?</td>\n",
       "      <td>code 5</td>\n",
       "      <td>Resolved by 149</td>\n",
       "      <td>29/2/2016 11:29</td>\n",
       "      <td>5/3/2016 12:00</td>\n",
       "    </tr>\n",
       "    <tr>\n",
       "      <th>1</th>\n",
       "      <td>INC0000045</td>\n",
       "      <td>Resolved</td>\n",
       "      <td>True</td>\n",
       "      <td>0</td>\n",
       "      <td>0</td>\n",
       "      <td>2</td>\n",
       "      <td>True</td>\n",
       "      <td>Caller 2403</td>\n",
       "      <td>Opened by  8</td>\n",
       "      <td>29/2/2016 01:16</td>\n",
       "      <td>...</td>\n",
       "      <td>False</td>\n",
       "      <td>Do Not Notify</td>\n",
       "      <td>?</td>\n",
       "      <td>?</td>\n",
       "      <td>?</td>\n",
       "      <td>?</td>\n",
       "      <td>code 5</td>\n",
       "      <td>Resolved by 149</td>\n",
       "      <td>29/2/2016 11:29</td>\n",
       "      <td>5/3/2016 12:00</td>\n",
       "    </tr>\n",
       "    <tr>\n",
       "      <th>2</th>\n",
       "      <td>INC0000045</td>\n",
       "      <td>Resolved</td>\n",
       "      <td>True</td>\n",
       "      <td>0</td>\n",
       "      <td>0</td>\n",
       "      <td>3</td>\n",
       "      <td>True</td>\n",
       "      <td>Caller 2403</td>\n",
       "      <td>Opened by  8</td>\n",
       "      <td>29/2/2016 01:16</td>\n",
       "      <td>...</td>\n",
       "      <td>False</td>\n",
       "      <td>Do Not Notify</td>\n",
       "      <td>?</td>\n",
       "      <td>?</td>\n",
       "      <td>?</td>\n",
       "      <td>?</td>\n",
       "      <td>code 5</td>\n",
       "      <td>Resolved by 149</td>\n",
       "      <td>29/2/2016 11:29</td>\n",
       "      <td>5/3/2016 12:00</td>\n",
       "    </tr>\n",
       "    <tr>\n",
       "      <th>3</th>\n",
       "      <td>INC0000045</td>\n",
       "      <td>Closed</td>\n",
       "      <td>False</td>\n",
       "      <td>0</td>\n",
       "      <td>0</td>\n",
       "      <td>4</td>\n",
       "      <td>True</td>\n",
       "      <td>Caller 2403</td>\n",
       "      <td>Opened by  8</td>\n",
       "      <td>29/2/2016 01:16</td>\n",
       "      <td>...</td>\n",
       "      <td>False</td>\n",
       "      <td>Do Not Notify</td>\n",
       "      <td>?</td>\n",
       "      <td>?</td>\n",
       "      <td>?</td>\n",
       "      <td>?</td>\n",
       "      <td>code 5</td>\n",
       "      <td>Resolved by 149</td>\n",
       "      <td>29/2/2016 11:29</td>\n",
       "      <td>5/3/2016 12:00</td>\n",
       "    </tr>\n",
       "    <tr>\n",
       "      <th>4</th>\n",
       "      <td>INC0000047</td>\n",
       "      <td>New</td>\n",
       "      <td>True</td>\n",
       "      <td>0</td>\n",
       "      <td>0</td>\n",
       "      <td>0</td>\n",
       "      <td>True</td>\n",
       "      <td>Caller 2403</td>\n",
       "      <td>Opened by  397</td>\n",
       "      <td>29/2/2016 04:40</td>\n",
       "      <td>...</td>\n",
       "      <td>False</td>\n",
       "      <td>Do Not Notify</td>\n",
       "      <td>?</td>\n",
       "      <td>?</td>\n",
       "      <td>?</td>\n",
       "      <td>?</td>\n",
       "      <td>code 5</td>\n",
       "      <td>Resolved by 81</td>\n",
       "      <td>1/3/2016 09:52</td>\n",
       "      <td>6/3/2016 10:00</td>\n",
       "    </tr>\n",
       "    <tr>\n",
       "      <th>5</th>\n",
       "      <td>INC0000047</td>\n",
       "      <td>Active</td>\n",
       "      <td>True</td>\n",
       "      <td>1</td>\n",
       "      <td>0</td>\n",
       "      <td>1</td>\n",
       "      <td>True</td>\n",
       "      <td>Caller 2403</td>\n",
       "      <td>Opened by  397</td>\n",
       "      <td>29/2/2016 04:40</td>\n",
       "      <td>...</td>\n",
       "      <td>False</td>\n",
       "      <td>Do Not Notify</td>\n",
       "      <td>?</td>\n",
       "      <td>?</td>\n",
       "      <td>?</td>\n",
       "      <td>?</td>\n",
       "      <td>code 5</td>\n",
       "      <td>Resolved by 81</td>\n",
       "      <td>1/3/2016 09:52</td>\n",
       "      <td>6/3/2016 10:00</td>\n",
       "    </tr>\n",
       "    <tr>\n",
       "      <th>6</th>\n",
       "      <td>INC0000047</td>\n",
       "      <td>Active</td>\n",
       "      <td>True</td>\n",
       "      <td>1</td>\n",
       "      <td>0</td>\n",
       "      <td>2</td>\n",
       "      <td>True</td>\n",
       "      <td>Caller 2403</td>\n",
       "      <td>Opened by  397</td>\n",
       "      <td>29/2/2016 04:40</td>\n",
       "      <td>...</td>\n",
       "      <td>False</td>\n",
       "      <td>Do Not Notify</td>\n",
       "      <td>?</td>\n",
       "      <td>?</td>\n",
       "      <td>?</td>\n",
       "      <td>?</td>\n",
       "      <td>code 5</td>\n",
       "      <td>Resolved by 81</td>\n",
       "      <td>1/3/2016 09:52</td>\n",
       "      <td>6/3/2016 10:00</td>\n",
       "    </tr>\n",
       "    <tr>\n",
       "      <th>7</th>\n",
       "      <td>INC0000047</td>\n",
       "      <td>Active</td>\n",
       "      <td>True</td>\n",
       "      <td>1</td>\n",
       "      <td>0</td>\n",
       "      <td>3</td>\n",
       "      <td>True</td>\n",
       "      <td>Caller 2403</td>\n",
       "      <td>Opened by  397</td>\n",
       "      <td>29/2/2016 04:40</td>\n",
       "      <td>...</td>\n",
       "      <td>False</td>\n",
       "      <td>Do Not Notify</td>\n",
       "      <td>?</td>\n",
       "      <td>?</td>\n",
       "      <td>?</td>\n",
       "      <td>?</td>\n",
       "      <td>code 5</td>\n",
       "      <td>Resolved by 81</td>\n",
       "      <td>1/3/2016 09:52</td>\n",
       "      <td>6/3/2016 10:00</td>\n",
       "    </tr>\n",
       "    <tr>\n",
       "      <th>8</th>\n",
       "      <td>INC0000047</td>\n",
       "      <td>Active</td>\n",
       "      <td>True</td>\n",
       "      <td>1</td>\n",
       "      <td>0</td>\n",
       "      <td>4</td>\n",
       "      <td>True</td>\n",
       "      <td>Caller 2403</td>\n",
       "      <td>Opened by  397</td>\n",
       "      <td>29/2/2016 04:40</td>\n",
       "      <td>...</td>\n",
       "      <td>False</td>\n",
       "      <td>Do Not Notify</td>\n",
       "      <td>?</td>\n",
       "      <td>?</td>\n",
       "      <td>?</td>\n",
       "      <td>?</td>\n",
       "      <td>code 5</td>\n",
       "      <td>Resolved by 81</td>\n",
       "      <td>1/3/2016 09:52</td>\n",
       "      <td>6/3/2016 10:00</td>\n",
       "    </tr>\n",
       "    <tr>\n",
       "      <th>9</th>\n",
       "      <td>INC0000047</td>\n",
       "      <td>Active</td>\n",
       "      <td>True</td>\n",
       "      <td>1</td>\n",
       "      <td>0</td>\n",
       "      <td>5</td>\n",
       "      <td>True</td>\n",
       "      <td>Caller 2403</td>\n",
       "      <td>Opened by  397</td>\n",
       "      <td>29/2/2016 04:40</td>\n",
       "      <td>...</td>\n",
       "      <td>False</td>\n",
       "      <td>Do Not Notify</td>\n",
       "      <td>?</td>\n",
       "      <td>?</td>\n",
       "      <td>?</td>\n",
       "      <td>?</td>\n",
       "      <td>code 5</td>\n",
       "      <td>Resolved by 81</td>\n",
       "      <td>1/3/2016 09:52</td>\n",
       "      <td>6/3/2016 10:00</td>\n",
       "    </tr>\n",
       "  </tbody>\n",
       "</table>\n",
       "<p>10 rows × 36 columns</p>\n",
       "</div>"
      ],
      "text/plain": [
       "       number incident_state  active  reassignment_count  reopen_count  \\\n",
       "0  INC0000045            New    True                   0             0   \n",
       "1  INC0000045       Resolved    True                   0             0   \n",
       "2  INC0000045       Resolved    True                   0             0   \n",
       "3  INC0000045         Closed   False                   0             0   \n",
       "4  INC0000047            New    True                   0             0   \n",
       "5  INC0000047         Active    True                   1             0   \n",
       "6  INC0000047         Active    True                   1             0   \n",
       "7  INC0000047         Active    True                   1             0   \n",
       "8  INC0000047         Active    True                   1             0   \n",
       "9  INC0000047         Active    True                   1             0   \n",
       "\n",
       "   sys_mod_count  made_sla    caller_id       opened_by        opened_at  ...  \\\n",
       "0              0      True  Caller 2403    Opened by  8  29/2/2016 01:16  ...   \n",
       "1              2      True  Caller 2403    Opened by  8  29/2/2016 01:16  ...   \n",
       "2              3      True  Caller 2403    Opened by  8  29/2/2016 01:16  ...   \n",
       "3              4      True  Caller 2403    Opened by  8  29/2/2016 01:16  ...   \n",
       "4              0      True  Caller 2403  Opened by  397  29/2/2016 04:40  ...   \n",
       "5              1      True  Caller 2403  Opened by  397  29/2/2016 04:40  ...   \n",
       "6              2      True  Caller 2403  Opened by  397  29/2/2016 04:40  ...   \n",
       "7              3      True  Caller 2403  Opened by  397  29/2/2016 04:40  ...   \n",
       "8              4      True  Caller 2403  Opened by  397  29/2/2016 04:40  ...   \n",
       "9              5      True  Caller 2403  Opened by  397  29/2/2016 04:40  ...   \n",
       "\n",
       "  u_priority_confirmation         notify problem_id rfc vendor caused_by  \\\n",
       "0                   False  Do Not Notify          ?   ?      ?         ?   \n",
       "1                   False  Do Not Notify          ?   ?      ?         ?   \n",
       "2                   False  Do Not Notify          ?   ?      ?         ?   \n",
       "3                   False  Do Not Notify          ?   ?      ?         ?   \n",
       "4                   False  Do Not Notify          ?   ?      ?         ?   \n",
       "5                   False  Do Not Notify          ?   ?      ?         ?   \n",
       "6                   False  Do Not Notify          ?   ?      ?         ?   \n",
       "7                   False  Do Not Notify          ?   ?      ?         ?   \n",
       "8                   False  Do Not Notify          ?   ?      ?         ?   \n",
       "9                   False  Do Not Notify          ?   ?      ?         ?   \n",
       "\n",
       "  closed_code      resolved_by      resolved_at       closed_at  \n",
       "0      code 5  Resolved by 149  29/2/2016 11:29  5/3/2016 12:00  \n",
       "1      code 5  Resolved by 149  29/2/2016 11:29  5/3/2016 12:00  \n",
       "2      code 5  Resolved by 149  29/2/2016 11:29  5/3/2016 12:00  \n",
       "3      code 5  Resolved by 149  29/2/2016 11:29  5/3/2016 12:00  \n",
       "4      code 5   Resolved by 81   1/3/2016 09:52  6/3/2016 10:00  \n",
       "5      code 5   Resolved by 81   1/3/2016 09:52  6/3/2016 10:00  \n",
       "6      code 5   Resolved by 81   1/3/2016 09:52  6/3/2016 10:00  \n",
       "7      code 5   Resolved by 81   1/3/2016 09:52  6/3/2016 10:00  \n",
       "8      code 5   Resolved by 81   1/3/2016 09:52  6/3/2016 10:00  \n",
       "9      code 5   Resolved by 81   1/3/2016 09:52  6/3/2016 10:00  \n",
       "\n",
       "[10 rows x 36 columns]"
      ]
     },
     "execution_count": 5,
     "metadata": {},
     "output_type": "execute_result"
    }
   ],
   "source": [
    "df3.head(10)"
   ]
  },
  {
   "cell_type": "code",
   "execution_count": 6,
   "metadata": {
    "scrolled": true
   },
   "outputs": [
    {
     "data": {
      "text/plain": [
       "number                     0\n",
       "incident_state             0\n",
       "active                     0\n",
       "reassignment_count         0\n",
       "reopen_count               0\n",
       "sys_mod_count              0\n",
       "made_sla                   0\n",
       "caller_id                  0\n",
       "opened_by                  0\n",
       "opened_at                  0\n",
       "sys_created_by             0\n",
       "sys_created_at             0\n",
       "sys_updated_by             0\n",
       "sys_updated_at             0\n",
       "contact_type               0\n",
       "location                   0\n",
       "category                   0\n",
       "subcategory                0\n",
       "u_symptom                  0\n",
       "cmdb_ci                    0\n",
       "impact                     0\n",
       "urgency                    0\n",
       "priority                   0\n",
       "assignment_group           0\n",
       "assigned_to                0\n",
       "knowledge                  0\n",
       "u_priority_confirmation    0\n",
       "notify                     0\n",
       "problem_id                 0\n",
       "rfc                        0\n",
       "vendor                     0\n",
       "caused_by                  0\n",
       "closed_code                0\n",
       "resolved_by                0\n",
       "resolved_at                0\n",
       "closed_at                  0\n",
       "dtype: int64"
      ]
     },
     "execution_count": 6,
     "metadata": {},
     "output_type": "execute_result"
    }
   ],
   "source": [
    "df3.isnull().sum()"
   ]
  },
  {
   "cell_type": "markdown",
   "metadata": {},
   "source": [
    "**Converting time features into datetime format**"
   ]
  },
  {
   "cell_type": "code",
   "execution_count": 7,
   "metadata": {},
   "outputs": [],
   "source": [
    "df3['opened_at']=pd.to_datetime(df3['opened_at'])"
   ]
  },
  {
   "cell_type": "code",
   "execution_count": 8,
   "metadata": {},
   "outputs": [],
   "source": [
    "df3['closed_at']=pd.to_datetime(df3['closed_at'])"
   ]
  },
  {
   "cell_type": "code",
   "execution_count": 9,
   "metadata": {},
   "outputs": [
    {
     "data": {
      "text/html": [
       "<div>\n",
       "<style scoped>\n",
       "    .dataframe tbody tr th:only-of-type {\n",
       "        vertical-align: middle;\n",
       "    }\n",
       "\n",
       "    .dataframe tbody tr th {\n",
       "        vertical-align: top;\n",
       "    }\n",
       "\n",
       "    .dataframe thead th {\n",
       "        text-align: right;\n",
       "    }\n",
       "</style>\n",
       "<table border=\"1\" class=\"dataframe\">\n",
       "  <thead>\n",
       "    <tr style=\"text-align: right;\">\n",
       "      <th></th>\n",
       "      <th>sys_created_by</th>\n",
       "      <th>sys_updated_by</th>\n",
       "      <th>reopen_count</th>\n",
       "      <th>cmdb_ci</th>\n",
       "      <th>impact</th>\n",
       "      <th>urgency</th>\n",
       "      <th>priority</th>\n",
       "      <th>knowledge</th>\n",
       "      <th>u_priority_confirmation</th>\n",
       "      <th>resolved_at</th>\n",
       "    </tr>\n",
       "  </thead>\n",
       "  <tbody>\n",
       "    <tr>\n",
       "      <th>173</th>\n",
       "      <td>?</td>\n",
       "      <td>Updated by 908</td>\n",
       "      <td>0</td>\n",
       "      <td>?</td>\n",
       "      <td>2 - Medium</td>\n",
       "      <td>2 - Medium</td>\n",
       "      <td>3 - Moderate</td>\n",
       "      <td>True</td>\n",
       "      <td>False</td>\n",
       "      <td>?</td>\n",
       "    </tr>\n",
       "    <tr>\n",
       "      <th>174</th>\n",
       "      <td>?</td>\n",
       "      <td>Updated by 908</td>\n",
       "      <td>0</td>\n",
       "      <td>?</td>\n",
       "      <td>2 - Medium</td>\n",
       "      <td>2 - Medium</td>\n",
       "      <td>3 - Moderate</td>\n",
       "      <td>True</td>\n",
       "      <td>False</td>\n",
       "      <td>?</td>\n",
       "    </tr>\n",
       "    <tr>\n",
       "      <th>423</th>\n",
       "      <td>?</td>\n",
       "      <td>Updated by 908</td>\n",
       "      <td>0</td>\n",
       "      <td>?</td>\n",
       "      <td>2 - Medium</td>\n",
       "      <td>2 - Medium</td>\n",
       "      <td>3 - Moderate</td>\n",
       "      <td>True</td>\n",
       "      <td>False</td>\n",
       "      <td>?</td>\n",
       "    </tr>\n",
       "    <tr>\n",
       "      <th>424</th>\n",
       "      <td>?</td>\n",
       "      <td>Updated by 908</td>\n",
       "      <td>0</td>\n",
       "      <td>?</td>\n",
       "      <td>2 - Medium</td>\n",
       "      <td>2 - Medium</td>\n",
       "      <td>3 - Moderate</td>\n",
       "      <td>True</td>\n",
       "      <td>False</td>\n",
       "      <td>?</td>\n",
       "    </tr>\n",
       "    <tr>\n",
       "      <th>548</th>\n",
       "      <td>?</td>\n",
       "      <td>Updated by 908</td>\n",
       "      <td>0</td>\n",
       "      <td>?</td>\n",
       "      <td>3 - Low</td>\n",
       "      <td>3 - Low</td>\n",
       "      <td>4 - Low</td>\n",
       "      <td>True</td>\n",
       "      <td>False</td>\n",
       "      <td>?</td>\n",
       "    </tr>\n",
       "    <tr>\n",
       "      <th>...</th>\n",
       "      <td>...</td>\n",
       "      <td>...</td>\n",
       "      <td>...</td>\n",
       "      <td>...</td>\n",
       "      <td>...</td>\n",
       "      <td>...</td>\n",
       "      <td>...</td>\n",
       "      <td>...</td>\n",
       "      <td>...</td>\n",
       "      <td>...</td>\n",
       "    </tr>\n",
       "    <tr>\n",
       "      <th>141699</th>\n",
       "      <td>?</td>\n",
       "      <td>Updated by 533</td>\n",
       "      <td>0</td>\n",
       "      <td>?</td>\n",
       "      <td>2 - Medium</td>\n",
       "      <td>2 - Medium</td>\n",
       "      <td>3 - Moderate</td>\n",
       "      <td>False</td>\n",
       "      <td>False</td>\n",
       "      <td>?</td>\n",
       "    </tr>\n",
       "    <tr>\n",
       "      <th>141700</th>\n",
       "      <td>?</td>\n",
       "      <td>Updated by 698</td>\n",
       "      <td>0</td>\n",
       "      <td>?</td>\n",
       "      <td>2 - Medium</td>\n",
       "      <td>2 - Medium</td>\n",
       "      <td>3 - Moderate</td>\n",
       "      <td>False</td>\n",
       "      <td>False</td>\n",
       "      <td>?</td>\n",
       "    </tr>\n",
       "    <tr>\n",
       "      <th>141701</th>\n",
       "      <td>?</td>\n",
       "      <td>Updated by 845</td>\n",
       "      <td>0</td>\n",
       "      <td>?</td>\n",
       "      <td>2 - Medium</td>\n",
       "      <td>2 - Medium</td>\n",
       "      <td>3 - Moderate</td>\n",
       "      <td>False</td>\n",
       "      <td>False</td>\n",
       "      <td>?</td>\n",
       "    </tr>\n",
       "    <tr>\n",
       "      <th>141702</th>\n",
       "      <td>?</td>\n",
       "      <td>Updated by 845</td>\n",
       "      <td>0</td>\n",
       "      <td>?</td>\n",
       "      <td>2 - Medium</td>\n",
       "      <td>2 - Medium</td>\n",
       "      <td>3 - Moderate</td>\n",
       "      <td>False</td>\n",
       "      <td>False</td>\n",
       "      <td>?</td>\n",
       "    </tr>\n",
       "    <tr>\n",
       "      <th>141703</th>\n",
       "      <td>?</td>\n",
       "      <td>Updated by 845</td>\n",
       "      <td>0</td>\n",
       "      <td>?</td>\n",
       "      <td>2 - Medium</td>\n",
       "      <td>2 - Medium</td>\n",
       "      <td>3 - Moderate</td>\n",
       "      <td>False</td>\n",
       "      <td>False</td>\n",
       "      <td>?</td>\n",
       "    </tr>\n",
       "  </tbody>\n",
       "</table>\n",
       "<p>3141 rows × 10 columns</p>\n",
       "</div>"
      ],
      "text/plain": [
       "       sys_created_by  sys_updated_by  reopen_count cmdb_ci      impact  \\\n",
       "173                 ?  Updated by 908             0       ?  2 - Medium   \n",
       "174                 ?  Updated by 908             0       ?  2 - Medium   \n",
       "423                 ?  Updated by 908             0       ?  2 - Medium   \n",
       "424                 ?  Updated by 908             0       ?  2 - Medium   \n",
       "548                 ?  Updated by 908             0       ?     3 - Low   \n",
       "...               ...             ...           ...     ...         ...   \n",
       "141699              ?  Updated by 533             0       ?  2 - Medium   \n",
       "141700              ?  Updated by 698             0       ?  2 - Medium   \n",
       "141701              ?  Updated by 845             0       ?  2 - Medium   \n",
       "141702              ?  Updated by 845             0       ?  2 - Medium   \n",
       "141703              ?  Updated by 845             0       ?  2 - Medium   \n",
       "\n",
       "           urgency      priority  knowledge  u_priority_confirmation  \\\n",
       "173     2 - Medium  3 - Moderate       True                    False   \n",
       "174     2 - Medium  3 - Moderate       True                    False   \n",
       "423     2 - Medium  3 - Moderate       True                    False   \n",
       "424     2 - Medium  3 - Moderate       True                    False   \n",
       "548        3 - Low       4 - Low       True                    False   \n",
       "...            ...           ...        ...                      ...   \n",
       "141699  2 - Medium  3 - Moderate      False                    False   \n",
       "141700  2 - Medium  3 - Moderate      False                    False   \n",
       "141701  2 - Medium  3 - Moderate      False                    False   \n",
       "141702  2 - Medium  3 - Moderate      False                    False   \n",
       "141703  2 - Medium  3 - Moderate      False                    False   \n",
       "\n",
       "       resolved_at  \n",
       "173              ?  \n",
       "174              ?  \n",
       "423              ?  \n",
       "424              ?  \n",
       "548              ?  \n",
       "...            ...  \n",
       "141699           ?  \n",
       "141700           ?  \n",
       "141701           ?  \n",
       "141702           ?  \n",
       "141703           ?  \n",
       "\n",
       "[3141 rows x 10 columns]"
      ]
     },
     "execution_count": 9,
     "metadata": {},
     "output_type": "execute_result"
    }
   ],
   "source": [
    "df3[df3['resolved_at']=='?'][['sys_created_by','sys_updated_by','reopen_count','cmdb_ci','impact','urgency','priority','knowledge','u_priority_confirmation','resolved_at']]"
   ]
  },
  {
   "cell_type": "code",
   "execution_count": 10,
   "metadata": {
    "scrolled": false
   },
   "outputs": [
    {
     "name": "stdout",
     "output_type": "stream",
     "text": [
      "<class 'pandas.core.frame.DataFrame'>\n",
      "RangeIndex: 141712 entries, 0 to 141711\n",
      "Data columns (total 36 columns):\n",
      " #   Column                   Non-Null Count   Dtype         \n",
      "---  ------                   --------------   -----         \n",
      " 0   number                   141712 non-null  object        \n",
      " 1   incident_state           141712 non-null  object        \n",
      " 2   active                   141712 non-null  bool          \n",
      " 3   reassignment_count       141712 non-null  int64         \n",
      " 4   reopen_count             141712 non-null  int64         \n",
      " 5   sys_mod_count            141712 non-null  int64         \n",
      " 6   made_sla                 141712 non-null  bool          \n",
      " 7   caller_id                141712 non-null  object        \n",
      " 8   opened_by                141712 non-null  object        \n",
      " 9   opened_at                141712 non-null  datetime64[ns]\n",
      " 10  sys_created_by           141712 non-null  object        \n",
      " 11  sys_created_at           141712 non-null  object        \n",
      " 12  sys_updated_by           141712 non-null  object        \n",
      " 13  sys_updated_at           141712 non-null  object        \n",
      " 14  contact_type             141712 non-null  object        \n",
      " 15  location                 141712 non-null  object        \n",
      " 16  category                 141712 non-null  object        \n",
      " 17  subcategory              141712 non-null  object        \n",
      " 18  u_symptom                141712 non-null  object        \n",
      " 19  cmdb_ci                  141712 non-null  object        \n",
      " 20  impact                   141712 non-null  object        \n",
      " 21  urgency                  141712 non-null  object        \n",
      " 22  priority                 141712 non-null  object        \n",
      " 23  assignment_group         141712 non-null  object        \n",
      " 24  assigned_to              141712 non-null  object        \n",
      " 25  knowledge                141712 non-null  bool          \n",
      " 26  u_priority_confirmation  141712 non-null  bool          \n",
      " 27  notify                   141712 non-null  object        \n",
      " 28  problem_id               141712 non-null  object        \n",
      " 29  rfc                      141712 non-null  object        \n",
      " 30  vendor                   141712 non-null  object        \n",
      " 31  caused_by                141712 non-null  object        \n",
      " 32  closed_code              141712 non-null  object        \n",
      " 33  resolved_by              141712 non-null  object        \n",
      " 34  resolved_at              141712 non-null  object        \n",
      " 35  closed_at                141712 non-null  datetime64[ns]\n",
      "dtypes: bool(4), datetime64[ns](2), int64(3), object(27)\n",
      "memory usage: 35.1+ MB\n"
     ]
    }
   ],
   "source": [
    "df3.info()"
   ]
  },
  {
   "cell_type": "code",
   "execution_count": 11,
   "metadata": {
    "scrolled": true
   },
   "outputs": [
    {
     "data": {
      "text/plain": [
       "0   2016-02-29 01:16:00\n",
       "1   2016-02-29 01:16:00\n",
       "Name: opened_at, dtype: datetime64[ns]"
      ]
     },
     "execution_count": 11,
     "metadata": {},
     "output_type": "execute_result"
    }
   ],
   "source": [
    "df3['opened_at'].head(2)"
   ]
  },
  {
   "cell_type": "code",
   "execution_count": 12,
   "metadata": {},
   "outputs": [
    {
     "data": {
      "image/png": "[encoded data removed]",
      "text/plain": [
       "<Figure size 1440x288 with 1 Axes>"
      ]
     },
     "metadata": {
      "needs_background": "light"
     },
     "output_type": "display_data"
    }
   ],
   "source": [
    "df3.groupby('incident_state').count()['number'] .plot(kind='barh',title='Incident_state Distribution',\n",
    "          figsize=(20, 4))\n",
    "plt.show()"
   ]
  },
  {
   "cell_type": "code",
   "execution_count": 13,
   "metadata": {
    "scrolled": true
   },
   "outputs": [
    {
     "data": {
      "text/plain": [
       "Active                38716\n",
       "New                   36407\n",
       "Resolved              25751\n",
       "Closed                24985\n",
       "Awaiting User Info    14642\n",
       "Awaiting Vendor         707\n",
       "Awaiting Problem        461\n",
       "Awaiting Evidence        38\n",
       "-100                      5\n",
       "Name: incident_state, dtype: int64"
      ]
     },
     "execution_count": 13,
     "metadata": {},
     "output_type": "execute_result"
    }
   ],
   "source": [
    "df3['incident_state'].value_counts()"
   ]
  },
  {
   "cell_type": "code",
   "execution_count": 14,
   "metadata": {},
   "outputs": [
    {
     "data": {
      "text/html": [
       "<div>\n",
       "<style scoped>\n",
       "    .dataframe tbody tr th:only-of-type {\n",
       "        vertical-align: middle;\n",
       "    }\n",
       "\n",
       "    .dataframe tbody tr th {\n",
       "        vertical-align: top;\n",
       "    }\n",
       "\n",
       "    .dataframe thead th {\n",
       "        text-align: right;\n",
       "    }\n",
       "</style>\n",
       "<table border=\"1\" class=\"dataframe\">\n",
       "  <thead>\n",
       "    <tr style=\"text-align: right;\">\n",
       "      <th></th>\n",
       "      <th>reassignment_count</th>\n",
       "      <th>reopen_count</th>\n",
       "      <th>sys_mod_count</th>\n",
       "    </tr>\n",
       "  </thead>\n",
       "  <tbody>\n",
       "    <tr>\n",
       "      <th>count</th>\n",
       "      <td>141712.000000</td>\n",
       "      <td>141712.000000</td>\n",
       "      <td>141712.000000</td>\n",
       "    </tr>\n",
       "    <tr>\n",
       "      <th>mean</th>\n",
       "      <td>1.104197</td>\n",
       "      <td>0.021918</td>\n",
       "      <td>5.080946</td>\n",
       "    </tr>\n",
       "    <tr>\n",
       "      <th>std</th>\n",
       "      <td>1.734673</td>\n",
       "      <td>0.207302</td>\n",
       "      <td>7.680652</td>\n",
       "    </tr>\n",
       "    <tr>\n",
       "      <th>min</th>\n",
       "      <td>0.000000</td>\n",
       "      <td>0.000000</td>\n",
       "      <td>0.000000</td>\n",
       "    </tr>\n",
       "    <tr>\n",
       "      <th>25%</th>\n",
       "      <td>0.000000</td>\n",
       "      <td>0.000000</td>\n",
       "      <td>1.000000</td>\n",
       "    </tr>\n",
       "    <tr>\n",
       "      <th>50%</th>\n",
       "      <td>1.000000</td>\n",
       "      <td>0.000000</td>\n",
       "      <td>3.000000</td>\n",
       "    </tr>\n",
       "    <tr>\n",
       "      <th>75%</th>\n",
       "      <td>1.000000</td>\n",
       "      <td>0.000000</td>\n",
       "      <td>6.000000</td>\n",
       "    </tr>\n",
       "    <tr>\n",
       "      <th>max</th>\n",
       "      <td>27.000000</td>\n",
       "      <td>8.000000</td>\n",
       "      <td>129.000000</td>\n",
       "    </tr>\n",
       "  </tbody>\n",
       "</table>\n",
       "</div>"
      ],
      "text/plain": [
       "       reassignment_count   reopen_count  sys_mod_count\n",
       "count       141712.000000  141712.000000  141712.000000\n",
       "mean             1.104197       0.021918       5.080946\n",
       "std              1.734673       0.207302       7.680652\n",
       "min              0.000000       0.000000       0.000000\n",
       "25%              0.000000       0.000000       1.000000\n",
       "50%              1.000000       0.000000       3.000000\n",
       "75%              1.000000       0.000000       6.000000\n",
       "max             27.000000       8.000000     129.000000"
      ]
     },
     "execution_count": 14,
     "metadata": {},
     "output_type": "execute_result"
    }
   ],
   "source": [
    "df3.describe()"
   ]
  },
  {
   "cell_type": "markdown",
   "metadata": {},
   "source": [
    "**Finding the incident closed code to check which type to tickets are raised more**"
   ]
  },
  {
   "cell_type": "code",
   "execution_count": 15,
   "metadata": {},
   "outputs": [
    {
     "data": {
      "image/png": "[encoded data removed]",
      "text/plain": [
       "<Figure size 1440x288 with 1 Axes>"
      ]
     },
     "metadata": {
      "needs_background": "light"
     },
     "output_type": "display_data"
    }
   ],
   "source": [
    "df3.groupby('closed_code').count()['number'] .plot(kind='barh',title='closed_code Distribution',\n",
    "          figsize=(20, 4))\n",
    "plt.show()"
   ]
  },
  {
   "cell_type": "code",
   "execution_count": 16,
   "metadata": {},
   "outputs": [
    {
     "data": {
      "text/plain": [
       "code 6     86583\n",
       "code 7     20733\n",
       "code 9     13562\n",
       "code 8      5646\n",
       "code 5      4469\n",
       "code 1      3265\n",
       "code 10     1678\n",
       "code 11     1493\n",
       "code 4      1139\n",
       "code 16     1091\n",
       "?            714\n",
       "code 3       608\n",
       "code 2       349\n",
       "code 15      183\n",
       "code 17      115\n",
       "code 13       59\n",
       "code 12       13\n",
       "code 14       12\n",
       "Name: closed_code, dtype: int64"
      ]
     },
     "execution_count": 16,
     "metadata": {},
     "output_type": "execute_result"
    }
   ],
   "source": [
    "df3['closed_code'].value_counts()"
   ]
  },
  {
   "cell_type": "markdown",
   "metadata": {},
   "source": [
    "**Taking the important features and copying into a new dataset**"
   ]
  },
  {
   "cell_type": "code",
   "execution_count": 17,
   "metadata": {},
   "outputs": [],
   "source": [
    "imp_features=df3[[\"number\",\"incident_state\",\"active\",\"sys_mod_count\",\"made_sla\",\"caller_id\",\"opened_by\",\"opened_at\",\"impact\",\"priority\",\"u_priority_confirmation\",\"resolved_by\",\"resolved_at\",\"closed_at\",\"closed_code\"]]"
   ]
  },
  {
   "cell_type": "code",
   "execution_count": 18,
   "metadata": {},
   "outputs": [],
   "source": [
    "df_imp=imp_features.copy()"
   ]
  },
  {
   "cell_type": "code",
   "execution_count": 19,
   "metadata": {},
   "outputs": [
    {
     "data": {
      "text/html": [
       "<div>\n",
       "<style scoped>\n",
       "    .dataframe tbody tr th:only-of-type {\n",
       "        vertical-align: middle;\n",
       "    }\n",
       "\n",
       "    .dataframe tbody tr th {\n",
       "        vertical-align: top;\n",
       "    }\n",
       "\n",
       "    .dataframe thead th {\n",
       "        text-align: right;\n",
       "    }\n",
       "</style>\n",
       "<table border=\"1\" class=\"dataframe\">\n",
       "  <thead>\n",
       "    <tr style=\"text-align: right;\">\n",
       "      <th></th>\n",
       "      <th>number</th>\n",
       "      <th>incident_state</th>\n",
       "      <th>active</th>\n",
       "      <th>sys_mod_count</th>\n",
       "      <th>made_sla</th>\n",
       "      <th>caller_id</th>\n",
       "      <th>opened_by</th>\n",
       "      <th>opened_at</th>\n",
       "      <th>impact</th>\n",
       "      <th>priority</th>\n",
       "      <th>u_priority_confirmation</th>\n",
       "      <th>resolved_by</th>\n",
       "      <th>resolved_at</th>\n",
       "      <th>closed_at</th>\n",
       "      <th>closed_code</th>\n",
       "    </tr>\n",
       "  </thead>\n",
       "  <tbody>\n",
       "    <tr>\n",
       "      <th>0</th>\n",
       "      <td>INC0000045</td>\n",
       "      <td>New</td>\n",
       "      <td>True</td>\n",
       "      <td>0</td>\n",
       "      <td>True</td>\n",
       "      <td>Caller 2403</td>\n",
       "      <td>Opened by  8</td>\n",
       "      <td>2016-02-29 01:16:00</td>\n",
       "      <td>2 - Medium</td>\n",
       "      <td>3 - Moderate</td>\n",
       "      <td>False</td>\n",
       "      <td>Resolved by 149</td>\n",
       "      <td>29/2/2016 11:29</td>\n",
       "      <td>2016-05-03 12:00:00</td>\n",
       "      <td>code 5</td>\n",
       "    </tr>\n",
       "    <tr>\n",
       "      <th>1</th>\n",
       "      <td>INC0000045</td>\n",
       "      <td>Resolved</td>\n",
       "      <td>True</td>\n",
       "      <td>2</td>\n",
       "      <td>True</td>\n",
       "      <td>Caller 2403</td>\n",
       "      <td>Opened by  8</td>\n",
       "      <td>2016-02-29 01:16:00</td>\n",
       "      <td>2 - Medium</td>\n",
       "      <td>3 - Moderate</td>\n",
       "      <td>False</td>\n",
       "      <td>Resolved by 149</td>\n",
       "      <td>29/2/2016 11:29</td>\n",
       "      <td>2016-05-03 12:00:00</td>\n",
       "      <td>code 5</td>\n",
       "    </tr>\n",
       "  </tbody>\n",
       "</table>\n",
       "</div>"
      ],
      "text/plain": [
       "       number incident_state  active  sys_mod_count  made_sla    caller_id  \\\n",
       "0  INC0000045            New    True              0      True  Caller 2403   \n",
       "1  INC0000045       Resolved    True              2      True  Caller 2403   \n",
       "\n",
       "      opened_by           opened_at      impact      priority  \\\n",
       "0  Opened by  8 2016-02-29 01:16:00  2 - Medium  3 - Moderate   \n",
       "1  Opened by  8 2016-02-29 01:16:00  2 - Medium  3 - Moderate   \n",
       "\n",
       "   u_priority_confirmation      resolved_by      resolved_at  \\\n",
       "0                    False  Resolved by 149  29/2/2016 11:29   \n",
       "1                    False  Resolved by 149  29/2/2016 11:29   \n",
       "\n",
       "            closed_at closed_code  \n",
       "0 2016-05-03 12:00:00      code 5  \n",
       "1 2016-05-03 12:00:00      code 5  "
      ]
     },
     "execution_count": 19,
     "metadata": {},
     "output_type": "execute_result"
    }
   ],
   "source": [
    "df_imp.head(2)"
   ]
  },
  {
   "cell_type": "code",
   "execution_count": 20,
   "metadata": {},
   "outputs": [
    {
     "name": "stdout",
     "output_type": "stream",
     "text": [
      "<class 'pandas.core.frame.DataFrame'>\n",
      "RangeIndex: 141712 entries, 0 to 141711\n",
      "Data columns (total 15 columns):\n",
      " #   Column                   Non-Null Count   Dtype         \n",
      "---  ------                   --------------   -----         \n",
      " 0   number                   141712 non-null  object        \n",
      " 1   incident_state           141712 non-null  object        \n",
      " 2   active                   141712 non-null  bool          \n",
      " 3   sys_mod_count            141712 non-null  int64         \n",
      " 4   made_sla                 141712 non-null  bool          \n",
      " 5   caller_id                141712 non-null  object        \n",
      " 6   opened_by                141712 non-null  object        \n",
      " 7   opened_at                141712 non-null  datetime64[ns]\n",
      " 8   impact                   141712 non-null  object        \n",
      " 9   priority                 141712 non-null  object        \n",
      " 10  u_priority_confirmation  141712 non-null  bool          \n",
      " 11  resolved_by              141712 non-null  object        \n",
      " 12  resolved_at              141712 non-null  object        \n",
      " 13  closed_at                141712 non-null  datetime64[ns]\n",
      " 14  closed_code              141712 non-null  object        \n",
      "dtypes: bool(3), datetime64[ns](2), int64(1), object(9)\n",
      "memory usage: 13.4+ MB\n"
     ]
    }
   ],
   "source": [
    "df_imp.info()"
   ]
  },
  {
   "cell_type": "code",
   "execution_count": 21,
   "metadata": {},
   "outputs": [
    {
     "data": {
      "text/html": [
       "<div>\n",
       "<style scoped>\n",
       "    .dataframe tbody tr th:only-of-type {\n",
       "        vertical-align: middle;\n",
       "    }\n",
       "\n",
       "    .dataframe tbody tr th {\n",
       "        vertical-align: top;\n",
       "    }\n",
       "\n",
       "    .dataframe thead th {\n",
       "        text-align: right;\n",
       "    }\n",
       "</style>\n",
       "<table border=\"1\" class=\"dataframe\">\n",
       "  <thead>\n",
       "    <tr style=\"text-align: right;\">\n",
       "      <th></th>\n",
       "      <th>number</th>\n",
       "      <th>incident_state</th>\n",
       "      <th>active</th>\n",
       "      <th>made_sla</th>\n",
       "      <th>opened_at</th>\n",
       "      <th>impact</th>\n",
       "      <th>priority</th>\n",
       "      <th>resolved_at</th>\n",
       "      <th>u_priority_confirmation</th>\n",
       "      <th>closed_at</th>\n",
       "      <th>closed_code</th>\n",
       "    </tr>\n",
       "  </thead>\n",
       "  <tbody>\n",
       "    <tr>\n",
       "      <th>0</th>\n",
       "      <td>INC0000045</td>\n",
       "      <td>New</td>\n",
       "      <td>True</td>\n",
       "      <td>True</td>\n",
       "      <td>2016-02-29 01:16:00</td>\n",
       "      <td>2 - Medium</td>\n",
       "      <td>3 - Moderate</td>\n",
       "      <td>29/2/2016 11:29</td>\n",
       "      <td>False</td>\n",
       "      <td>2016-05-03 12:00:00</td>\n",
       "      <td>code 5</td>\n",
       "    </tr>\n",
       "    <tr>\n",
       "      <th>1</th>\n",
       "      <td>INC0000045</td>\n",
       "      <td>Resolved</td>\n",
       "      <td>True</td>\n",
       "      <td>True</td>\n",
       "      <td>2016-02-29 01:16:00</td>\n",
       "      <td>2 - Medium</td>\n",
       "      <td>3 - Moderate</td>\n",
       "      <td>29/2/2016 11:29</td>\n",
       "      <td>False</td>\n",
       "      <td>2016-05-03 12:00:00</td>\n",
       "      <td>code 5</td>\n",
       "    </tr>\n",
       "    <tr>\n",
       "      <th>2</th>\n",
       "      <td>INC0000045</td>\n",
       "      <td>Resolved</td>\n",
       "      <td>True</td>\n",
       "      <td>True</td>\n",
       "      <td>2016-02-29 01:16:00</td>\n",
       "      <td>2 - Medium</td>\n",
       "      <td>3 - Moderate</td>\n",
       "      <td>29/2/2016 11:29</td>\n",
       "      <td>False</td>\n",
       "      <td>2016-05-03 12:00:00</td>\n",
       "      <td>code 5</td>\n",
       "    </tr>\n",
       "    <tr>\n",
       "      <th>3</th>\n",
       "      <td>INC0000045</td>\n",
       "      <td>Closed</td>\n",
       "      <td>False</td>\n",
       "      <td>True</td>\n",
       "      <td>2016-02-29 01:16:00</td>\n",
       "      <td>2 - Medium</td>\n",
       "      <td>3 - Moderate</td>\n",
       "      <td>29/2/2016 11:29</td>\n",
       "      <td>False</td>\n",
       "      <td>2016-05-03 12:00:00</td>\n",
       "      <td>code 5</td>\n",
       "    </tr>\n",
       "  </tbody>\n",
       "</table>\n",
       "</div>"
      ],
      "text/plain": [
       "       number incident_state  active  made_sla           opened_at  \\\n",
       "0  INC0000045            New    True      True 2016-02-29 01:16:00   \n",
       "1  INC0000045       Resolved    True      True 2016-02-29 01:16:00   \n",
       "2  INC0000045       Resolved    True      True 2016-02-29 01:16:00   \n",
       "3  INC0000045         Closed   False      True 2016-02-29 01:16:00   \n",
       "\n",
       "       impact      priority      resolved_at  u_priority_confirmation  \\\n",
       "0  2 - Medium  3 - Moderate  29/2/2016 11:29                    False   \n",
       "1  2 - Medium  3 - Moderate  29/2/2016 11:29                    False   \n",
       "2  2 - Medium  3 - Moderate  29/2/2016 11:29                    False   \n",
       "3  2 - Medium  3 - Moderate  29/2/2016 11:29                    False   \n",
       "\n",
       "            closed_at closed_code  \n",
       "0 2016-05-03 12:00:00      code 5  \n",
       "1 2016-05-03 12:00:00      code 5  \n",
       "2 2016-05-03 12:00:00      code 5  \n",
       "3 2016-05-03 12:00:00      code 5  "
      ]
     },
     "execution_count": 21,
     "metadata": {},
     "output_type": "execute_result"
    }
   ],
   "source": [
    "df_imp[df_imp['number']=='INC0000045'][['number','incident_state','active','made_sla','opened_at','impact','priority','resolved_at','u_priority_confirmation','closed_at','closed_code']]"
   ]
  },
  {
   "cell_type": "code",
   "execution_count": 22,
   "metadata": {
    "scrolled": true
   },
   "outputs": [
    {
     "data": {
      "text/plain": [
       "Index(['number', 'incident_state', 'active', 'sys_mod_count', 'made_sla',\n",
       "       'caller_id', 'opened_by', 'opened_at', 'impact', 'priority',\n",
       "       'u_priority_confirmation', 'resolved_by', 'resolved_at', 'closed_at',\n",
       "       'closed_code'],\n",
       "      dtype='object')"
      ]
     },
     "execution_count": 22,
     "metadata": {},
     "output_type": "execute_result"
    }
   ],
   "source": [
    "df_imp.columns"
   ]
  },
  {
   "cell_type": "code",
   "execution_count": 23,
   "metadata": {},
   "outputs": [
    {
     "data": {
      "text/plain": [
       "0        64 days 10:44:00\n",
       "1        95 days 05:20:00\n",
       "2        94 days 20:50:00\n",
       "3       125 days 06:22:00\n",
       "4        64 days 09:02:00\n",
       "               ...       \n",
       "24913     1 days 22:48:00\n",
       "24914     0 days 00:00:00\n",
       "24915     0 days 21:53:00\n",
       "24916     0 days 00:44:00\n",
       "24917     0 days 02:21:00\n",
       "Length: 24918, dtype: timedelta64[ns]"
      ]
     },
     "execution_count": 23,
     "metadata": {},
     "output_type": "execute_result"
    }
   ],
   "source": [
    "(df_imp.groupby(['number']).agg({'closed_at': [np.min,np.max]}).reset_index().reset_index()[('closed_at', 'amin')] - df_imp.groupby(['number']).agg({'opened_at': [np.min,np.max]}).reset_index().reset_index()[('opened_at', 'amax')])"
   ]
  },
  {
   "cell_type": "code",
   "execution_count": 24,
   "metadata": {},
   "outputs": [],
   "source": [
    "df_imp[\"active\"] = df_imp[\"active\"].astype(int)\n",
    "df_imp[\"made_sla\"] = df_imp[\"made_sla\"].astype(int)\n",
    "df_imp[\"u_priority_confirmation\"] = df_imp[\"u_priority_confirmation\"].astype(int)"
   ]
  },
  {
   "cell_type": "code",
   "execution_count": 25,
   "metadata": {
    "scrolled": true
   },
   "outputs": [],
   "source": [
    "unique_tickets = df_imp.groupby(['number']).agg({'closed_at': [np.min,np.max]}).reset_index().reset_index()['number'].values"
   ]
  },
  {
   "cell_type": "code",
   "execution_count": 26,
   "metadata": {},
   "outputs": [
    {
     "data": {
      "text/plain": [
       "array(['INC0000045', 'INC0000047', 'INC0000057', ..., 'INC0120495',\n",
       "       'INC0120835', 'INC0121064'], dtype=object)"
      ]
     },
     "execution_count": 26,
     "metadata": {},
     "output_type": "execute_result"
    }
   ],
   "source": [
    "unique_tickets"
   ]
  },
  {
   "cell_type": "code",
   "execution_count": 27,
   "metadata": {},
   "outputs": [],
   "source": [
    "new_df = pd.DataFrame(data=unique_tickets, columns=['ticket_id'])\n",
    "#new_df['y']= (df_imp.groupby(['number']).agg({'closed_at': [np.min,np.max]}).reset_index().reset_index()[('closed_at', 'amin')] - df_imp.groupby(['number']).agg({'opened_at': [np.min,np.max]}).reset_index().reset_index()[('opened_at', 'amax')])\n",
    "new_df['y']= df_imp.closed_at-df_imp.opened_at"
   ]
  },
  {
   "cell_type": "code",
   "execution_count": 28,
   "metadata": {},
   "outputs": [],
   "source": [
    "imp_features2=df3[[\"incident_state\",\"active\",\"sys_mod_count\",\"made_sla\",\"caller_id\",\"opened_by\",\"opened_at\",\"impact\",\"priority\",\"u_priority_confirmation\",\"resolved_by\",\"resolved_at\",\"closed_at\",\"closed_code\"]]"
   ]
  },
  {
   "cell_type": "code",
   "execution_count": 29,
   "metadata": {},
   "outputs": [],
   "source": [
    "new_df=new_df.join(imp_features2)"
   ]
  },
  {
   "cell_type": "code",
   "execution_count": 30,
   "metadata": {},
   "outputs": [
    {
     "data": {
      "text/plain": [
       "0          64 days 10:44:00\n",
       "1          64 days 10:44:00\n",
       "2          64 days 10:44:00\n",
       "3          64 days 10:44:00\n",
       "4          95 days 05:20:00\n",
       "                ...        \n",
       "24913   -193 days +03:16:00\n",
       "24914   -193 days +03:16:00\n",
       "24915   -193 days +03:16:00\n",
       "24916   -193 days +03:16:00\n",
       "24917   -193 days +03:16:00\n",
       "Name: y, Length: 24918, dtype: timedelta64[ns]"
      ]
     },
     "execution_count": 30,
     "metadata": {},
     "output_type": "execute_result"
    }
   ],
   "source": [
    "new_df['y']"
   ]
  },
  {
   "cell_type": "code",
   "execution_count": 31,
   "metadata": {},
   "outputs": [
    {
     "data": {
      "text/html": [
       "<div>\n",
       "<style scoped>\n",
       "    .dataframe tbody tr th:only-of-type {\n",
       "        vertical-align: middle;\n",
       "    }\n",
       "\n",
       "    .dataframe tbody tr th {\n",
       "        vertical-align: top;\n",
       "    }\n",
       "\n",
       "    .dataframe thead th {\n",
       "        text-align: right;\n",
       "    }\n",
       "</style>\n",
       "<table border=\"1\" class=\"dataframe\">\n",
       "  <thead>\n",
       "    <tr style=\"text-align: right;\">\n",
       "      <th></th>\n",
       "      <th>ticket_id</th>\n",
       "      <th>y</th>\n",
       "      <th>incident_state</th>\n",
       "      <th>active</th>\n",
       "      <th>sys_mod_count</th>\n",
       "      <th>made_sla</th>\n",
       "      <th>caller_id</th>\n",
       "      <th>opened_by</th>\n",
       "      <th>opened_at</th>\n",
       "      <th>impact</th>\n",
       "      <th>priority</th>\n",
       "      <th>u_priority_confirmation</th>\n",
       "      <th>resolved_by</th>\n",
       "      <th>resolved_at</th>\n",
       "      <th>closed_at</th>\n",
       "      <th>closed_code</th>\n",
       "    </tr>\n",
       "  </thead>\n",
       "  <tbody>\n",
       "    <tr>\n",
       "      <th>489</th>\n",
       "      <td>INC0000899</td>\n",
       "      <td>-26 days +02:23:00</td>\n",
       "      <td>New</td>\n",
       "      <td>True</td>\n",
       "      <td>0</td>\n",
       "      <td>True</td>\n",
       "      <td>Caller 4414</td>\n",
       "      <td>Opened by  131</td>\n",
       "      <td>2016-02-29 10:39:00</td>\n",
       "      <td>2 - Medium</td>\n",
       "      <td>3 - Moderate</td>\n",
       "      <td>False</td>\n",
       "      <td>Resolved by 184</td>\n",
       "      <td>2/3/2016 13:01</td>\n",
       "      <td>2016-02-03 13:02:00</td>\n",
       "      <td>code 1</td>\n",
       "    </tr>\n",
       "  </tbody>\n",
       "</table>\n",
       "</div>"
      ],
      "text/plain": [
       "      ticket_id                  y incident_state  active  sys_mod_count  \\\n",
       "489  INC0000899 -26 days +02:23:00            New    True              0   \n",
       "\n",
       "     made_sla    caller_id       opened_by           opened_at      impact  \\\n",
       "489      True  Caller 4414  Opened by  131 2016-02-29 10:39:00  2 - Medium   \n",
       "\n",
       "         priority  u_priority_confirmation      resolved_by     resolved_at  \\\n",
       "489  3 - Moderate                    False  Resolved by 184  2/3/2016 13:01   \n",
       "\n",
       "              closed_at closed_code  \n",
       "489 2016-02-03 13:02:00      code 1  "
      ]
     },
     "execution_count": 31,
     "metadata": {},
     "output_type": "execute_result"
    }
   ],
   "source": [
    "new_df[new_df['ticket_id']=='INC0000899']"
   ]
  },
  {
   "cell_type": "markdown",
   "metadata": {},
   "source": [
    "**Converting timestamp into hours**"
   ]
  },
  {
   "cell_type": "code",
   "execution_count": 32,
   "metadata": {
    "scrolled": true
   },
   "outputs": [],
   "source": [
    "new_df['y']=new_df['y']/np.timedelta64(1,'h')"
   ]
  },
  {
   "cell_type": "code",
   "execution_count": 39,
   "metadata": {},
   "outputs": [
    {
     "data": {
      "text/html": [
       "<div>\n",
       "<style scoped>\n",
       "    .dataframe tbody tr th:only-of-type {\n",
       "        vertical-align: middle;\n",
       "    }\n",
       "\n",
       "    .dataframe tbody tr th {\n",
       "        vertical-align: top;\n",
       "    }\n",
       "\n",
       "    .dataframe thead th {\n",
       "        text-align: right;\n",
       "    }\n",
       "</style>\n",
       "<table border=\"1\" class=\"dataframe\">\n",
       "  <thead>\n",
       "    <tr style=\"text-align: right;\">\n",
       "      <th></th>\n",
       "      <th>ticket_id</th>\n",
       "      <th>y</th>\n",
       "      <th>incident_state</th>\n",
       "      <th>active</th>\n",
       "      <th>sys_mod_count</th>\n",
       "      <th>made_sla</th>\n",
       "      <th>caller_id</th>\n",
       "      <th>opened_by</th>\n",
       "      <th>opened_at</th>\n",
       "      <th>impact</th>\n",
       "      <th>priority</th>\n",
       "      <th>u_priority_confirmation</th>\n",
       "      <th>resolved_by</th>\n",
       "      <th>resolved_at</th>\n",
       "      <th>closed_at</th>\n",
       "      <th>closed_code</th>\n",
       "    </tr>\n",
       "  </thead>\n",
       "  <tbody>\n",
       "    <tr>\n",
       "      <th>0</th>\n",
       "      <td>0000045</td>\n",
       "      <td>1546.733333</td>\n",
       "      <td>New</td>\n",
       "      <td>True</td>\n",
       "      <td>0</td>\n",
       "      <td>True</td>\n",
       "      <td>Caller 2403</td>\n",
       "      <td>Opened by  8</td>\n",
       "      <td>2016-02-29 01:16:00</td>\n",
       "      <td>2 - Medium</td>\n",
       "      <td>3 - Moderate</td>\n",
       "      <td>False</td>\n",
       "      <td>Resolved by 149</td>\n",
       "      <td>29/2/2016 11:29</td>\n",
       "      <td>2016-05-03 12:00:00</td>\n",
       "      <td>code 5</td>\n",
       "    </tr>\n",
       "    <tr>\n",
       "      <th>1</th>\n",
       "      <td>0000047</td>\n",
       "      <td>1546.733333</td>\n",
       "      <td>Resolved</td>\n",
       "      <td>True</td>\n",
       "      <td>2</td>\n",
       "      <td>True</td>\n",
       "      <td>Caller 2403</td>\n",
       "      <td>Opened by  8</td>\n",
       "      <td>2016-02-29 01:16:00</td>\n",
       "      <td>2 - Medium</td>\n",
       "      <td>3 - Moderate</td>\n",
       "      <td>False</td>\n",
       "      <td>Resolved by 149</td>\n",
       "      <td>29/2/2016 11:29</td>\n",
       "      <td>2016-05-03 12:00:00</td>\n",
       "      <td>code 5</td>\n",
       "    </tr>\n",
       "    <tr>\n",
       "      <th>2</th>\n",
       "      <td>0000057</td>\n",
       "      <td>1546.733333</td>\n",
       "      <td>Resolved</td>\n",
       "      <td>True</td>\n",
       "      <td>3</td>\n",
       "      <td>True</td>\n",
       "      <td>Caller 2403</td>\n",
       "      <td>Opened by  8</td>\n",
       "      <td>2016-02-29 01:16:00</td>\n",
       "      <td>2 - Medium</td>\n",
       "      <td>3 - Moderate</td>\n",
       "      <td>False</td>\n",
       "      <td>Resolved by 149</td>\n",
       "      <td>29/2/2016 11:29</td>\n",
       "      <td>2016-05-03 12:00:00</td>\n",
       "      <td>code 5</td>\n",
       "    </tr>\n",
       "    <tr>\n",
       "      <th>3</th>\n",
       "      <td>0000060</td>\n",
       "      <td>1546.733333</td>\n",
       "      <td>Closed</td>\n",
       "      <td>False</td>\n",
       "      <td>4</td>\n",
       "      <td>True</td>\n",
       "      <td>Caller 2403</td>\n",
       "      <td>Opened by  8</td>\n",
       "      <td>2016-02-29 01:16:00</td>\n",
       "      <td>2 - Medium</td>\n",
       "      <td>3 - Moderate</td>\n",
       "      <td>False</td>\n",
       "      <td>Resolved by 149</td>\n",
       "      <td>29/2/2016 11:29</td>\n",
       "      <td>2016-05-03 12:00:00</td>\n",
       "      <td>code 5</td>\n",
       "    </tr>\n",
       "    <tr>\n",
       "      <th>4</th>\n",
       "      <td>0000062</td>\n",
       "      <td>2285.333333</td>\n",
       "      <td>New</td>\n",
       "      <td>True</td>\n",
       "      <td>0</td>\n",
       "      <td>True</td>\n",
       "      <td>Caller 2403</td>\n",
       "      <td>Opened by  397</td>\n",
       "      <td>2016-02-29 04:40:00</td>\n",
       "      <td>2 - Medium</td>\n",
       "      <td>3 - Moderate</td>\n",
       "      <td>False</td>\n",
       "      <td>Resolved by 81</td>\n",
       "      <td>1/3/2016 09:52</td>\n",
       "      <td>2016-06-03 10:00:00</td>\n",
       "      <td>code 5</td>\n",
       "    </tr>\n",
       "  </tbody>\n",
       "</table>\n",
       "</div>"
      ],
      "text/plain": [
       "  ticket_id            y incident_state  active  sys_mod_count  made_sla  \\\n",
       "0   0000045  1546.733333            New    True              0      True   \n",
       "1   0000047  1546.733333       Resolved    True              2      True   \n",
       "2   0000057  1546.733333       Resolved    True              3      True   \n",
       "3   0000060  1546.733333         Closed   False              4      True   \n",
       "4   0000062  2285.333333            New    True              0      True   \n",
       "\n",
       "     caller_id       opened_by           opened_at      impact      priority  \\\n",
       "0  Caller 2403    Opened by  8 2016-02-29 01:16:00  2 - Medium  3 - Moderate   \n",
       "1  Caller 2403    Opened by  8 2016-02-29 01:16:00  2 - Medium  3 - Moderate   \n",
       "2  Caller 2403    Opened by  8 2016-02-29 01:16:00  2 - Medium  3 - Moderate   \n",
       "3  Caller 2403    Opened by  8 2016-02-29 01:16:00  2 - Medium  3 - Moderate   \n",
       "4  Caller 2403  Opened by  397 2016-02-29 04:40:00  2 - Medium  3 - Moderate   \n",
       "\n",
       "   u_priority_confirmation      resolved_by      resolved_at  \\\n",
       "0                    False  Resolved by 149  29/2/2016 11:29   \n",
       "1                    False  Resolved by 149  29/2/2016 11:29   \n",
       "2                    False  Resolved by 149  29/2/2016 11:29   \n",
       "3                    False  Resolved by 149  29/2/2016 11:29   \n",
       "4                    False   Resolved by 81   1/3/2016 09:52   \n",
       "\n",
       "            closed_at closed_code  \n",
       "0 2016-05-03 12:00:00      code 5  \n",
       "1 2016-05-03 12:00:00      code 5  \n",
       "2 2016-05-03 12:00:00      code 5  \n",
       "3 2016-05-03 12:00:00      code 5  \n",
       "4 2016-06-03 10:00:00      code 5  "
      ]
     },
     "execution_count": 39,
     "metadata": {},
     "output_type": "execute_result"
    }
   ],
   "source": [
    "new_df.head()"
   ]
  },
  {
   "cell_type": "code",
   "execution_count": 46,
   "metadata": {},
   "outputs": [],
   "source": [
    "#new_df[new_df['y']<0].head(50)\n",
    "#new_df[(new_df['y']<0) &  (new_df['opened_at']>new_df['closed_at'])]\n",
    "new_df.drop(new_df[(new_df['y']<0) &  (new_df['opened_at']>new_df['closed_at'])].index,inplace=True)"
   ]
  },
  {
   "cell_type": "code",
   "execution_count": 49,
   "metadata": {},
   "outputs": [
    {
     "name": "stdout",
     "output_type": "stream",
     "text": [
      "<class 'pandas.core.frame.DataFrame'>\n",
      "Int64Index: 10686 entries, 0 to 24731\n",
      "Data columns (total 16 columns):\n",
      " #   Column                   Non-Null Count  Dtype         \n",
      "---  ------                   --------------  -----         \n",
      " 0   ticket_id                10686 non-null  object        \n",
      " 1   y                        10686 non-null  float64       \n",
      " 2   incident_state           10686 non-null  object        \n",
      " 3   active                   10686 non-null  bool          \n",
      " 4   sys_mod_count            10686 non-null  int64         \n",
      " 5   made_sla                 10686 non-null  bool          \n",
      " 6   caller_id                10686 non-null  object        \n",
      " 7   opened_by                10686 non-null  object        \n",
      " 8   opened_at                10686 non-null  datetime64[ns]\n",
      " 9   impact                   10686 non-null  object        \n",
      " 10  priority                 10686 non-null  object        \n",
      " 11  u_priority_confirmation  10686 non-null  bool          \n",
      " 12  resolved_by              10686 non-null  object        \n",
      " 13  resolved_at              10686 non-null  object        \n",
      " 14  closed_at                10686 non-null  datetime64[ns]\n",
      " 15  closed_code              10686 non-null  object        \n",
      "dtypes: bool(3), datetime64[ns](2), float64(1), int64(1), object(9)\n",
      "memory usage: 1.2+ MB\n"
     ]
    }
   ],
   "source": [
    "new_df.info()"
   ]
  },
  {
   "cell_type": "markdown",
   "metadata": {},
   "source": [
    "**Converting boolean features into numerical features**"
   ]
  },
  {
   "cell_type": "code",
   "execution_count": 50,
   "metadata": {},
   "outputs": [],
   "source": [
    "new_df['ticket_id']=new_df['ticket_id'].map(lambda x: x.lstrip('INC'))"
   ]
  },
  {
   "cell_type": "code",
   "execution_count": 51,
   "metadata": {},
   "outputs": [
    {
     "data": {
      "text/html": [
       "<div>\n",
       "<style scoped>\n",
       "    .dataframe tbody tr th:only-of-type {\n",
       "        vertical-align: middle;\n",
       "    }\n",
       "\n",
       "    .dataframe tbody tr th {\n",
       "        vertical-align: top;\n",
       "    }\n",
       "\n",
       "    .dataframe thead th {\n",
       "        text-align: right;\n",
       "    }\n",
       "</style>\n",
       "<table border=\"1\" class=\"dataframe\">\n",
       "  <thead>\n",
       "    <tr style=\"text-align: right;\">\n",
       "      <th></th>\n",
       "      <th>ticket_id</th>\n",
       "      <th>incident_state</th>\n",
       "      <th>active</th>\n",
       "      <th>sys_mod_count</th>\n",
       "      <th>made_sla</th>\n",
       "      <th>caller_id</th>\n",
       "      <th>opened_by</th>\n",
       "      <th>opened_at</th>\n",
       "      <th>impact</th>\n",
       "      <th>priority</th>\n",
       "      <th>u_priority_confirmation</th>\n",
       "      <th>resolved_by</th>\n",
       "      <th>resolved_at</th>\n",
       "      <th>closed_at</th>\n",
       "      <th>closed_code</th>\n",
       "    </tr>\n",
       "  </thead>\n",
       "  <tbody>\n",
       "    <tr>\n",
       "      <th>0</th>\n",
       "      <td>0000045</td>\n",
       "      <td>New</td>\n",
       "      <td>True</td>\n",
       "      <td>0</td>\n",
       "      <td>True</td>\n",
       "      <td>Caller 2403</td>\n",
       "      <td>Opened by  8</td>\n",
       "      <td>2016-02-29 01:16:00</td>\n",
       "      <td>2 - Medium</td>\n",
       "      <td>3 - Moderate</td>\n",
       "      <td>False</td>\n",
       "      <td>Resolved by 149</td>\n",
       "      <td>29/2/2016 11:29</td>\n",
       "      <td>2016-05-03 12:00:00</td>\n",
       "      <td>code 5</td>\n",
       "    </tr>\n",
       "  </tbody>\n",
       "</table>\n",
       "</div>"
      ],
      "text/plain": [
       "  ticket_id incident_state  active  sys_mod_count  made_sla    caller_id  \\\n",
       "0   0000045            New    True              0      True  Caller 2403   \n",
       "\n",
       "      opened_by           opened_at      impact      priority  \\\n",
       "0  Opened by  8 2016-02-29 01:16:00  2 - Medium  3 - Moderate   \n",
       "\n",
       "   u_priority_confirmation      resolved_by      resolved_at  \\\n",
       "0                    False  Resolved by 149  29/2/2016 11:29   \n",
       "\n",
       "            closed_at closed_code  \n",
       "0 2016-05-03 12:00:00      code 5  "
      ]
     },
     "execution_count": 51,
     "metadata": {},
     "output_type": "execute_result"
    }
   ],
   "source": [
    "y = new_df['y'].values\n",
    "X = new_df.drop(['y'], axis=1)\n",
    "X.head(1)"
   ]
  },
  {
   "cell_type": "code",
   "execution_count": 52,
   "metadata": {},
   "outputs": [
    {
     "data": {
      "text/plain": [
       "array([1546.73333333, 1546.73333333, 1546.73333333, ..., 1485.11666667,\n",
       "       1485.11666667, 1485.11666667])"
      ]
     },
     "execution_count": 52,
     "metadata": {},
     "output_type": "execute_result"
    }
   ],
   "source": [
    "y"
   ]
  },
  {
   "cell_type": "code",
   "execution_count": 53,
   "metadata": {},
   "outputs": [
    {
     "name": "stdout",
     "output_type": "stream",
     "text": [
      "x_train:  (7159, 15)\n",
      "x_test :  (3527, 15)\n",
      "y_train:  (7159,)\n",
      "y_test :  (3527,)\n"
     ]
    }
   ],
   "source": [
    "from sklearn.model_selection import train_test_split\n",
    "X_train, X_test, y_train, y_test = train_test_split(X, y, test_size=0.33)\n",
    "\n",
    "print(\"x_train: \",X_train.shape)\n",
    "print(\"x_test : \",X_test.shape)\n",
    "print(\"y_train: \",y_train.shape)\n",
    "print(\"y_test : \",y_test.shape)"
   ]
  },
  {
   "cell_type": "markdown",
   "metadata": {},
   "source": [
    "**Vectorizing the categorical features**"
   ]
  },
  {
   "cell_type": "code",
   "execution_count": 54,
   "metadata": {},
   "outputs": [
    {
     "name": "stdout",
     "output_type": "stream",
     "text": [
      "After vectorizations\n",
      "(7159, 14) (7159,)\n",
      "(3527, 14) (3527,)\n"
     ]
    }
   ],
   "source": [
    "from sklearn.feature_extraction.text import TfidfVectorizer\n",
    "vec_tf_state= TfidfVectorizer(min_df=15,ngram_range=(1,4),max_features=8000)\n",
    "vec_tf_state.fit(X_train['incident_state'].values)\n",
    "\n",
    "X_train_state_tf = vec_tf_state.transform(X_train['incident_state'].values)\n",
    "X_test_state_tf = vec_tf_state.transform(X_test['incident_state'].values)\n",
    "print(\"After vectorizations\")\n",
    "print(X_train_state_tf.shape, y_train.shape)\n",
    "print(X_test_state_tf.shape, y_test.shape)"
   ]
  },
  {
   "cell_type": "code",
   "execution_count": 55,
   "metadata": {},
   "outputs": [
    {
     "name": "stdout",
     "output_type": "stream",
     "text": [
      "After vectorizations\n",
      "(7159, 199) (7159,)\n",
      "(3527, 199) (3527,)\n"
     ]
    }
   ],
   "source": [
    "vec_tf_cid= TfidfVectorizer(min_df=15,ngram_range=(1,4),max_features=8000)\n",
    "vec_tf_cid.fit(X_train['caller_id'].values)\n",
    "\n",
    "X_train_cid_tf = vec_tf_cid.transform(X_train['caller_id'].values)\n",
    "X_test_cid_tf = vec_tf_cid.transform(X_test['caller_id'].values)\n",
    "print(\"After vectorizations\")\n",
    "print(X_train_cid_tf.shape, y_train.shape)\n",
    "print(X_test_cid_tf.shape, y_test.shape)"
   ]
  },
  {
   "cell_type": "code",
   "execution_count": 56,
   "metadata": {},
   "outputs": [
    {
     "name": "stdout",
     "output_type": "stream",
     "text": [
      "After vectorizations\n",
      "(7159, 117) (7159,)\n",
      "(3527, 117) (3527,)\n"
     ]
    }
   ],
   "source": [
    "vec_tf_opby= TfidfVectorizer(min_df=15,ngram_range=(1,4),max_features=8000)\n",
    "vec_tf_opby.fit(X_train['opened_by'].values)\n",
    "\n",
    "X_train_opby_tf = vec_tf_opby.transform(X_train['opened_by'].values)\n",
    "X_test_opby_tf = vec_tf_opby.transform(X_test['opened_by'].values)\n",
    "print(\"After vectorizations\")\n",
    "print(X_train_opby_tf.shape, y_train.shape)\n",
    "print(X_test_opby_tf.shape, y_test.shape)"
   ]
  },
  {
   "cell_type": "code",
   "execution_count": 57,
   "metadata": {
    "scrolled": true
   },
   "outputs": [
    {
     "name": "stdout",
     "output_type": "stream",
     "text": [
      "After vectorizations\n",
      "(7159, 3) (7159,)\n",
      "(3527, 3) (3527,)\n"
     ]
    }
   ],
   "source": [
    "vec_tf_impact= TfidfVectorizer(min_df=15,ngram_range=(1,4),max_features=8000)\n",
    "vec_tf_impact.fit(X_train['impact'].values)\n",
    "\n",
    "X_train_impact_tf = vec_tf_impact.transform(X_train['impact'].values)\n",
    "X_test_impact_tf = vec_tf_impact.transform(X_test['impact'].values)\n",
    "print(\"After vectorizations\")\n",
    "print(X_train_impact_tf.shape, y_train.shape)\n",
    "print(X_test_impact_tf.shape, y_test.shape)"
   ]
  },
  {
   "cell_type": "code",
   "execution_count": 58,
   "metadata": {},
   "outputs": [
    {
     "name": "stdout",
     "output_type": "stream",
     "text": [
      "After vectorizations\n",
      "(7159, 4) (7159,)\n",
      "(3527, 4) (3527,)\n"
     ]
    }
   ],
   "source": [
    "vec_tf_priority= TfidfVectorizer(min_df=15,ngram_range=(1,4),max_features=8000)\n",
    "vec_tf_priority.fit(X_train['priority'].values)\n",
    "\n",
    "X_train_priority_tf = vec_tf_priority.transform(X_train['priority'].values)\n",
    "X_test_priority_tf = vec_tf_priority.transform(X_test['priority'].values)\n",
    "print(\"After vectorizations\")\n",
    "print(X_train_priority_tf.shape, y_train.shape)\n",
    "print(X_test_priority_tf.shape, y_test.shape)"
   ]
  },
  {
   "cell_type": "code",
   "execution_count": 59,
   "metadata": {},
   "outputs": [
    {
     "name": "stdout",
     "output_type": "stream",
     "text": [
      "After vectorizations\n",
      "(7159, 261) (7159,)\n",
      "(3527, 261) (3527,)\n"
     ]
    }
   ],
   "source": [
    "vec_tf_resolved_by= TfidfVectorizer(min_df=15,ngram_range=(1,4),max_features=8000)\n",
    "vec_tf_resolved_by.fit(X_train['resolved_by'].values)\n",
    "\n",
    "X_train_resolved_by_tf = vec_tf_resolved_by.transform(X_train['resolved_by'].values)\n",
    "X_test_resolved_by_tf = vec_tf_resolved_by.transform(X_test['resolved_by'].values)\n",
    "print(\"After vectorizations\")\n",
    "print(X_train_resolved_by_tf.shape, y_train.shape)\n",
    "print(X_test_resolved_by_tf.shape, y_test.shape)"
   ]
  },
  {
   "cell_type": "code",
   "execution_count": 60,
   "metadata": {},
   "outputs": [
    {
     "name": "stdout",
     "output_type": "stream",
     "text": [
      "After vectorizations\n",
      "(7159, 9) (7159,)\n",
      "(3527, 9) (3527,)\n"
     ]
    }
   ],
   "source": [
    "vec_tf_closed_code= TfidfVectorizer(min_df=15,ngram_range=(1,4),max_features=8000)\n",
    "vec_tf_closed_code.fit(X_train['closed_code'].values)\n",
    "\n",
    "X_train_closed_code_tf = vec_tf_closed_code.transform(X_train['closed_code'].values)\n",
    "X_test_closed_code_tf = vec_tf_closed_code.transform(X_test['closed_code'].values)\n",
    "print(\"After vectorizations\")\n",
    "print(X_train_closed_code_tf.shape, y_train.shape)\n",
    "print(X_test_closed_code_tf.shape, y_test.shape)"
   ]
  },
  {
   "cell_type": "markdown",
   "metadata": {},
   "source": [
    "**Normalizing the numerical features**"
   ]
  },
  {
   "cell_type": "code",
   "execution_count": 61,
   "metadata": {},
   "outputs": [
    {
     "name": "stdout",
     "output_type": "stream",
     "text": [
      "After vectorizations\n",
      "(7159, 1) (7159,)\n",
      "(3527, 1) (3527,)\n"
     ]
    }
   ],
   "source": [
    "from sklearn.preprocessing import Normalizer\n",
    "\n",
    "normalizer_active = Normalizer()\n",
    "normalizer_active.fit(X_train['active'].values.reshape(1,-1))\n",
    "X_train_active = normalizer_active.transform(X_train['active'].values.reshape(1,-1)).reshape(-1,1)\n",
    "X_test_active = normalizer_active.transform(X_test['active'].values.reshape(1,-1)).reshape(-1,1)\n",
    "\n",
    "print(\"After vectorizations\")\n",
    "print(X_train_active.shape, y_train.shape)\n",
    "print(X_test_active.shape, y_test.shape)"
   ]
  },
  {
   "cell_type": "code",
   "execution_count": 62,
   "metadata": {},
   "outputs": [
    {
     "name": "stdout",
     "output_type": "stream",
     "text": [
      "After vectorizations\n",
      "(7159, 1) (7159,)\n",
      "(3527, 1) (3527,)\n"
     ]
    }
   ],
   "source": [
    "normalizer_sysCount = Normalizer()\n",
    "normalizer_sysCount.fit(X_train['sys_mod_count'].values.reshape(1,-1))\n",
    "X_train_sysCount = normalizer_sysCount.transform(X_train['sys_mod_count'].values.reshape(1,-1)).reshape(-1,1)\n",
    "X_test_sysCount = normalizer_sysCount.transform(X_test['sys_mod_count'].values.reshape(1,-1)).reshape(-1,1)\n",
    "\n",
    "print(\"After vectorizations\")\n",
    "print(X_train_sysCount.shape, y_train.shape)\n",
    "print(X_test_sysCount.shape, y_test.shape)"
   ]
  },
  {
   "cell_type": "code",
   "execution_count": 63,
   "metadata": {},
   "outputs": [
    {
     "name": "stdout",
     "output_type": "stream",
     "text": [
      "After vectorizations\n",
      "(7159, 1) (7159,)\n",
      "(3527, 1) (3527,)\n"
     ]
    }
   ],
   "source": [
    "normalizer_sla = Normalizer()\n",
    "normalizer_sla.fit(X_train['made_sla'].values.reshape(1,-1))\n",
    "X_train_sla = normalizer_sla.transform(X_train['made_sla'].values.reshape(1,-1)).reshape(-1,1)\n",
    "X_test_sla = normalizer_sla.transform(X_test['made_sla'].values.reshape(1,-1)).reshape(-1,1)\n",
    "\n",
    "print(\"After vectorizations\")\n",
    "print(X_train_sla.shape, y_train.shape)\n",
    "print(X_test_sla.shape, y_test.shape)"
   ]
  },
  {
   "cell_type": "code",
   "execution_count": 64,
   "metadata": {},
   "outputs": [
    {
     "name": "stdout",
     "output_type": "stream",
     "text": [
      "After vectorizations\n",
      "(7159, 1) (7159,)\n",
      "(3527, 1) (3527,)\n"
     ]
    }
   ],
   "source": [
    "normalizer_opened_at = Normalizer()\n",
    "normalizer_opened_at.fit(X_train['opened_at'].values.reshape(1,-1))\n",
    "X_train_opened_at = normalizer_opened_at.transform(X_train['opened_at'].values.reshape(1,-1)).reshape(-1,1)\n",
    "X_test_opened_at = normalizer_opened_at.transform(X_test['opened_at'].values.reshape(1,-1)).reshape(-1,1)\n",
    "\n",
    "print(\"After vectorizations\")\n",
    "print(X_train_opened_at.shape, y_train.shape)\n",
    "print(X_test_opened_at.shape, y_test.shape)"
   ]
  },
  {
   "cell_type": "code",
   "execution_count": 65,
   "metadata": {},
   "outputs": [
    {
     "name": "stdout",
     "output_type": "stream",
     "text": [
      "After vectorizations\n",
      "(7159, 1) (7159,)\n",
      "(3527, 1) (3527,)\n"
     ]
    }
   ],
   "source": [
    "normalizer_priconf = Normalizer()\n",
    "normalizer_priconf.fit(X_train['u_priority_confirmation'].values.reshape(1,-1))\n",
    "X_train_priconf = normalizer_priconf.transform(X_train['u_priority_confirmation'].values.reshape(1,-1)).reshape(-1,1)\n",
    "X_test_priconf = normalizer_priconf.transform(X_test['u_priority_confirmation'].values.reshape(1,-1)).reshape(-1,1)\n",
    "\n",
    "print(\"After vectorizations\")\n",
    "print(X_train_priconf.shape, y_train.shape)\n",
    "print(X_test_priconf.shape, y_test.shape)"
   ]
  },
  {
   "cell_type": "code",
   "execution_count": 66,
   "metadata": {},
   "outputs": [
    {
     "name": "stdout",
     "output_type": "stream",
     "text": [
      "After vectorizations\n",
      "(7159, 1) (7159,)\n",
      "(3527, 1) (3527,)\n"
     ]
    }
   ],
   "source": [
    "normalizer_closed_at = Normalizer()\n",
    "normalizer_closed_at.fit(X_train['closed_at'].values.reshape(1,-1))\n",
    "X_train_closed_at = normalizer_closed_at.transform(X_train['closed_at'].values.reshape(1,-1)).reshape(-1,1)\n",
    "X_test_closed_at = normalizer_closed_at.transform(X_test['closed_at'].values.reshape(1,-1)).reshape(-1,1)\n",
    "\n",
    "print(\"After vectorizations\")\n",
    "print(X_train_closed_at.shape, y_train.shape)\n",
    "print(X_test_closed_at.shape, y_test.shape)"
   ]
  },
  {
   "cell_type": "markdown",
   "metadata": {},
   "source": [
    "**Creating a sparse matrix**"
   ]
  },
  {
   "cell_type": "code",
   "execution_count": 67,
   "metadata": {},
   "outputs": [],
   "source": [
    "from scipy.sparse import hstack\n",
    "\n",
    "X_tr=hstack((X_train_state_tf,X_train_cid_tf,X_train_opby_tf,X_train_impact_tf,X_train_priority_tf,\n",
    "             X_train_resolved_by_tf,X_train_closed_code_tf,X_train_active,X_train_sysCount,\n",
    "             X_train_sla,X_train_opened_at,X_train_priconf,X_train_closed_at)).tocsr()\n",
    "\n",
    "X_te=hstack((X_test_state_tf,X_test_cid_tf,X_test_opby_tf,X_test_impact_tf,X_test_priority_tf,\n",
    "             X_test_resolved_by_tf,X_test_closed_code_tf,X_test_active,X_test_sysCount,\n",
    "             X_test_sla,X_test_opened_at,X_test_priconf,X_test_closed_at)).tocsr()\n"
   ]
  },
  {
   "cell_type": "code",
   "execution_count": 68,
   "metadata": {},
   "outputs": [
    {
     "name": "stdout",
     "output_type": "stream",
     "text": [
      "Final Data matrix\n",
      "(7159, 613) (7159,)\n",
      "(3527, 613) (3527,)\n"
     ]
    }
   ],
   "source": [
    "print(\"Final Data matrix\")\n",
    "print(X_tr.shape, y_train.shape)\n",
    "print(X_te.shape, y_test.shape)"
   ]
  },
  {
   "cell_type": "code",
   "execution_count": 69,
   "metadata": {},
   "outputs": [],
   "source": [
    "from sklearn.linear_model import LogisticRegression\n",
    "from sklearn.linear_model import LinearRegression\n",
    "#clf = LogisticRegression(penalty='l2',random_state=0,max_iter=50,verbose=0,n_jobs=None)\n",
    "clf=LinearRegression()\n"
   ]
  },
  {
   "cell_type": "code",
   "execution_count": 70,
   "metadata": {},
   "outputs": [
    {
     "data": {
      "text/plain": [
       "LinearRegression()"
      ]
     },
     "execution_count": 70,
     "metadata": {},
     "output_type": "execute_result"
    }
   ],
   "source": [
    "clf.fit(X_tr, y_train)"
   ]
  },
  {
   "cell_type": "code",
   "execution_count": 71,
   "metadata": {},
   "outputs": [
    {
     "name": "stdout",
     "output_type": "stream",
     "text": [
      "[-9.28458605e-01  4.15019850e-01 -5.19392044e-01 -1.20678773e-01\n",
      " -1.20678773e-01  1.77700568e+00 -5.00437146e-01 -1.20678773e-01\n",
      "  2.06852023e-01 -5.19392044e-01 -3.78660095e-01 -1.20678773e-01\n",
      " -1.20678773e-01  1.77700568e+00  1.23435510e+00  4.01986000e+00\n",
      " -2.39524880e+00 -3.64200301e+00 -1.27033236e-01  5.97905815e+00\n",
      "  3.23800569e+00  1.27716663e+00  1.44418993e+00 -4.66704898e+00\n",
      " -2.39220984e+00  4.53205363e+00  4.86005745e-01  8.47772991e+00\n",
      " -1.47970522e+00  1.90642723e+00  4.41801130e-01  3.46182047e+00\n",
      " -3.25461803e+00 -8.31558009e+00 -3.10387471e+00 -2.07693908e+00\n",
      "  4.44536784e-01 -3.89645112e+00 -1.02106920e+01  5.29173447e+00\n",
      "  3.27669923e+00  8.43277488e-01 -4.06747110e-01  1.66628596e+00\n",
      "  6.15021018e-01  1.29442289e+00  2.12618136e+00 -1.52580884e+00\n",
      "  1.05323636e-02 -1.83181227e-01 -1.09284500e+00  6.79409750e+00\n",
      "  2.56068015e-01 -1.33365750e+00 -1.82779838e+00  1.19868881e+00\n",
      "  2.23217713e+00  6.88204310e+00 -2.01014493e+00  1.72979876e+00\n",
      "  1.07431338e+00 -2.07640811e+00 -3.45243899e+00  4.87908429e-01\n",
      "  1.10896110e+00  1.76696529e+00  8.85535635e-01 -1.50657548e+00\n",
      " -1.48675964e+00  3.54985192e-01  3.78366614e+00  6.18055656e-01\n",
      " -2.05946496e+00 -2.24587880e+00 -2.09433895e+00 -1.41702378e+00\n",
      " -2.86015646e-02 -6.98315872e+00  3.23856532e-01 -2.53444929e+00\n",
      " -1.32450743e+00 -1.37168197e+00 -2.11185054e+00  3.08470174e+00\n",
      "  9.15831442e-01  1.06078343e+00  3.37053031e+00 -4.13443326e-01\n",
      " -7.27206449e+00  6.74329981e+00  2.96966191e+00  4.50434657e+00\n",
      " -2.16667146e+00 -1.60296065e+00 -3.00186223e-01  3.26099323e+00\n",
      " -1.98173025e-03 -1.85976088e+00 -6.51443862e-01  9.80934135e-01\n",
      " -2.63134446e+00  3.77260767e-01  3.19309181e+00  4.96486935e-01\n",
      " -1.42933828e+00 -6.31812772e-01  1.44302445e+00 -1.38018628e-01\n",
      "  3.00027535e-01  6.51086783e-02 -5.03428695e+00 -5.52208528e+00\n",
      "  1.13031897e-01 -7.72783259e-02  1.23435510e+00  4.01986000e+00\n",
      " -2.39524880e+00 -3.64200301e+00 -1.27033236e-01  5.97905815e+00\n",
      "  3.23800569e+00  1.27716663e+00  1.44418993e+00 -4.66704898e+00\n",
      " -2.39220984e+00  4.53205363e+00  4.86005745e-01  8.47772991e+00\n",
      " -1.47970522e+00  1.90642723e+00  4.41801130e-01  3.46182047e+00\n",
      " -3.25461803e+00 -8.31558009e+00 -3.10387471e+00 -2.07693908e+00\n",
      "  4.44536784e-01 -3.89645112e+00 -1.02106920e+01  5.29173447e+00\n",
      "  3.27669923e+00  8.43277488e-01 -4.06747110e-01  1.66628596e+00\n",
      "  6.15021018e-01  1.29442289e+00  2.12618136e+00 -1.52580884e+00\n",
      "  1.05323636e-02 -1.83181227e-01 -1.09284500e+00  6.79409750e+00\n",
      "  2.56068015e-01 -1.33365750e+00 -1.82779838e+00  1.19868881e+00\n",
      "  2.23217713e+00  6.88204310e+00 -2.01014493e+00  1.72979876e+00\n",
      "  1.07431338e+00 -2.07640811e+00 -3.45243899e+00  4.87908429e-01\n",
      "  1.10896110e+00  1.76696529e+00  8.85535635e-01 -1.50657548e+00\n",
      " -1.48675964e+00  3.54985192e-01  3.78366614e+00  6.18055656e-01\n",
      " -2.05946496e+00 -2.24587880e+00 -2.09433895e+00 -1.41702378e+00\n",
      " -2.86015646e-02 -6.98315872e+00  3.23856532e-01 -2.53444929e+00\n",
      " -1.32450743e+00 -1.37168197e+00 -2.11185054e+00  3.08470174e+00\n",
      "  9.15831442e-01  1.06078343e+00  3.37053031e+00 -4.13443326e-01\n",
      " -7.27206449e+00  6.74329981e+00  2.96966191e+00  4.50434657e+00\n",
      " -2.16667146e+00 -1.60296065e+00 -3.00186223e-01  3.26099323e+00\n",
      " -1.98173025e-03 -1.85976088e+00 -6.51443862e-01  9.80934135e-01\n",
      " -2.63134446e+00  3.77260767e-01  3.19309181e+00  4.96486935e-01\n",
      " -1.42933828e+00 -6.31812772e-01  1.44302445e+00 -1.38018628e-01\n",
      "  3.00027535e-01  6.51086783e-02 -5.03428695e+00 -5.52208528e+00\n",
      "  1.13031897e-01 -7.32290675e-01  3.97909114e+00 -8.33140168e+00\n",
      "  5.40442054e-01  3.26149725e+00 -9.85295396e-01 -4.31301898e-01\n",
      " -2.51371091e+00 -2.39635856e+00 -4.82121726e-01 -8.11146381e-01\n",
      " -2.67896395e-01 -5.85109537e-01 -4.27295929e-02 -2.76593610e+00\n",
      " -2.50345487e-01 -1.32503374e-01  2.09143016e+00  1.07487622e+00\n",
      "  1.33379079e+00 -8.36673717e-01  1.13099236e-01 -8.05049038e-01\n",
      " -3.47361965e-01  5.34184560e-02  7.44598445e-01  1.06865010e-01\n",
      "  3.66338344e-01 -1.14894961e+00  3.11244005e-01 -2.55239029e-01\n",
      " -2.83197569e-01  1.61950886e-01 -8.43154037e-01 -6.67312891e-01\n",
      " -1.33560844e-01 -4.75029063e-01  1.05471256e+01  3.09162928e-01\n",
      " -7.32290675e-01  3.97909114e+00 -8.33140168e+00  5.40442054e-01\n",
      "  3.26149725e+00 -9.85295396e-01 -4.31301898e-01 -2.51371091e+00\n",
      " -2.39635856e+00 -4.82121726e-01 -8.11146381e-01 -2.67896395e-01\n",
      " -5.85109537e-01 -4.27295929e-02 -2.76593610e+00 -2.50345487e-01\n",
      " -1.32503374e-01  2.09143016e+00  1.07487622e+00  1.33379079e+00\n",
      " -8.36673717e-01  1.13099236e-01 -8.05049038e-01 -3.47361965e-01\n",
      "  5.34184560e-02  7.44598445e-01  1.06865010e-01  3.66338344e-01\n",
      " -1.14894961e+00  3.11244005e-01 -2.55239029e-01 -2.83197569e-01\n",
      "  1.61950886e-01 -8.43154037e-01 -6.67312891e-01 -1.33560844e-01\n",
      " -4.75029063e-01  1.05471256e+01  3.09162928e-01  3.09162928e-01\n",
      " -7.32290675e-01  3.97909114e+00 -8.33140168e+00  5.40442054e-01\n",
      "  3.26149725e+00 -9.85295396e-01 -4.31301898e-01 -2.51371091e+00\n",
      " -2.39635856e+00 -4.82121726e-01 -8.11146381e-01 -2.67896395e-01\n",
      " -5.85109537e-01 -4.27295929e-02 -2.76593610e+00 -2.50345487e-01\n",
      " -1.32503374e-01  2.09143016e+00  1.07487622e+00  1.33379079e+00\n",
      " -8.36673717e-01  1.13099236e-01 -8.05049038e-01 -3.47361965e-01\n",
      "  5.34184560e-02  7.44598445e-01  1.06865010e-01  3.66338344e-01\n",
      " -1.14894961e+00  3.11244005e-01 -2.55239029e-01 -2.83197569e-01\n",
      "  1.61950886e-01 -8.43154037e-01 -6.67312891e-01 -1.33560844e-01\n",
      " -4.75029063e-01  1.05471256e+01 -1.85534810e+00  1.73833013e+00\n",
      "  1.17038642e-01  8.69759788e-01  8.28865913e-01 -1.52404145e+00\n",
      " -1.74208463e-01 -4.73625977e-01  5.48729430e-01 -6.77778081e-01\n",
      "  1.64936968e+00 -3.50533850e-01 -3.87811325e-01 -7.43748507e-02\n",
      " -2.99698627e+00  2.31840413e+00 -3.12851358e+00  2.72969890e-01\n",
      " -5.83107627e-02  2.11239238e+00  7.56536351e-01 -1.90354412e+00\n",
      " -3.00902332e+00  3.39640548e+00 -1.86952995e-01  3.62250295e-01\n",
      " -8.23442621e-01 -6.06604167e-01  4.94034628e-01  4.51907460e-01\n",
      "  2.09977448e+00 -8.47973552e-01  4.13805185e-01  1.62418235e-01\n",
      " -1.34338937e+00  5.36438123e-02  2.29684809e+00 -1.81891740e+00\n",
      "  5.56288836e-01 -5.52955021e-01  3.05988163e+00 -9.01812400e-01\n",
      " -1.35020308e-01  1.64498911e+00  6.70242586e-01 -4.97939299e+00\n",
      "  3.81427574e-01 -9.31307467e-01  1.70841273e-01 -7.78345427e-01\n",
      " -3.54161283e-01 -1.10572552e+00  7.34496168e-01 -2.34808234e-01\n",
      "  1.40326613e+00 -3.57958806e+00 -4.75512868e+00 -2.62377823e-01\n",
      "  4.10287988e-01  1.67385854e-02 -8.85107307e-01  1.72671587e+00\n",
      "  1.37431244e+00 -1.74465264e-01  1.26731585e+00 -7.94342407e-02\n",
      " -6.56260698e+00  2.70504005e+00  9.37265822e-02  1.51726269e-01\n",
      "  1.96996341e-01  1.15448964e-01  4.91572101e-01  3.44754848e-01\n",
      " -9.02936483e-01  3.02845143e+00 -3.76574761e-02  8.05411215e-01\n",
      "  6.94873946e-01  2.39183984e+00  2.62004019e+00 -2.67898901e+00\n",
      "  6.10823975e-01  3.81431595e+00 -2.34960692e+00 -1.23572966e+00\n",
      "  3.11884258e-01 -2.18223708e-01 -1.05131459e+00  5.55833177e-01\n",
      "  2.44457878e+00  1.76128163e+00  1.65956758e+00 -1.25275652e-02\n",
      " -4.73625977e-01  5.48729430e-01 -6.77778081e-01  1.64936968e+00\n",
      " -3.50533850e-01 -3.87811325e-01 -7.43748507e-02 -2.99698627e+00\n",
      "  2.31840413e+00 -3.12851358e+00  2.72969890e-01 -5.83107627e-02\n",
      "  2.11239238e+00  7.56536351e-01 -1.90354412e+00 -3.00902332e+00\n",
      "  3.39640548e+00 -1.86952995e-01  3.62250295e-01 -8.23442621e-01\n",
      " -6.06604167e-01  4.94034628e-01  4.51907460e-01  2.09977448e+00\n",
      " -8.47973552e-01  4.13805185e-01  1.62418235e-01 -1.34338937e+00\n",
      "  5.36438123e-02  2.29684809e+00 -1.81891740e+00  5.56288836e-01\n",
      " -5.52955021e-01  3.05988163e+00 -9.01812400e-01 -1.35020308e-01\n",
      "  1.64498911e+00  6.70242586e-01 -4.97939299e+00  3.81427574e-01\n",
      " -9.31307467e-01  1.70841273e-01 -7.78345427e-01 -3.54161283e-01\n",
      " -1.10572552e+00  7.34496168e-01 -2.34808234e-01  1.40326613e+00\n",
      " -3.57958806e+00 -4.75512868e+00 -2.62377823e-01  4.10287988e-01\n",
      "  1.67385854e-02 -8.85107307e-01  1.72671587e+00  1.37431244e+00\n",
      " -1.74465264e-01  1.26731585e+00 -7.94342407e-02 -6.56260698e+00\n",
      "  2.70504005e+00  9.37265822e-02  1.51726269e-01  1.96996341e-01\n",
      "  1.15448964e-01  4.91572101e-01  3.44754848e-01 -9.02936483e-01\n",
      "  3.02845143e+00 -3.76574761e-02  8.05411215e-01  6.94873946e-01\n",
      "  2.39183984e+00  2.62004019e+00 -2.67898901e+00  6.10823975e-01\n",
      "  3.81431595e+00 -2.34960692e+00 -1.23572966e+00  3.11884258e-01\n",
      " -2.18223708e-01 -1.05131459e+00  5.55833177e-01  2.44457878e+00\n",
      "  1.76128163e+00  1.65956758e+00 -1.25275652e-02 -1.25275652e-02\n",
      " -4.73625977e-01  5.48729430e-01 -6.77778081e-01  1.64936968e+00\n",
      " -3.50533850e-01 -3.87811325e-01 -7.43748507e-02 -2.99698627e+00\n",
      "  2.31840413e+00 -3.12851358e+00  2.72969890e-01 -5.83107627e-02\n",
      "  2.11239238e+00  7.56536351e-01 -1.90354412e+00 -3.00902332e+00\n",
      "  3.39640548e+00 -1.86952995e-01  3.62250295e-01 -8.23442621e-01\n",
      " -6.06604167e-01  4.94034628e-01  4.51907460e-01  2.09977448e+00\n",
      " -8.47973552e-01  4.13805185e-01  1.62418235e-01 -1.34338937e+00\n",
      "  5.36438123e-02  2.29684809e+00 -1.81891740e+00  5.56288836e-01\n",
      " -5.52955021e-01  3.05988163e+00 -9.01812400e-01 -1.35020308e-01\n",
      "  1.64498911e+00  6.70242586e-01 -4.97939299e+00  3.81427574e-01\n",
      " -9.31307467e-01  1.70841273e-01 -7.78345427e-01 -3.54161283e-01\n",
      " -1.10572552e+00  7.34496168e-01 -2.34808234e-01  1.40326613e+00\n",
      " -3.57958806e+00 -4.75512868e+00 -2.62377823e-01  4.10287988e-01\n",
      "  1.67385854e-02 -8.85107307e-01  1.72671587e+00  1.37431244e+00\n",
      " -1.74465264e-01  1.26731585e+00 -7.94342407e-02 -6.56260698e+00\n",
      "  2.70504005e+00  9.37265822e-02  1.51726269e-01  1.96996341e-01\n",
      "  1.15448964e-01  4.91572101e-01  3.44754848e-01 -9.02936483e-01\n",
      "  3.02845143e+00 -3.76574761e-02  8.05411215e-01  6.94873946e-01\n",
      "  2.39183984e+00  2.62004019e+00 -2.67898901e+00  6.10823975e-01\n",
      "  3.81431595e+00 -2.34960692e+00 -1.23572966e+00  3.11884258e-01\n",
      " -2.18223708e-01 -1.05131459e+00  5.55833177e-01  2.44457878e+00\n",
      "  1.76128163e+00  1.65956758e+00  1.10895940e+00  1.48779705e+00\n",
      "  1.39810038e+00  1.81454869e+00  1.99422794e+00  1.10895940e+00\n",
      "  1.48779705e+00  1.39810038e+00  1.81454869e+00  6.38411716e-03\n",
      " -8.19583462e-02  2.00356255e-01 -3.42195661e+07  3.36252603e-01\n",
      "  3.44364904e+07]\n"
     ]
    }
   ],
   "source": [
    "print(clf.coef_)"
   ]
  },
  {
   "cell_type": "code",
   "execution_count": 72,
   "metadata": {},
   "outputs": [],
   "source": [
    "predictions = clf.predict(X_te)"
   ]
  },
  {
   "cell_type": "code",
   "execution_count": 73,
   "metadata": {},
   "outputs": [
    {
     "data": {
      "text/plain": [
       "array([5271.54558812, 2925.59188044, 7522.11171961, ...,  792.19932387,\n",
       "       7460.74226616, 5307.24275979])"
      ]
     },
     "execution_count": 73,
     "metadata": {},
     "output_type": "execute_result"
    }
   ],
   "source": [
    "predictions"
   ]
  },
  {
   "cell_type": "code",
   "execution_count": 74,
   "metadata": {},
   "outputs": [
    {
     "data": {
      "text/plain": [
       "0.9999978967921683"
      ]
     },
     "execution_count": 74,
     "metadata": {},
     "output_type": "execute_result"
    }
   ],
   "source": [
    "clf.score(X_tr,y_train)"
   ]
  },
  {
   "cell_type": "code",
   "execution_count": 75,
   "metadata": {},
   "outputs": [],
   "source": [
    "from sklearn import metrics"
   ]
  },
  {
   "cell_type": "code",
   "execution_count": 76,
   "metadata": {},
   "outputs": [
    {
     "data": {
      "text/plain": [
       "1133.6816504708167"
      ]
     },
     "execution_count": 76,
     "metadata": {},
     "output_type": "execute_result"
    }
   ],
   "source": [
    "metrics.mean_absolute_error(y_test, predictions)"
   ]
  },
  {
   "cell_type": "code",
   "execution_count": 77,
   "metadata": {},
   "outputs": [
    {
     "data": {
      "text/plain": [
       "1872515.9740410107"
      ]
     },
     "execution_count": 77,
     "metadata": {},
     "output_type": "execute_result"
    }
   ],
   "source": [
    "metrics.mean_squared_error(y_test, predictions)"
   ]
  },
  {
   "cell_type": "code",
   "execution_count": 78,
   "metadata": {},
   "outputs": [
    {
     "data": {
      "text/plain": [
       "<matplotlib.axes._subplots.AxesSubplot at 0x1c4e0e185b0>"
      ]
     },
     "execution_count": 78,
     "metadata": {},
     "output_type": "execute_result"
    },
    {
     "data": {
      "image/png": "[encoded data removed]",
      "text/plain": [
       "<Figure size 432x288 with 1 Axes>"
      ]
     },
     "metadata": {
      "needs_background": "light"
     },
     "output_type": "display_data"
    }
   ],
   "source": [
    "from sklearn.neighbors import KernelDensity\n",
    "sns.kdeplot(data=y, shade=True)"
   ]
  },
  {
   "cell_type": "code",
   "execution_count": 79,
   "metadata": {},
   "outputs": [
    {
     "data": {
      "text/plain": [
       "<matplotlib.axes._subplots.AxesSubplot at 0x1c4d4d4b0a0>"
      ]
     },
     "execution_count": 79,
     "metadata": {},
     "output_type": "execute_result"
    },
    {
     "data": {
      "image/png": "[encoded data removed]",
      "text/plain": [
       "<Figure size 432x288 with 2 Axes>"
      ]
     },
     "metadata": {
      "needs_background": "light"
     },
     "output_type": "display_data"
    }
   ],
   "source": [
    "sns.kdeplot(y,new_df['ticket_id'], cbar=True)"
   ]
  },
  {
   "cell_type": "code",
   "execution_count": 80,
   "metadata": {},
   "outputs": [
    {
     "data": {
      "image/png": "[encoded data removed]",
      "text/plain": [
       "<Figure size 432x288 with 1 Axes>"
      ]
     },
     "metadata": {
      "needs_background": "light"
     },
     "output_type": "display_data"
    }
   ],
   "source": [
    "ax = sns.distplot(y, hist=True, hist_kws={\"edgecolor\": 'w', \"linewidth\": 3}, kde_kws={\"linewidth\": 3})"
   ]
  },
  {
   "cell_type": "code",
   "execution_count": 81,
   "metadata": {},
   "outputs": [
    {
     "data": {
      "text/plain": [
       "Text(0.5, 0, 'height')"
      ]
     },
     "execution_count": 81,
     "metadata": {},
     "output_type": "execute_result"
    },
    {
     "data": {
      "image/png": "[encoded data removed]",
      "text/plain": [
       "<Figure size 432x288 with 1 Axes>"
      ]
     },
     "metadata": {
      "needs_background": "light"
     },
     "output_type": "display_data"
    }
   ],
   "source": [
    "ax = sns.boxplot(y)\n",
    "\n",
    "ax.annotate('Outlier', xy=(5000,0), xytext=(5000,-0.05), fontsize=10,\n",
    "            arrowprops=dict(arrowstyle='->', ec='grey', lw=2), bbox = dict(boxstyle=\"round\", fc=\"0.8\"))\n",
    "\n",
    "# xtick, label, and title\n",
    "plt.xticks(fontsize=14)\n",
    "\n",
    "# check xgboost version\n",
    "plt.xlabel('height', fontsize=14)"
   ]
  },
  {
   "cell_type": "code",
   "execution_count": 84,
   "metadata": {},
   "outputs": [],
   "source": [
    "import xgboost as xbg\n",
    "model_xgb = xbg.XGBRegressor(objective ='reg:linear',n_estimators=100, max_depth=7, eta=0.1, subsample=0.7, colsample_bytree=0.8)"
   ]
  },
  {
   "cell_type": "code",
   "execution_count": 85,
   "metadata": {},
   "outputs": [
    {
     "data": {
      "text/plain": [
       "XGBRegressor(base_score=0.5, booster='gbtree', colsample_bylevel=1,\n",
       "             colsample_bynode=1, colsample_bytree=0.8, eta=0.1, gamma=0,\n",
       "             gpu_id=-1, importance_type='gain', interaction_constraints='',\n",
       "             learning_rate=0.100000001, max_delta_step=0, max_depth=7,\n",
       "             min_child_weight=1, missing=nan, monotone_constraints='()',\n",
       "             n_estimators=1000, n_jobs=4, num_parallel_tree=1, random_state=0,\n",
       "             reg_alpha=0, reg_lambda=1, scale_pos_weight=1, subsample=0.7,\n",
       "             tree_method='exact', validate_parameters=1, verbosity=None)"
      ]
     },
     "execution_count": 85,
     "metadata": {},
     "output_type": "execute_result"
    }
   ],
   "source": [
    "model_xgb.fit(X_tr, y_train)"
   ]
  },
  {
   "cell_type": "code",
   "execution_count": 86,
   "metadata": {},
   "outputs": [
    {
     "data": {
      "text/plain": [
       "array([3017.1755, 3031.901 , 3052.2954, ..., 3054.2556, 3187.1262,\n",
       "       3053.2214], dtype=float32)"
      ]
     },
     "execution_count": 86,
     "metadata": {},
     "output_type": "execute_result"
    }
   ],
   "source": [
    "model_xgb.predict(X_te)"
   ]
  },
  {
   "cell_type": "code",
   "execution_count": 87,
   "metadata": {},
   "outputs": [
    {
     "data": {
      "text/plain": [
       "0.9999981318350294"
      ]
     },
     "execution_count": 87,
     "metadata": {},
     "output_type": "execute_result"
    }
   ],
   "source": [
    "model_xgb.score(X_tr,y_train)"
   ]
  },
  {
   "cell_type": "code",
   "execution_count": null,
   "metadata": {},
   "outputs": [],
   "source": []
  }
 ],
 "metadata": {
  "kernelspec": {
   "display_name": "Python 3",
   "language": "python",
   "name": "python3"
  },
  "language_info": {
   "codemirror_mode": {
    "name": "ipython",
    "version": 3
   },
   "file_extension": ".py",
   "mimetype": "text/x-python",
   "name": "python",
   "nbconvert_exporter": "python",
   "pygments_lexer": "ipython3",
   "version": "3.8.3"
  }
 },
 "nbformat": 4,
 "nbformat_minor": 4
}
